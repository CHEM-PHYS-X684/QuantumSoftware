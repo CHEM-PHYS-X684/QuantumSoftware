{
 "cells": [
  {
   "cell_type": "markdown",
   "id": "104b88a6-debb-451f-a5d9-bfeebadb7959",
   "metadata": {},
   "source": [
    "# Introduction to the Monte Carlo method\n",
    "\n",
    "----\n",
    "\n",
    "Start by defining the [Gibbs (or Boltzmann) distribution](https://en.wikipedia.org/wiki/Boltzmann_distribution):\n",
    "$$P(\\alpha) = e^{-E(\\alpha)/kT}$$\n",
    "this expression, defines the probability of observing a particular configuration of spins, $\\alpha$. \n",
    "As you can see, the probability of $\\alpha$ decays exponentially with increasing energy of $\\alpha$, $E(\\alpha)$,\n",
    "where $k$ is the Boltzmann constant, $k = 1.38064852 \\times 10^{-23} J/K$\n",
    "and $T$ is the temperature in Kelvin. \n",
    "\n",
    "## What defines the energy of a configuration of spins? \n",
    "Given a configuration of spins (e.g., $\\uparrow\\downarrow\\downarrow\\uparrow\\downarrow$) we can define the energy using what is referred to as an Ising Hamiltonian:\n",
    "$$ \\hat{H}' = \\frac{\\hat{H}}{k} = -\\frac{J}{k}\\sum_{<ij>} s_is_j,$$\n",
    "where, $s_i=1$ if the $i^{th}$ spin is `up` and $s_i=-1$ if it is `down`, and the brackets $<ij>$ indicate a sum over spins that are connected,\n",
    "and $J$ is a constant that determines the energy scale. \n",
    "The energy here has been divided by the Boltzmann constant to yield units of temperature. \n",
    "Let's consider the following case, which has the sites connected in a single 1D line:\n",
    "$$\\alpha = \\uparrow-\\downarrow-\\downarrow-\\uparrow-\\downarrow.$$ \n",
    "What is the energy of such a configuration?\n",
    "$$ E(\\alpha)' = J/k(-1 + 1 - 1 - 1) = \\frac{E(\\alpha)}{k} = -2J/k$$\n",
    "\n",
    "## P1: Write a class that defines a spin configuration"
   ]
  },
  {
   "cell_type": "code",
   "execution_count": 1,
   "id": "529dbc32-dd81-4181-b201-77e39ce16c2e",
   "metadata": {},
   "outputs": [],
   "source": [
    "import random\n",
    "\n",
    "class SpinConfiguration:\n",
    "    def __init__(self):\n",
    "        '''\n",
    "        Creates a SpinConfiguration object with an empty list as its object data.\n",
    "        '''\n",
    "        \n",
    "        self.config = []\n",
    "    \n",
    "    def __str__(self):\n",
    "        '''\n",
    "        Returns a string containing the entries of self.config when the print function is applied to\n",
    "        a SpinConfiguration object.\n",
    "        '''\n",
    "        \n",
    "        list_string = \"\" # string to be filled using for loop\n",
    "        for i in range(len(self.config)): # executes for every entry in self.config\n",
    "            if i == len(self.config)-1: # specifies that last entry should be appended to the string with a period\n",
    "                list_string += str(self.config[i]) + \".\"\n",
    "            else:\n",
    "                list_string += str(self.config[i]) + \", \" # separation character between entries is a comma\n",
    "        return list_string\n",
    "\n",
    "        \n",
    "    def initialize(self,order):\n",
    "        '''\n",
    "        Allows user to assign a list of 1's (up spin) and 0's (down spin) to a SpinConfiguration object.\n",
    "        '''\n",
    "        \n",
    "        self.config = order\n",
    "        \n",
    "        \n",
    "    def n_sites(self):\n",
    "        '''\n",
    "        Returns the number of sites for the configuration represented by a SpinConfiguration object.\n",
    "        '''\n",
    "        \n",
    "        return len(self.config)\n",
    "        \n",
    "        \n",
    "    def randomize(self,N):\n",
    "        '''\n",
    "        Uses the random.choice function to create a randomly generated spin configuration with N sites.\n",
    "        '''\n",
    "        \n",
    "        for i in range(N): # executes N times\n",
    "            self.config.append(random.choice([0,1])) # randomly adds a 0 or 1 to the end of self.config\n",
    "            \n"
   ]
  },
  {
   "cell_type": "code",
   "execution_count": 2,
   "id": "1ce4f121",
   "metadata": {},
   "outputs": [
    {
     "name": "stdout",
     "output_type": "stream",
     "text": [
      "0, 1, 1, 0, 1, 0, 1, 1, 0.\n",
      "0, 0, 0, 0, 1.\n",
      "5\n"
     ]
    }
   ],
   "source": [
    "#\n",
    "# This cell contains code that was used to test some of the functions in the SpinConfiguration class.\n",
    "#\n",
    "\n",
    "# creates SpinConfiguration object by calling constructor\n",
    "config_test = SpinConfiguration()\n",
    "\n",
    "# calls initialize method to store a copy of the list passed in as an argument\n",
    "config_test.initialize([0,1,1,0,1,0,1,1,0])\n",
    "\n",
    "# prints the list of spins stored in config_test, where 0 = down spin and 1 = up spin.\n",
    "print(config_test)\n",
    "\n",
    "# creates a new SpinConfiguration object\n",
    "config_test_two = SpinConfiguration()\n",
    "\n",
    "# creates a configuration with 5 spins that are randomly selected\n",
    "config_test_two.randomize(5)\n",
    "\n",
    "print(config_test_two) # prints spin list stored in config_test_two\n",
    "print(config_test_two.n_sites()) # prints number of sites represented by config_test_two"
   ]
  },
  {
   "cell_type": "markdown",
   "id": "989abe5d-689d-427b-b3c0-bb7a130594d8",
   "metadata": {},
   "source": [
    "## P2: Write a class that defines the 1D hamiltonian, containing a function that computes the energy of a configuration"
   ]
  },
  {
   "cell_type": "code",
   "execution_count": 3,
   "id": "50dbe70d-8e24-4551-99e6-82e55527c30d",
   "metadata": {},
   "outputs": [],
   "source": [
    "class Hamiltonian:      \n",
    "    def __init__(self):\n",
    "        '''\n",
    "        Creates a Hamiltonian object with J = 0.\n",
    "        '''\n",
    "        \n",
    "        self.J = 0\n",
    "        \n",
    "        \n",
    "    def __str__(self):\n",
    "        '''\n",
    "        Returns a string providing the value of J associated with a Hamiltonian object when the print\n",
    "        function is called.\n",
    "        '''\n",
    "        \n",
    "        return \"J = \" + str(self.J)\n",
    "        \n",
    "        \n",
    "    def initialize(self,J):\n",
    "        '''\n",
    "        Allows user to pass in a value of J to be stored in the Hamiltonian object.\n",
    "        '''\n",
    "        \n",
    "        self.J = J\n",
    "        \n",
    "        \n",
    "    def compute_energy(self,spins,string_representation=True):\n",
    "        '''\n",
    "        Computes the energy of a SpinConfiguration object according to the formula given in the markdown text above.\n",
    "        The string_representation argument controls whether the energy is returned in a string form (\"number*J/k\") or\n",
    "        if a numerical approximation is returned.\n",
    "        '''\n",
    "        \n",
    "        BOLTZMANN_CONSTANT = 1.381*pow(10,-23) # Boltzmann's constant as given above\n",
    "        sum_products = 0 # value to be updated in for loop; represents the result of the sum given above\n",
    "        \n",
    "        for i in range(len(spins.config)-1): # iterates until the second-to-last element to avoid index error\n",
    "            if spins.config[i] == spins.config[i+1]: # if spins of adjacent sites match\n",
    "                sum_products += 1 # adds 1 to the sum_products value\n",
    "            else: # if spins of adjacent sites do not match\n",
    "                sum_products += -1 # subtracts 1 from the sum_products value\n",
    "        \n",
    "        if string_representation: # returns string representation\n",
    "            return str(sum_products) + \"J/k\"\n",
    "        else: # returns numerical approximation\n",
    "            return (sum_products * self.J) / BOLTZMANN_CONSTANT"
   ]
  },
  {
   "cell_type": "code",
   "execution_count": 4,
   "id": "0b525c72",
   "metadata": {},
   "outputs": [
    {
     "name": "stdout",
     "output_type": "stream",
     "text": [
      "-2J/k\n"
     ]
    }
   ],
   "source": [
    "#\n",
    "# Test of Hamiltonian compute_energy function using the example given in the markdown section above\n",
    "#\n",
    "\n",
    "# creates SpinConfiguration object\n",
    "config_example = SpinConfiguration()\n",
    "# creates Hamiltonian object\n",
    "hamiltonian_example = Hamiltonian()\n",
    "\n",
    "# initializes config_example with the example configuration (up-down-down-up-down)\n",
    "config_example.initialize([1,0,0,1,0])\n",
    "# computes the energy of the example configuration and prints the result\n",
    "print(hamiltonian_example.compute_energy(config_example))"
   ]
  },
  {
   "cell_type": "markdown",
   "id": "2d7b8fce-cc23-4686-a3ed-8d97592043d4",
   "metadata": {},
   "source": [
    "## Q3: What is the energy for (++-+---+--+)?"
   ]
  },
  {
   "cell_type": "code",
   "execution_count": 5,
   "id": "047ed505",
   "metadata": {},
   "outputs": [
    {
     "name": "stdout",
     "output_type": "stream",
     "text": [
      "-2J/k\n"
     ]
    }
   ],
   "source": [
    "config1 = SpinConfiguration()\n",
    "hamiltonian1 = Hamiltonian()\n",
    "\n",
    "# sets spin configuration to the given state (with '+' = 1, '-' = 0)\n",
    "config1.initialize([1,1,0,1,0,0,0,1,0,0,1])\n",
    "\n",
    "# computes energy of the the given state and prints the result\n",
    "print(hamiltonian1.compute_energy(config1))"
   ]
  },
  {
   "cell_type": "code",
   "execution_count": 6,
   "id": "5fea85d2",
   "metadata": {},
   "outputs": [
    {
     "name": "stdout",
     "output_type": "stream",
     "text": [
      "-2.8964518464880524e+23\n"
     ]
    }
   ],
   "source": [
    "# sets J constant to 2 (arbitrarily)\n",
    "hamiltonian1.initialize(2)\n",
    "\n",
    "# prints the numerical approximation for the energy\n",
    "print(hamiltonian1.compute_energy(config1,False))"
   ]
  },
  {
   "cell_type": "markdown",
   "id": "f0c9d016-a10a-42d2-9a0f-388c52b2544b",
   "metadata": {},
   "source": [
    "## Properties\n",
    "For any fixed state, $\\alpha$, the `magnetization` ($M$) is proportional to the _excess_ number of spins pointing up or down while the energy is given by the\n",
    "Hamiltonian:\n",
    "$$M(\\alpha) = N_{\\text{up}}(\\alpha) - N_{\\text{down}}(\\alpha).$$\n",
    "As a dynamical, fluctuating system, each time you measure the magnetization, the system might be in a different state ($\\alpha$) and so you'll get a different number!\n",
    "However, we already know what the probability of measuring any particular $\\alpha$ is, so in order to compute the average magnetization, $\\left<M\\right>$, we just need to multiply the magnetization of each possible configuration times the probability of it being measured, and then add them all up!\n",
    "$$ \\left<M\\right> = \\sum_\\alpha M(\\alpha)P(\\alpha).$$\n",
    "In fact, any average value can be obtained by adding up the value of an individual configuration multiplied by it's probability:\n",
    "$$ \\left<E\\right> = \\sum_\\alpha E(\\alpha)P(\\alpha).$$\n",
    "\n",
    "This means that to obtain any average value (also known as an `expectation value`) computationally, we must compute the both the value and probability of all possible configurations. This becomes extremely expensive as the number of spins ($N$) increases. "
   ]
  },
  {
   "cell_type": "markdown",
   "id": "941eae54-5115-480b-8398-b17c3c75c956",
   "metadata": {},
   "source": [
    "## P3: Write a function that computes the magnetization of a spin configuration"
   ]
  },
  {
   "cell_type": "code",
   "execution_count": 7,
   "id": "8139466b-5b34-469a-92f4-97b57c21ae6b",
   "metadata": {},
   "outputs": [],
   "source": [
    "def compute_magnetization(spins):\n",
    "    '''\n",
    "    Computes the magnetization (Number of up spins - Number of down spins) for a SpinConfiguration object passed in\n",
    "    as an argument.\n",
    "    '''\n",
    "    \n",
    "    n_up = 0 # initializes counter for number of up spins\n",
    "    n_down = 0 # initializes counter for number of down spins\n",
    "    \n",
    "    for spin in spins.config: # cycles through each element in spins.config\n",
    "        if spin == 1: # if spin is up\n",
    "            n_up += 1 # increment n_up\n",
    "        else: # if spin is down\n",
    "            n_down += 1 # increment n_down\n",
    "\n",
    "    return n_up - n_down # return the magnetization of this particular configuration"
   ]
  },
  {
   "cell_type": "code",
   "execution_count": 8,
   "id": "67ef1496",
   "metadata": {},
   "outputs": [
    {
     "name": "stdout",
     "output_type": "stream",
     "text": [
      "-1\n"
     ]
    }
   ],
   "source": [
    "#\n",
    "# Testing whether the compute_magnetization function works as intended for config1, config_example and config_test\n",
    "#\n",
    "print(compute_magnetization(config1)) # configuration considered in Q3"
   ]
  },
  {
   "cell_type": "code",
   "execution_count": 9,
   "id": "1d027b9a",
   "metadata": {},
   "outputs": [
    {
     "name": "stdout",
     "output_type": "stream",
     "text": [
      "-1\n"
     ]
    }
   ],
   "source": [
    "print(compute_magnetization(config_example)) # configuration given at the beginning of this notebook"
   ]
  },
  {
   "cell_type": "code",
   "execution_count": 10,
   "id": "08ec0007",
   "metadata": {},
   "outputs": [
    {
     "name": "stdout",
     "output_type": "stream",
     "text": [
      "1\n"
     ]
    }
   ],
   "source": [
    "print(compute_magnetization(config_test)) # configuration created to test the SpinConfiguration initialize function"
   ]
  },
  {
   "cell_type": "markdown",
   "id": "033109e0-109f-4c64-b0ee-2e0483358c7b",
   "metadata": {},
   "source": [
    "## Q2: How many configurations are possible for:"
   ]
  },
  {
   "cell_type": "markdown",
   "id": "6ef8a8f2-7e4d-459b-9b2b-7c66c61d4af3",
   "metadata": {},
   "source": [
    "(a) N=10?"
   ]
  },
  {
   "cell_type": "code",
   "execution_count": 11,
   "id": "a9f3860d-ae6d-41dc-9cb5-ceef514ae2ec",
   "metadata": {},
   "outputs": [
    {
     "data": {
      "text/plain": [
       "1024"
      ]
     },
     "execution_count": 11,
     "metadata": {},
     "output_type": "execute_result"
    }
   ],
   "source": [
    "# 10 sites available, which can either be spin up or spin down (2 choices for each site).\n",
    "# So 2 choices for site 1 * 2 choices for site 2 * ... * 2 choices for site 10 = number of configurations.\n",
    "\n",
    "2**10"
   ]
  },
  {
   "cell_type": "markdown",
   "id": "8242f238-6005-417a-befe-436bf654d848",
   "metadata": {},
   "source": [
    "(b) N=100?"
   ]
  },
  {
   "cell_type": "code",
   "execution_count": 12,
   "id": "59190a5e-8eed-42ae-8363-4d7bcbbdd01f",
   "metadata": {},
   "outputs": [
    {
     "data": {
      "text/plain": [
       "1267650600228229401496703205376"
      ]
     },
     "execution_count": 12,
     "metadata": {},
     "output_type": "execute_result"
    }
   ],
   "source": [
    "# 100 sites available, which can either be spin up or spin down (2 choices for each site).\n",
    "\n",
    "2**100"
   ]
  },
  {
   "cell_type": "markdown",
   "id": "0acb89e4-c9ec-4828-882b-036ca7f70091",
   "metadata": {},
   "source": [
    "(c) N=1000?"
   ]
  },
  {
   "cell_type": "code",
   "execution_count": 13,
   "id": "b4f6d6e9-4379-409f-8a31-9b6d65a6f5fd",
   "metadata": {
    "scrolled": true
   },
   "outputs": [
    {
     "data": {
      "text/plain": [
       "10715086071862673209484250490600018105614048117055336074437503883703510511249361224931983788156958581275946729175531468251871452856923140435984577574698574803934567774824230985421074605062371141877954182153046474983581941267398767559165543946077062914571196477686542167660429831652624386837205668069376"
      ]
     },
     "execution_count": 13,
     "metadata": {},
     "output_type": "execute_result"
    }
   ],
   "source": [
    "# 1000 sites available, which can either be spin up or spin down (2 choices for each site).\n",
    "\n",
    "2**1000"
   ]
  }
 ],
 "metadata": {
  "kernelspec": {
   "display_name": "Python 3 (ipykernel)",
   "language": "python",
   "name": "python3"
  },
  "language_info": {
   "codemirror_mode": {
    "name": "ipython",
    "version": 3
   },
   "file_extension": ".py",
   "mimetype": "text/x-python",
   "name": "python",
   "nbconvert_exporter": "python",
   "pygments_lexer": "ipython3",
   "version": "3.8.10"
  }
 },
 "nbformat": 4,
 "nbformat_minor": 5
}
