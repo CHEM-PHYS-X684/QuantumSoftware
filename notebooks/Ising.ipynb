{
 "cells": [
  {
   "cell_type": "markdown",
   "id": "8924366c",
   "metadata": {},
   "source": [
    "# Introduction to the Monte Carlo method\n",
    "\n",
    "----\n",
    "\n",
    "Start by defining the [Gibbs (or Boltzmann) distribution](https://en.wikipedia.org/wiki/Boltzmann_distribution):\n",
    "$$P(\\alpha) = e^{-E(\\alpha)/kT}$$\n",
    "this expression, defines the probability of observing a particular configuration of spins, $\\alpha$. \n",
    "As you can see, the probability of $\\alpha$ decays exponentially with increasing energy of $\\alpha$, $E(\\alpha)$,\n",
    "where $k$ is the Boltzmann constant, $k = 1.38064852 \\times 10^{-23} J/K$\n",
    "and $T$ is the temperature in Kelvin. \n",
    "\n",
    "## What defines the energy of a configuration of spins? \n",
    "Given a configuration of spins (e.g., $\\uparrow\\downarrow\\downarrow\\uparrow\\downarrow$) we can define the energy using what is referred to as an Ising Hamiltonian:\n",
    "$$ \\hat{H}' = \\frac{\\hat{H}}{k} = -\\frac{J}{k}\\sum_{<ij>} s_is_j,$$\n",
    "where, $s_i=1$ if the $i^{th}$ spin is `up` and $s_i=-1$ if it is `down`, and the brackets $<ij>$ indicate a sum over spins that are connected,\n",
    "and $J$ is a constant that determines the energy scale. \n",
    "The energy here has been divided by the Boltzmann constant to yield units of temperature. \n",
    "Let's consider the following case, which has the sites connected in a single 1D line:\n",
    "$$\\alpha = \\uparrow-\\downarrow-\\downarrow-\\uparrow-\\downarrow.$$ \n",
    "What is the energy of such a configuration?\n",
    "$$ E(\\alpha)' = J/k(-1 + 1 - 1 - 1) = \\frac{E(\\alpha)}{k} = -2J/k$$\n",
    "\n",
    "## P1: Write a class that defines a spin configuration"
   ]
  },
  {
   "cell_type": "code",
   "execution_count": 2,
   "id": "552b3390",
   "metadata": {},
   "outputs": [],
   "source": [
    "class SpinConfig :\n",
    "    def __init__(self, *args) :\n",
    "        \"\"\"\n",
    "        Initialize a spin configuration.\n",
    "        Parameters:\n",
    "        spins: a list of 1's and -1's that represent the spins.\n",
    "        OR\n",
    "        value: a number representing the spin state, with 1's being spin up and 0's being spin downs.\n",
    "        length: a number representing the number of spinning things.\n",
    "        \"\"\"\n",
    "        if len(args) == 1 :\n",
    "            spins = args[0]\n",
    "            assert(all(s == 1 or s == -1 for s in spins))\n",
    "            self.__spins = list(spins)\n",
    "            self.__len = len(spins)\n",
    "        elif len(args) == 2 :\n",
    "            assert(type(args[0]) is int)\n",
    "            value = args[0]\n",
    "            length = args[1]\n",
    "            self.__spins = []\n",
    "            for i in range(length) :\n",
    "                self.__spins.insert(0, 2 * (value & 1) - 1)\n",
    "                value = value >> 1\n",
    "            self.__len = length\n",
    "    def __len__(self) :\n",
    "        return self.__len\n",
    "    def __str__(self) :\n",
    "        return str(self.__spins)\n",
    "    def __getitem__(self, index) :\n",
    "        return self.__spins[index]\n",
    "    def __setitem__(self, index, value) :\n",
    "        assert(value == 1 or value == -1)\n",
    "        self.__spins[index] = value\n",
    "        return value\n",
    "    def __iter__(self) :\n",
    "        return iter(self.__spins)\n",
    "    "
   ]
  },
  {
   "cell_type": "markdown",
   "id": "33eeaf2c",
   "metadata": {},
   "source": [
    "## P2: Write a class that defines the 1D hamiltonian, containing a function that computes the energy of a configuration"
   ]
  },
  {
   "cell_type": "code",
   "execution_count": 3,
   "id": "496f7286",
   "metadata": {},
   "outputs": [],
   "source": [
    "boltzmann_k = 1.38064852e-23\n",
    "boltzmann_k_hart = 3.167e-6\n",
    "class Hamiltonian :\n",
    "    def __init__(self, coupling, magnet, spinconf) :\n",
    "        self.__spins = spinconf\n",
    "        self.__coupling = coupling\n",
    "        self.__magnet = magnet\n",
    "    def getspins(self) :\n",
    "        return self.__spins\n",
    "    def getcoupling(self) :\n",
    "        return self.__coupling\n",
    "    def getmagnet(self) :\n",
    "        return self.__magnet\n",
    "    def findenergy(self) :\n",
    "        return -self.__coupling * sum(self.__spins[i - 1] * self.__spins[i] \n",
    "                                                   for i in range(len(self.__spins))) + \\\n",
    "            self.__magnet * sum(self.__spins)\n",
    "    def findtemp(self) :\n",
    "        return self.findenergy() / boltzmann_k\n",
    "    "
   ]
  },
  {
   "cell_type": "markdown",
   "id": "596975cd",
   "metadata": {},
   "source": [
    "## Properties\n",
    "For any fixed state, $\\alpha$, the `magnetization` ($M$) is proportional to the _excess_ number of spins pointing up or down while the energy is given by the\n",
    "Hamiltonian:\n",
    "$$M(\\alpha) = N_{\\text{up}}(\\alpha) - N_{\\text{down}}(\\alpha).$$\n",
    "As a dynamical, fluctuating system, each time you measure the magnetization, the system might be in a different state ($\\alpha$) and so you'll get a different number!\n",
    "However, we already know what the probability of measuring any particular $\\alpha$ is, so in order to compute the average magnetization, $\\left<M\\right>$, we just need to multiply the magnetization of each possible configuration times the probability of it being measured, and then add them all up!\n",
    "$$ \\left<M\\right> = \\sum_\\alpha M(\\alpha)P(\\alpha).$$\n",
    "In fact, any average value can be obtained by adding up the value of an individual configuration multiplied by it's probability:\n",
    "$$ \\left<E\\right> = \\sum_\\alpha E(\\alpha)P(\\alpha).$$\n",
    "\n",
    "This means that to obtain any average value (also known as an `expectation value`) computationally, we must compute the both the value and probability of all possible configurations. This becomes extremely expensive as the number of spins ($N$) increases. "
   ]
  },
  {
   "cell_type": "markdown",
   "id": "997862df",
   "metadata": {},
   "source": [
    "## P3: Write a function that computes the magnetization of a spin configuration"
   ]
  },
  {
   "cell_type": "code",
   "execution_count": 4,
   "id": "e0ea90e9",
   "metadata": {},
   "outputs": [],
   "source": [
    "def magnetization(spinconf) :\n",
    "    return len(list(filter(lambda s: s == 1, spinconf))) - len(list(filter(lambda s: s == -1, spinconf)))"
   ]
  },
  {
   "cell_type": "markdown",
   "id": "8dd3b351",
   "metadata": {},
   "source": [
    "## Q2: How many configurations are possible for:"
   ]
  },
  {
   "cell_type": "markdown",
   "id": "0c47148e",
   "metadata": {},
   "source": [
    "(a) N=10?"
   ]
  },
  {
   "cell_type": "code",
   "execution_count": 5,
   "id": "e184a1ac",
   "metadata": {},
   "outputs": [
    {
     "data": {
      "text/plain": [
       "1024"
      ]
     },
     "execution_count": 5,
     "metadata": {},
     "output_type": "execute_result"
    }
   ],
   "source": [
    "def numconf(sites) :\n",
    "    if type(sites) is int :\n",
    "        return 2 ** sites\n",
    "    else :\n",
    "        return 2 ** len(sites)\n",
    "numconf(10)"
   ]
  },
  {
   "cell_type": "markdown",
   "id": "ddb0a7ef",
   "metadata": {},
   "source": [
    "(b) N=100?"
   ]
  },
  {
   "cell_type": "code",
   "execution_count": 6,
   "id": "9215d617",
   "metadata": {},
   "outputs": [
    {
     "data": {
      "text/plain": [
       "1267650600228229401496703205376"
      ]
     },
     "execution_count": 6,
     "metadata": {},
     "output_type": "execute_result"
    }
   ],
   "source": [
    "numconf(100)"
   ]
  },
  {
   "cell_type": "markdown",
   "id": "185bc919",
   "metadata": {},
   "source": [
    "(c) N=1000?"
   ]
  },
  {
   "cell_type": "markdown",
   "id": "234a754c",
   "metadata": {},
   "source": [
    "## Q3: What is the energy for (++-+---+--+)?"
   ]
  },
  {
   "cell_type": "code",
   "execution_count": 7,
   "id": "c2f1d182",
   "metadata": {},
   "outputs": [
    {
     "data": {
      "text/plain": [
       "0.8999999999999999"
      ]
     },
     "execution_count": 7,
     "metadata": {},
     "output_type": "execute_result"
    }
   ],
   "source": [
    "config = SpinConfig([1, 1, -1, 1, -1, -1, -1, 1, -1, -1, 1])\n",
    "ham = Hamiltonian(2, 1.1, config)\n",
    "ham.findenergy()"
   ]
  },
  {
   "cell_type": "markdown",
   "id": "bd80a927",
   "metadata": {},
   "source": [
    "Find the partition function with a given magnetization and coupling constant, at a given temperature, for a given number of positions."
   ]
  },
  {
   "cell_type": "code",
   "execution_count": 8,
   "id": "e038cf2d",
   "metadata": {},
   "outputs": [],
   "source": [
    "import math\n",
    "def partition(positions, coupling, magnet, temp = 298.15) :\n",
    "    return sum(math.exp(-Hamiltonian(coupling, magnet, SpinConfig(s, positions)).findenergy() / \n",
    "                        temp) for s in range(numconf(positions)))"
   ]
  },
  {
   "cell_type": "code",
   "execution_count": 9,
   "id": "7eb6497a",
   "metadata": {},
   "outputs": [
    {
     "data": {
      "text/plain": [
       "1024.3010643479497"
      ]
     },
     "execution_count": 9,
     "metadata": {},
     "output_type": "execute_result"
    }
   ],
   "source": [
    "partition(10, 2, 1.1)"
   ]
  },
  {
   "cell_type": "markdown",
   "id": "52ed1f91",
   "metadata": {},
   "source": [
    "Find the average value for a given function of spin configurations."
   ]
  },
  {
   "cell_type": "code",
   "execution_count": 10,
   "id": "bcfc1d84",
   "metadata": {},
   "outputs": [],
   "source": [
    "def average_value(avg_func, positions, coupling, magnet, temp = 298.15, *args, **kwargs) :\n",
    "    \"\"\"\n",
    "    avg_func expects a spin configuration. args and kwargs are passed in as well.\n",
    "    \"\"\"\n",
    "    return sum(avg_func(SpinConfig(s, positions), *args, **kwargs) * \n",
    "               math.exp(-Hamiltonian(coupling, magnet, SpinConfig(s, positions)).findenergy() / \n",
    "                        temp) for s in range(numconf(positions))) / \\\n",
    "        partition(positions, coupling, magnet, temp)"
   ]
  },
  {
   "cell_type": "markdown",
   "id": "03f6ef87",
   "metadata": {},
   "source": [
    "Average energy"
   ]
  },
  {
   "cell_type": "code",
   "execution_count": 11,
   "id": "89f83bba",
   "metadata": {},
   "outputs": [
    {
     "data": {
      "text/plain": [
       "-0.17556610117657653"
      ]
     },
     "execution_count": 11,
     "metadata": {},
     "output_type": "execute_result"
    }
   ],
   "source": [
    "average_value(lambda sp : Hamiltonian(2, 1.1, sp).findenergy(), 10, 2, 1.1)"
   ]
  },
  {
   "cell_type": "markdown",
   "id": "08a66e24",
   "metadata": {},
   "source": [
    "Average magnetization"
   ]
  },
  {
   "cell_type": "code",
   "execution_count": 12,
   "id": "f848d290",
   "metadata": {},
   "outputs": [
    {
     "data": {
      "text/plain": [
       "-0.03739231416188296"
      ]
     },
     "execution_count": 12,
     "metadata": {},
     "output_type": "execute_result"
    }
   ],
   "source": [
    "average_value(magnetization, 10, 2, 1.1)"
   ]
  },
  {
   "cell_type": "markdown",
   "id": "5511e253",
   "metadata": {},
   "source": [
    "Standard deviation for the energy"
   ]
  },
  {
   "cell_type": "code",
   "execution_count": 13,
   "id": "2522fd01",
   "metadata": {},
   "outputs": [
    {
     "data": {
      "text/plain": [
       "7.252007033869644"
      ]
     },
     "execution_count": 13,
     "metadata": {},
     "output_type": "execute_result"
    }
   ],
   "source": [
    "math.sqrt(average_value(lambda sp: (Hamiltonian(2, 1.1, sp).findenergy()) ** 2, 10, 2, 1.1) - \\\n",
    "    average_value(lambda sp: Hamiltonian(2, 1.1, sp).findenergy(), 10, 2, 1.1) ** 2)"
   ]
  },
  {
   "cell_type": "code",
   "execution_count": 35,
   "id": "347a9fe2",
   "metadata": {},
   "outputs": [
    {
     "data": {
      "image/png": "[encoded data removed]",
      "text/plain": [
       "<Figure size 432x288 with 1 Axes>"
      ]
     },
     "metadata": {
      "needs_background": "light"
     },
     "output_type": "display_data"
    },
    {
     "data": {
      "image/png": "[encoded data removed]",
      "text/plain": [
       "<Figure size 432x288 with 1 Axes>"
      ]
     },
     "metadata": {
      "needs_background": "light"
     },
     "output_type": "display_data"
    },
    {
     "data": {
      "image/png": "[encoded data removed]",
      "text/plain": [
       "<Figure size 432x288 with 1 Axes>"
      ]
     },
     "metadata": {
      "needs_background": "light"
     },
     "output_type": "display_data"
    }
   ],
   "source": [
    "import matplotlib.pyplot as plt\n",
    "import numpy as np\n",
    "import concurrent.futures\n",
    "\n",
    "J = -1\n",
    "M = 0.1\n",
    "N = 10\n",
    "\n",
    "xs = np.linspace(1, 298.15, 100)\n",
    "ex = concurrent.futures.ThreadPoolExecutor(4)\n",
    "ener = list(ex.map(lambda x: average_value(lambda sp: Hamiltonian(J * boltzmann_k,\n",
    "                                                                  M * boltzmann_k, sp).findenergy(), N, J, M, x), xs))\n",
    "mag = list(ex.map(lambda x: M * boltzmann_k * average_value(magnetization, N, J, M, x), xs))\n",
    "heat = list(ex.map(lambda x: (average_value(lambda sp: (Hamiltonian(J * boltzmann_k, M * boltzmann_k, \n",
    "                                                                    sp).findenergy()) ** 2, \n",
    "                                                  N, J, M, x) - \n",
    "                                    average_value(lambda sp: Hamiltonian(J * boltzmann_k,\n",
    "                                                                         M * boltzmann_k, sp).findenergy(),\n",
    "                                                  N, J, M, x)\n",
    "                                    ** 2) / (boltzmann_k * x ** 2), xs))\n",
    "ms = list(ex.map(lambda x: (average_value(lambda sp: (M * boltzmann_k * magnetization(sp)) ** 2, N, J, \n",
    "                                          M, x) - \n",
    "              (M * boltzmann_k * average_value(magnetization, N, J, M, x)) ** 2) / (boltzmann_k * x), xs))\n",
    "\n",
    "ent = list(ex.map(lambda x: boltzmann_k * (math.log(partition(N, M, J, x)) + \n",
    "                                                    average_value(lambda sp: Hamiltonian(J * boltzmann_k, \n",
    "                                                                                        M * boltzmann_k,\n",
    "                                                                                        sp).findenergy(), \n",
    "                                                                 N, J, M, x) / (boltzmann_k * x)), xs))\n",
    "\n",
    "ex.shutdown()\n",
    "\n",
    "plt.figure()\n",
    "plt.plot(xs, ener, label=\"Energy (J)\")\n",
    "plt.plot(xs, ent, label=\"Entropy (J/K)\")\n",
    "plt.plot(xs, heat, label=\"Heat Capacity (J/K)\")\n",
    "plt.legend()\n",
    "plt.figure()\n",
    "plt.plot(xs, mag, label=\"Magnetization (J/K)\")\n",
    "plt.legend()\n",
    "plt.figure()\n",
    "plt.plot(xs, ms, label=\"Magnetic Susceptibility (J/K²)\")\n",
    "plt.legend()\n",
    "plt.show()"
   ]
  },
  {
   "cell_type": "code",
   "execution_count": null,
   "id": "87ce7470",
   "metadata": {},
   "outputs": [],
   "source": []
  }
 ],
 "metadata": {
  "kernelspec": {
   "display_name": "Python 3 (ipykernel)",
   "language": "python",
   "name": "python3"
  },
  "language_info": {
   "codemirror_mode": {
    "name": "ipython",
    "version": 3
   },
   "file_extension": ".py",
   "mimetype": "text/x-python",
   "name": "python",
   "nbconvert_exporter": "python",
   "pygments_lexer": "ipython3",
   "version": "3.9.7"
  }
 },
 "nbformat": 4,
 "nbformat_minor": 5
}
