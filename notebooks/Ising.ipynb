{
 "cells": [
  {
   "cell_type": "markdown",
   "id": "104b88a6-debb-451f-a5d9-bfeebadb7959",
   "metadata": {},
   "source": [
    "# Introduction to the Monte Carlo method\n",
    "\n",
    "----\n",
    "\n",
    "Start by defining the [Gibbs (or Boltzmann) distribution](https://en.wikipedia.org/wiki/Boltzmann_distribution):\n",
    "$$P(\\alpha) = e^{-E(\\alpha)/kT}$$\n",
    "this expression, defines the probability of observing a particular configuration of spins, $\\alpha$. \n",
    "As you can see, the probability of $\\alpha$ decays exponentially with increasing energy of $\\alpha$, $E(\\alpha)$,\n",
    "where $k$ is the Boltzmann constant, $k = 1.38064852 \\times 10^{-23} J/K$\n",
    "and $T$ is the temperature in Kelvin. \n",
    "\n",
    "## What defines the energy of a configuration of spins? \n",
    "Given a configuration of spins (e.g., $\\uparrow\\downarrow\\downarrow\\uparrow\\downarrow$) we can define the energy using what is referred to as an Ising Hamiltonian:\n",
    "$$ \\hat{H}' = \\frac{\\hat{H}}{k} = -\\frac{J}{k}\\sum_{<ij>} s_is_j + \\frac{\\mu}{k}\\sum_{i} S_i,$$\n",
    "where, $s_i=1$ if the $i^{th}$ spin is `up` and $s_i=-1$ if it is `down`, and the brackets $<ij>$ indicate a sum over spins that are connected,\n",
    "and $J$ is a constant that determines the energy scale. \n",
    "The energy here has been divided by the Boltzmann constant to yield units of temperature. \n",
    "Let's consider the following case, which has the sites connected in a single 1D line:\n",
    "$$\\alpha = \\uparrow-\\downarrow-\\downarrow-\\uparrow-\\downarrow.$$ \n",
    "What is the energy of such a configuration?\n",
    "$$ E(\\alpha)' = \\frac{-J}{k}(-1 + 1 - 1 - 1) + \\frac{\\mu}{k}(1 + -1 + -1 + 1 + -1) = \\frac{E(\\alpha)}{k} = 2\\frac{J}{k} - \\frac{\\mu}{k}$$\n",
    "\n",
    "## P1: Write a class that defines a spin configuration"
   ]
  },
  {
   "cell_type": "code",
   "execution_count": 141,
   "id": "529dbc32-dd81-4181-b201-77e39ce16c2e",
   "metadata": {},
   "outputs": [],
   "source": [
    "class SpinConfig:\n",
    "    def __init__(self, spin_str, closed=False):\n",
    "        self.__spin_str = [-1 if x == '-' or x == '0' else 1 for x in spin_str]\n",
    "        self.__index = 0\n",
    "        self.__closed = closed\n",
    "    def __repr__(self):\n",
    "        return ''.join(['↓' if x == -1 else '↑' for x in self.__spin_str])\n",
    "    def __getitem__(self, item):\n",
    "         return self.__spin_str[item]\n",
    "    def __len__(self):\n",
    "        return len(self.__spin_str)\n",
    "    def closed(self):\n",
    "        return self.__closed\n",
    "    def magnetization(self):\n",
    "        return sum(self.__spin_str)"
   ]
  },
  {
   "cell_type": "markdown",
   "id": "989abe5d-689d-427b-b3c0-bb7a130594d8",
   "metadata": {},
   "source": [
    "## P2: Write a class that defines the 1D hamiltonian, containing a function that computes the energy of a configuration"
   ]
  },
  {
   "cell_type": "code",
   "execution_count": 142,
   "id": "50dbe70d-8e24-4551-99e6-82e55527c30d",
   "metadata": {},
   "outputs": [],
   "source": [
    "class Hamiltonian:\n",
    "    def __init__(self, k, J, mu):\n",
    "        self.k = k\n",
    "        self.J = J\n",
    "        self.mu = mu\n",
    "    def energy(self, spin_config):\n",
    "        if spin_config.closed():\n",
    "            return (-self.J * sum(spin_config[i - 1] * spin_config[i] for i in range(len(spin_config))) + self.mu * sum(spin_config))/self.k\n",
    "        return (-self.J * sum(spin_config[i] * spin_config[i + 1] for i in range(len(spin_config) - 1)) + self.mu * sum(spin_config))/self.k"
   ]
  },
  {
   "cell_type": "markdown",
   "id": "f0c9d016-a10a-42d2-9a0f-388c52b2544b",
   "metadata": {},
   "source": [
    "## Properties\n",
    "For any fixed state, $\\alpha$, the `magnetization` ($M$) is proportional to the _excess_ number of spins pointing up or down while the energy is given by the\n",
    "Hamiltonian:\n",
    "$$M(\\alpha) = N_{\\text{up}}(\\alpha) - N_{\\text{down}}(\\alpha).$$\n",
    "As a dynamical, fluctuating system, each time you measure the magnetization, the system might be in a different state ($\\alpha$) and so you'll get a different number!\n",
    "However, we already know what the probability of measuring any particular $\\alpha$ is, so in order to compute the average magnetization, $\\left<M\\right>$, we just need to multiply the magnetization of each possible configuration times the probability of it being measured, and then add them all up!\n",
    "$$ \\left<M\\right> = \\sum_\\alpha M(\\alpha)P(\\alpha).$$\n",
    "In fact, any average value can be obtained by adding up the value of an individual configuration multiplied by it's probability:\n",
    "$$ \\left<E\\right> = \\sum_\\alpha E(\\alpha)P(\\alpha).$$\n",
    "\n",
    "This means that to obtain any average value (also known as an `expectation value`) computationally, we must compute the both the value and probability of all possible configurations. This becomes extremely expensive as the number of spins ($N$) increases. "
   ]
  },
  {
   "cell_type": "markdown",
   "id": "941eae54-5115-480b-8398-b17c3c75c956",
   "metadata": {},
   "source": [
    "## P3: Write a function that computes the magnetization of a spin configuration"
   ]
  },
  {
   "cell_type": "code",
   "execution_count": 143,
   "id": "8139466b-5b34-469a-92f4-97b57c21ae6b",
   "metadata": {},
   "outputs": [],
   "source": [
    "magnetization = lambda spin_config : sum(spin_config)"
   ]
  },
  {
   "cell_type": "markdown",
   "id": "033109e0-109f-4c64-b0ee-2e0483358c7b",
   "metadata": {},
   "source": [
    "## Q2: How many configurations are possible for:"
   ]
  },
  {
   "cell_type": "markdown",
   "id": "6ef8a8f2-7e4d-459b-9b2b-7c66c61d4af3",
   "metadata": {},
   "source": [
    "(a) N=10?"
   ]
  },
  {
   "cell_type": "code",
   "execution_count": 144,
   "id": "a9f3860d-ae6d-41dc-9cb5-ceef514ae2ec",
   "metadata": {},
   "outputs": [
    {
     "data": {
      "text/plain": [
       "1024"
      ]
     },
     "execution_count": 144,
     "metadata": {},
     "output_type": "execute_result"
    }
   ],
   "source": [
    "2**10"
   ]
  },
  {
   "cell_type": "markdown",
   "id": "8242f238-6005-417a-befe-436bf654d848",
   "metadata": {},
   "source": [
    "(b) N=100?"
   ]
  },
  {
   "cell_type": "code",
   "execution_count": 145,
   "id": "59190a5e-8eed-42ae-8363-4d7bcbbdd01f",
   "metadata": {},
   "outputs": [
    {
     "data": {
      "text/plain": [
       "1267650600228229401496703205376"
      ]
     },
     "execution_count": 145,
     "metadata": {},
     "output_type": "execute_result"
    }
   ],
   "source": [
    "2**100"
   ]
  },
  {
   "cell_type": "markdown",
   "id": "0acb89e4-c9ec-4828-882b-036ca7f70091",
   "metadata": {},
   "source": [
    "(c) N=1000?"
   ]
  },
  {
   "cell_type": "code",
   "execution_count": 146,
   "id": "d3c49e9b",
   "metadata": {},
   "outputs": [
    {
     "data": {
      "text/plain": [
       "10715086071862673209484250490600018105614048117055336074437503883703510511249361224931983788156958581275946729175531468251871452856923140435984577574698574803934567774824230985421074605062371141877954182153046474983581941267398767559165543946077062914571196477686542167660429831652624386837205668069376"
      ]
     },
     "execution_count": 146,
     "metadata": {},
     "output_type": "execute_result"
    }
   ],
   "source": [
    "2**1000"
   ]
  },
  {
   "cell_type": "markdown",
   "id": "2d7b8fce-cc23-4686-a3ed-8d97592043d4",
   "metadata": {},
   "source": [
    "## Q3: What is the energy for (++-+---+--+)?"
   ]
  },
  {
   "cell_type": "code",
   "execution_count": 147,
   "id": "b4f6d6e9-4379-409f-8a31-9b6d65a6f5fd",
   "metadata": {},
   "outputs": [
    {
     "data": {
      "text/plain": [
       "2.9"
      ]
     },
     "execution_count": 147,
     "metadata": {},
     "output_type": "execute_result"
    }
   ],
   "source": [
    "H = Hamiltonian(k=1, J=2, mu=1.1)\n",
    "H.energy(SpinConfig(\"++-+---+--+\"))"
   ]
  },
  {
   "cell_type": "markdown",
   "id": "ecb6acc1-03e7-407a-b110-0eadb55f08fd",
   "metadata": {},
   "source": [
    "## Plot"
   ]
  },
  {
   "cell_type": "code",
   "execution_count": 148,
   "id": "059185b9",
   "metadata": {},
   "outputs": [],
   "source": [
    "import numpy as np\n",
    "\n",
    "def probability(spin_config, temp, hamiltonian):\n",
    "    return np.exp((-1/temp) * hamiltonian.energy(spin_config))"
   ]
  },
  {
   "cell_type": "code",
   "execution_count": 149,
   "id": "6598e6ee",
   "metadata": {},
   "outputs": [],
   "source": [
    "def avg_energy(n_site, isClosed, temp, hamiltonian, power=1):\n",
    "    num = denum = 0\n",
    "    for x in range(2**n_site):\n",
    "        s = SpinConfig(bin(x)[2:].zfill(n_site), isClosed)\n",
    "        p = probability(s, temp, hamiltonian)\n",
    "        num += (hamiltonian.energy(s) ** power) * p\n",
    "        denum += p\n",
    "    return num/denum\n",
    "\n",
    "def avg_mag(n_site, isClosed, temp, hamiltonian, power=1):\n",
    "    num = denum = 0\n",
    "    for x in range(2**n_site):\n",
    "        s = SpinConfig(bin(x)[2:].zfill(n_site), isClosed)\n",
    "        p = probability(s, temp, hamiltonian)\n",
    "        num += (s.magnetization() ** power) * p\n",
    "        denum += p\n",
    "    return num/denum"
   ]
  },
  {
   "cell_type": "code",
   "execution_count": 150,
   "id": "67ed256c-6c37-4e69-93dd-289120703d00",
   "metadata": {},
   "outputs": [],
   "source": [
    "def heat_capacity(n_site, isClosed, temp, hamiltonian):\n",
    "    return (avg_energy(8, isClosed, temp, hamiltonian, power=2) - (avg_energy(8, isClosed, temp, hamiltonian) ** 2)) / (temp ** 2)\n",
    "\n",
    "def magnetic_susceptibility(n_site, isClosed, temp, hamiltonian):\n",
    "    return (avg_mag(8, isClosed, temp, hamiltonian, power=2) - (avg_mag(8, isClosed, temp, hamiltonian) ** 2)) / temp"
   ]
  },
  {
   "cell_type": "code",
   "execution_count": 155,
   "id": "67c34820",
   "metadata": {},
   "outputs": [
    {
     "data": {
      "image/png": "[encoded data removed]",
      "text/plain": [
       "<Figure size 432x288 with 1 Axes>"
      ]
     },
     "metadata": {
      "needs_background": "light"
     },
     "output_type": "display_data"
    }
   ],
   "source": [
    "import matplotlib.pyplot as plt\n",
    "\n",
    "H = Hamiltonian(k=1, J=-1, mu=.1)\n",
    "T = np.linspace(.1,10,100)\n",
    "isClosed = True\n",
    "\n",
    "AE = avg_energy(8, isClosed, T, H)\n",
    "AM = avg_mag(8, isClosed, T, H)\n",
    "\n",
    "HC = heat_capacity(8, isClosed, T, H)\n",
    "MS = magnetic_susceptibility(8, isClosed, T, H)\n",
    "\n",
    "fig = plt.figure()\n",
    "\n",
    "plt.plot(T,AE,'r', label='Average Energy')\n",
    "plt.plot(T,AM,'b', label='Average Magnetization')\n",
    "plt.plot(T,HC,'g', label='Heat Capacity')\n",
    "plt.plot(T,MS,'y', label='Magnetic Susceptibility')\n",
    "\n",
    "plt.legend()\n",
    "plt.show()"
   ]
  },
  {
   "cell_type": "markdown",
   "id": "3f5df726-1fa0-4f1b-89e3-7dac99d097c0",
   "metadata": {},
   "source": [
    "## Testing"
   ]
  },
  {
   "cell_type": "code",
   "execution_count": 157,
   "id": "2e38993a-a50d-43b0-bb7d-04c717bca9cc",
   "metadata": {},
   "outputs": [],
   "source": [
    "H = Hamiltonian(k=1, J=1, mu=.1)\n",
    "\n",
    "def test_SpinConfig():\n",
    "    conf = SpinConfig('----++++', True)\n",
    "    conf2 = SpinConfig('00001111')\n",
    "    assert(list(conf) == list(conf2))\n",
    "    assert(list(conf) == [-1, -1, -1, -1, 1, 1, 1, 1])\n",
    "    assert(str(conf) == \"↓↓↓↓↑↑↑↑\")\n",
    "    assert(conf.closed() is True)\n",
    "    assert(conf2.closed() is False)\n",
    "    assert(len(conf) == 8)\n",
    "    assert(conf.magnetization() == 0)\n",
    "    assert(H.energy(conf) == -4.0)\n",
    "    assert(conf.magnetization() == 0)\n",
    "\n",
    "def test_avg_values():\n",
    "    H = Hamiltonian(k=-1, J=-2, mu=1.1)\n",
    "    np.testing.assert_almost_equal(avg_energy(2, True, 1, H), -6.1458897)\n",
    "    np.testing.assert_almost_equal(avg_mag(2, True, 1, H), 1.9513429)\n",
    "    \n",
    "test_SpinConfig()\n",
    "test_avg_values()"
   ]
  }
 ],
 "metadata": {
  "kernelspec": {
   "display_name": "Python 3 (ipykernel)",
   "language": "python",
   "name": "python3"
  },
  "language_info": {
   "codemirror_mode": {
    "name": "ipython",
    "version": 3
   },
   "file_extension": ".py",
   "mimetype": "text/x-python",
   "name": "python",
   "nbconvert_exporter": "python",
   "pygments_lexer": "ipython3",
   "version": "3.8.10"
  }
 },
 "nbformat": 4,
 "nbformat_minor": 5
}
