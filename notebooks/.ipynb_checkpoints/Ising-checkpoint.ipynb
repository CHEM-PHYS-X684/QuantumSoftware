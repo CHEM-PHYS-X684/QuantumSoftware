{
 "cells": [
  {
   "cell_type": "markdown",
   "id": "104b88a6-debb-451f-a5d9-bfeebadb7959",
   "metadata": {},
   "source": [
    "# Introduction to the Monte Carlo method\n",
    "\n",
    "----\n",
    "\n",
    "Start by defining the [Gibbs (or Boltzmann) distribution](https://en.wikipedia.org/wiki/Boltzmann_distribution):\n",
    "$$P(\\alpha) = e^{-E(\\alpha)/kT}$$\n",
    "this expression, defines the probability of observing a particular configuration of spins, $\\alpha$. \n",
    "As you can see, the probability of $\\alpha$ decays exponentially with increasing energy of $\\alpha$, $E(\\alpha)$,\n",
    "where $k$ is the Boltzmann constant, $k = 1.38064852 \\times 10^{-23} J/K$\n",
    "and $T$ is the temperature in Kelvin. \n",
    "\n",
    "## What defines the energy of a configuration of spins? \n",
    "Given a configuration of spins (e.g., $\\uparrow\\downarrow\\downarrow\\uparrow\\downarrow$) we can define the energy using what is referred to as an Ising Hamiltonian:\n",
    "$$ \\hat{H}' = \\frac{\\hat{H}}{k} = -\\frac{J}{k}\\sum_{<ij>} s_is_j,$$\n",
    "where, $s_i=1$ if the $i^{th}$ spin is `up` and $s_i=-1$ if it is `down`, and the brackets $<ij>$ indicate a sum over spins that are connected,\n",
    "and $J$ is a constant that determines the energy scale. \n",
    "The energy here has been divided by the Boltzmann constant to yield units of temperature. \n",
    "Let's consider the following case, which has the sites connected in a single 1D line:\n",
    "$$\\alpha = \\uparrow-\\downarrow-\\downarrow-\\uparrow-\\downarrow.$$ \n",
    "What is the energy of such a configuration?\n",
    "$$ E(\\alpha)' = J/k(-1 + 1 - 1 - 1) = \\frac{E(\\alpha)}{k} = -2J/k$$\n",
    "\n",
    "## P1: Write a class that defines a spin configuration"
   ]
  },
  {
   "cell_type": "code",
   "execution_count": 1,
   "id": "529dbc32-dd81-4181-b201-77e39ce16c2e",
   "metadata": {},
   "outputs": [],
   "source": [
    "class spin_config:\n",
    "    def __init__(self):\n",
    "        self.config = []\n",
    "        self.N = 0\n",
    "    def n_sites(self):\n",
    "        return len(self.config)\n",
    "    def initialize(self,list):\n",
    "        for i in list:\n",
    "            self.config.append(i)\n",
    "    def reset(self):\n",
    "        self.config.clear()\n",
    "    def configuration(self):\n",
    "        return self.config\n",
    "        "
   ]
  },
  {
   "cell_type": "markdown",
   "id": "989abe5d-689d-427b-b3c0-bb7a130594d8",
   "metadata": {},
   "source": [
    "## P2: Write a class that defines the 1D hamiltonian, containing a function that computes the energy of a configuration"
   ]
  },
  {
   "cell_type": "code",
   "execution_count": 2,
   "id": "50dbe70d-8e24-4551-99e6-82e55527c30d",
   "metadata": {},
   "outputs": [],
   "source": [
    "class Hamiltonian:\n",
    "    def __init__(self,J = -2,mu=1.1,k=1):\n",
    "        self.energy = 0\n",
    "        self.state = []\n",
    "        self.j = J\n",
    "        self.mu = mu\n",
    "        self.k = k\n",
    "    def initialize(self,list):\n",
    "        for i in list:\n",
    "            self.state.append(i)\n",
    "    def reset(self):\n",
    "        self.state.clear()\n",
    "        self.energy = 0\n",
    "    def spin_energy(self):\n",
    "        for i in range(len(self.state)-1):\n",
    "            self.energy+=(self.state[i]*self.state[i+1])\n",
    "        self.energy+=self.state[0]*self.state[-1]\n",
    "        self.energy*= -self.j/self.k\n",
    "    \n",
    "        for j in self.state:\n",
    "            self.energy+=(self.mu*j)\n",
    "            \n",
    "        return self.energy        "
   ]
  },
  {
   "cell_type": "markdown",
   "id": "d52cad3c",
   "metadata": {},
   "source": [
    "## Q3: What is the energy for (++-+---+--+)?"
   ]
  },
  {
   "cell_type": "code",
   "execution_count": 3,
   "id": "56eae19e",
   "metadata": {},
   "outputs": [
    {
     "data": {
      "text/plain": [
       "-3.1"
      ]
     },
     "execution_count": 3,
     "metadata": {},
     "output_type": "execute_result"
    }
   ],
   "source": [
    "lattice_energy = Hamiltonian()\n",
    "list = [1,1,-1,1,-1,-1,-1,1,-1,-1,1]\n",
    "lattice_energy.initialize(list)\n",
    "lattice_energy.spin_energy()"
   ]
  },
  {
   "cell_type": "markdown",
   "id": "f0c9d016-a10a-42d2-9a0f-388c52b2544b",
   "metadata": {},
   "source": [
    "## Properties\n",
    "For any fixed state, $\\alpha$, the `magnetization` ($M$) is proportional to the _excess_ number of spins pointing up or down while the energy is given by the\n",
    "Hamiltonian:\n",
    "$$M(\\alpha) = N_{\\text{up}}(\\alpha) - N_{\\text{down}}(\\alpha).$$\n",
    "As a dynamical, fluctuating system, each time you measure the magnetization, the system might be in a different state ($\\alpha$) and so you'll get a different number!\n",
    "However, we already know what the probability of measuring any particular $\\alpha$ is, so in order to compute the average magnetization, $\\left<M\\right>$, we just need to multiply the magnetization of each possible configuration times the probability of it being measured, and then add them all up!\n",
    "$$ \\left<M\\right> = \\sum_\\alpha M(\\alpha)P(\\alpha).$$\n",
    "In fact, any average value can be obtained by adding up the value of an individual configuration multiplied by it's probability:\n",
    "$$ \\left<E\\right> = \\sum_\\alpha E(\\alpha)P(\\alpha).$$\n",
    "\n",
    "This means that to obtain any average value (also known as an `expectation value`) computationally, we must compute the both the value and probability of all possible configurations. This becomes extremely expensive as the number of spins ($N$) increases. "
   ]
  },
  {
   "cell_type": "markdown",
   "id": "941eae54-5115-480b-8398-b17c3c75c956",
   "metadata": {},
   "source": [
    "## P3: Write a function that computes the magnetization of a spin configuration"
   ]
  },
  {
   "cell_type": "code",
   "execution_count": 4,
   "id": "8139466b-5b34-469a-92f4-97b57c21ae6b",
   "metadata": {},
   "outputs": [],
   "source": [
    "def magnetization(spin_config):\n",
    "    magnet = 0\n",
    "    for i in spin_config:\n",
    "        if i==1:\n",
    "            magnet+=1\n",
    "        else:\n",
    "            magnet-=1\n",
    "\n",
    "    return magnet"
   ]
  },
  {
   "cell_type": "markdown",
   "id": "866390d7",
   "metadata": {},
   "source": [
    "## Average Energy, Average Magnetization, Heat Capacity, and Magnetic Susceptibility"
   ]
  },
  {
   "cell_type": "code",
   "execution_count": null,
   "id": "95546140",
   "metadata": {},
   "outputs": [],
   "source": [
    "import numpy as np\n",
    "import matplotlib.pyplot as plt\n",
    "\n",
    "class spin_config_1D:\n",
    "    def __init__(self,boltz=1,pref=-2,mu=1.1,temp=373):\n",
    "        self.energies = []\n",
    "        self.magnetizations = []\n",
    "        self.probabilities = []\n",
    "        self.boltzmann = []\n",
    "        self.states = []\n",
    "        self.k = boltz\n",
    "        self.j = pref\n",
    "        self.mu = mu\n",
    "        self.T = temp\n",
    "        self.avg_eng = 0\n",
    "        self.avg_mag = 0\n",
    "        self.heat_capacity = 0\n",
    "        self.mag_sus = 0\n",
    "    def reset(self):\n",
    "        self.energies = []\n",
    "        self.magnetizations = []\n",
    "        self.probabilities = []\n",
    "        self.boltzmann = []\n",
    "        self.states = []\n",
    "        self.k = 1\n",
    "        self.j = -2\n",
    "        self.mu = 1.1\n",
    "        self.T = 323\n",
    "        self.avg_eng = 0\n",
    "        self.avg_mag = 0\n",
    "        self.heat_capacity = 0\n",
    "        self.mag_sus = 0\n",
    "    def clean(self):\n",
    "        self.energies = []\n",
    "        self.magnetizations = []\n",
    "        self.probabilities = []\n",
    "        self.boltzmann = []\n",
    "        self.states = []\n",
    "        self.avg_eng = 0\n",
    "        self.avg_mag = 0\n",
    "        self.heat_capacity = 0\n",
    "        self.mag_sus = 0\n",
    "    def temp(self,temp):\n",
    "        self.T = temp\n",
    "    def J(self,pref):\n",
    "        self.j = pref\n",
    "    def boltz(self,k):\n",
    "        self.k = boltz\n",
    "    def mu(self,m):\n",
    "        self.mu = m\n",
    "    def report(self):\n",
    "        print(\"States:\",self.states)\n",
    "        print()\n",
    "        print(\"Energies:\",self.energies)\n",
    "        print()\n",
    "        print(\"Magnetizations:\",self.magnetizations)\n",
    "        print()\n",
    "        print(\"Probabilities:\",self.probabilities)\n",
    "        print()\n",
    "        print(\"Average Energy:\",self.avg_eng)\n",
    "        print()\n",
    "        print(\"Average Magnetization:\",self.avg_mag)\n",
    "        print()\n",
    "        print(\"Heat Capacity:\",self.heat_capacity)\n",
    "        print()\n",
    "        print(\"Magnetic Susceptibility:\",self.mag_sus)\n",
    "        print()\n",
    "        print(\"Constants-\")\n",
    "        print(\"\\tBoltzmann Constant is: \",self.k)\n",
    "        print(\"\\tJ is: \",self.j)\n",
    "        print(\"\\tmu is: \",self.mu)\n",
    "        print(\"\\tTemperature is: \",self.T)\n",
    "        \n",
    "    def constants(self,boltz,pref,mu,temp):\n",
    "        self.k = boltz\n",
    "        self.j = pref\n",
    "        self.mu = mu\n",
    "        self.T = temp\n",
    "    def generate_state(self,n=8):\n",
    "        self.clean()\n",
    "        for i in range(2**n):\n",
    "            binary = bin(i)\n",
    "            state = [char for char in binary]\n",
    "            state.remove('0')\n",
    "            state.remove('b')\n",
    "            for j in range(len(state)):\n",
    "                state[j] = int(state[j])\n",
    "                if state[j]==0:\n",
    "                    state[j]=-1\n",
    "            while len(state)<n:\n",
    "                state.insert(0,-1)\n",
    "            self.states.append(state)\n",
    "        #Generates the states\n",
    "        \n",
    "        for j in self.states:\n",
    "            energy = 0\n",
    "            for i in range(len(j)-1):\n",
    "                energy+=(j[i]*j[i+1])\n",
    "            energy+=j[-1]*j[0]\n",
    "            energy *= -self.j/self.k\n",
    "            for k in j:\n",
    "                energy+=(self.mu*k)\n",
    "            self.energies.append(energy)\n",
    "        #Generates the energies of each state    \n",
    "        \n",
    "        for j in self.states:\n",
    "            magnet = 0\n",
    "            for i in j:\n",
    "                magnet+=i\n",
    "            self.magnetizations.append(magnet)\n",
    "        #Generates the magnetizations of each state    \n",
    "        \n",
    "        for i in self.energies:\n",
    "            self.boltzmann.append(np.exp(-i/(self.k*self.T)))\n",
    "        normalization_factor = sum(self.boltzmann)\n",
    "        \n",
    "        #Generates the probability graph, unnormalized as a list\n",
    "        \n",
    "        for j in range(len(self.boltzmann)):\n",
    "            self.probabilities.append(self.boltzmann[j]/normalization_factor)\n",
    "            \n",
    "        #Generates a new list, normalized this time\n",
    "        \n",
    "        for i in range(len(self.energies)):\n",
    "            self.avg_eng+=self.energies[i]*self.boltzmann[i]\n",
    "        self.avg_eng/=normalization_factor\n",
    "        \n",
    "        #Computes average energy\n",
    "        for i in range(len(self.magnetizations)):\n",
    "            self.avg_mag+=self.magnetizations[i]*self.boltzmann[i]\n",
    "        self.avg_mag/=normalization_factor\n",
    "        \n",
    "        #Computes average magnetization\n",
    "        \n",
    "        copy_energy=[]\n",
    "        E = 0        \n",
    "        for i in self.energies:\n",
    "            copy_energy.append(i**2)\n",
    "        for i in range(len(copy_energy)):\n",
    "            E+=copy_energy[i]*self.boltzmann[i]\n",
    "        E/=normalization_factor\n",
    "        self.heat_capacity = (E - np.power(self.avg_eng,2))/(self.k*self.T*self.T)\n",
    "        \n",
    "        #Computes heat capacity\n",
    "        \n",
    "        copy_mag=[]\n",
    "        M = 0        \n",
    "        for i in range(len(self.magnetizations)):\n",
    "            copy_mag.append(self.magnetizations[i]**2)\n",
    "        for i in range(len(copy_mag)):\n",
    "            M+=copy_mag[i]*self.boltzmann[i]\n",
    "        M/=normalization_factor\n",
    "        self.mag_sus = (M - np.power(self.avg_mag,2))/(self.k*self.T)\n",
    "        \n",
    "        #Computes magnetic suscpetibility\n",
    "        \n",
    "    def generate_plot(self,tmin=1,tmax=10,step=0.1,num_states=8):\n",
    "        t_current = self.T\n",
    "        temps = []\n",
    "        average_energy = []\n",
    "        average_magnetization=[]\n",
    "        heat_cap=[]\n",
    "        mag_sus=[]\n",
    "        for i in range(int(tmin),int(tmax/step)):\n",
    "            temps.append(i*step)\n",
    "            self.temp(i*step)\n",
    "            self.generate_state(num_states)\n",
    "            average_energy.append(self.avg_eng)\n",
    "            average_magnetization.append(self.avg_mag)\n",
    "            heat_cap.append(self.heat_capacity)\n",
    "            mag_sus.append(self.mag_sus)\n",
    "        plt.plot(temps,average_energy,'r-',temps,average_magnetization,'b-',temps,heat_cap,'g-',temps,mag_sus,'y-')\n",
    "        plt.legend([\"Average Energy\", \"Average Magnetization\", \"Heat Capacity\", \"Magnetic Susceptibility\"],loc='best')\n",
    "        plt.xlabel(\"Temperature (K)\")\n",
    "        self.T = t_current"
   ]
  },
  {
   "cell_type": "markdown",
   "id": "033109e0-109f-4c64-b0ee-2e0483358c7b",
   "metadata": {},
   "source": [
    "## Q2: How many configurations are possible for:"
   ]
  },
  {
   "cell_type": "markdown",
   "id": "6ef8a8f2-7e4d-459b-9b2b-7c66c61d4af3",
   "metadata": {},
   "source": [
    "(a) N=10?"
   ]
  },
  {
   "cell_type": "markdown",
   "id": "096a266d",
   "metadata": {},
   "source": [
    "$2^{10}$"
   ]
  },
  {
   "cell_type": "markdown",
   "id": "8242f238-6005-417a-befe-436bf654d848",
   "metadata": {},
   "source": [
    "(b) N=100?"
   ]
  },
  {
   "cell_type": "markdown",
   "id": "eaee88ed",
   "metadata": {},
   "source": [
    "$2^{100}$"
   ]
  },
  {
   "cell_type": "markdown",
   "id": "0acb89e4-c9ec-4828-882b-036ca7f70091",
   "metadata": {},
   "source": [
    "(c) N=1000?"
   ]
  },
  {
   "cell_type": "markdown",
   "id": "a446c8a5",
   "metadata": {},
   "source": [
    "$2^{1000}$"
   ]
  }
 ],
 "metadata": {
  "kernelspec": {
   "display_name": "Python 3 (ipykernel)",
   "language": "python",
   "name": "python3"
  },
  "language_info": {
   "codemirror_mode": {
    "name": "ipython",
    "version": 3
   },
   "file_extension": ".py",
   "mimetype": "text/x-python",
   "name": "python",
   "nbconvert_exporter": "python",
   "pygments_lexer": "ipython3",
   "version": "3.9.7"
  }
 },
 "nbformat": 4,
 "nbformat_minor": 5
}
