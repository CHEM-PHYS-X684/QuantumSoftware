{
 "cells": [
  {
   "cell_type": "markdown",
   "id": "104b88a6-debb-451f-a5d9-bfeebadb7959",
   "metadata": {},
   "source": [
    "\"# Introduction to the Monte Carlo method\n",
    "\n",
    "----\n",
    "\n",
    "Start by defining the [Gibbs (or Boltzmann) distribution](https://en.wikipedia.org/wiki/Boltzmann_distribution):\n",
    "$$P(\\alpha) = e^{-E(\\alpha)/kT}$$\n",
    "this expression, defines the probability of observing a particular configuration of spins, $\\alpha$. \n",
    "As you can see, the probability of $\\alpha$ decays exponentially with increasing energy of $\\alpha$, $E(\\alpha)$,\n",
    "where $k$ is the Boltzmann constant, $k = 1.38064852 \\times 10^{-23} J/K$\n",
    "and $T$ is the temperature in Kelvin. \n",
    "\n",
    "## What defines the energy of a configuration of spins? \n",
    "Given a configuration of spins (e.g., $\\uparrow\\downarrow\\downarrow\\uparrow\\downarrow$) we can define the energy using what is referred to as an Ising Hamiltonian:\n",
    "$$ \\hat{H}' = \\frac{\\hat{H}}{k} = -\\frac{J}{k}\\sum_{<ij>} s_is_j,$$\n",
    "where, $s_i=1$ if the $i^{th}$ spin is `up` and $s_i=-1$ if it is `down`, and the brackets $<ij>$ indicate a sum over spins that are connected,\n",
    "and $J$ is a constant that determines the energy scale. \n",
    "The energy here has been divided by the Boltzmann constant to yield units of temperature. \n",
    "Let's consider the following case, which has the sites connected in a single 1D line:\n",
    "$$\\alpha = \\uparrow-\\downarrow-\\downarrow-\\uparrow-\\downarrow.$$ \n",
    "What is the energy of such a configuration?\n",
    "$$ E(\\alpha)' = J/k(-1 + 1 - 1 - 1) = \\frac{E(\\alpha)}{k} = -2J/k$$\n",
    "\n",
    "## P1: Write a class that defines a spin configuration"
   ]
  },
  {
   "cell_type": "code",
   "execution_count": 1,
   "id": "529dbc32-dd81-4181-b201-77e39ce16c2e",
   "metadata": {},
   "outputs": [],
   "source": [
    "#def spin configuration class\n",
    "\n",
    "class SpinConfig():\n",
    "    \n",
    "    def __init__(self,N=0):\n",
    "        \"\"\"N = total spin_number\"\"\"\n",
    "        self.N = N\n",
    "        self.iMax = 2**self.N\n",
    "\n",
    "    def input_decimal(self, decimal_Input):\n",
    "        \"\"\"initialize spin configuration when input is decimal.\n",
    "        Input \n",
    "        -----------\n",
    "        Enteger that decimal of a binary number '10110001' that represent a spin configuration\n",
    "        Example: input_decimal(5)\n",
    "                 return: [1,0,1]\n",
    "        -----------\n",
    "        Return: binary list in 0 and 1\n",
    "        \"\"\"        \n",
    "        spinlist=[]\n",
    "        for element in bin(decimal_Input)[2:]:\n",
    "            spinlist.append(int(element))\n",
    "            \n",
    "        while len(spinlist) < self.N:\n",
    "            spinlist = [0]+spinlist\n",
    "            \n",
    "        self.config = spinlist\n",
    "        \n",
    "        return self.config\n",
    "\n",
    "    \n",
    "    def input_p_m(self, p_m_Input):\n",
    "        \"\"\"Initialize spin configuration when input is decimal.\n",
    "    \n",
    "        Input: Sting of '+' and '-'\n",
    "        -----------\n",
    "        Example: Sting of  '+-++-'\n",
    "                 return [1,0,1,1,0]\n",
    "        -----------\n",
    "        return: binary list in 0 and 1\n",
    "        \"\"\"\n",
    "        self.p_m_Input = p_m_Input\n",
    "        spinlist2=list()\n",
    "        for element in self.p_m_Input:\n",
    "            if element ==\"+\":\n",
    "                spinlist2.append(1)\n",
    "            elif element == \"-\":\n",
    "                spinlist2.append(0)\n",
    "            else:\n",
    "                pass\n",
    "        \n",
    "        self.config = spinlist2\n",
    "        \n",
    "        return spinlist2\n",
    "\n",
    "\n",
    "    def magnetization(self):\n",
    "        \n",
    "        magnet = 0   \n",
    "        for eachspin in self.config:\n",
    "            if eachspin == 1:\n",
    "                magnet += 1\n",
    "            elif eachspin == 0:\n",
    "                magnet += -1\n",
    "            else:\n",
    "                print(\"Spin input error\")\n",
    "                \n",
    "        return magnet\n",
    "\n"
   ]
  },
  {
   "cell_type": "code",
   "execution_count": 5,
   "id": "e0fd82a4",
   "metadata": {},
   "outputs": [],
   "source": [
    "mySpin = SpinConfig(4)"
   ]
  },
  {
   "cell_type": "code",
   "execution_count": 6,
   "id": "a3e1f50b",
   "metadata": {
    "scrolled": true
   },
   "outputs": [
    {
     "data": {
      "text/plain": [
       "[0, 0, 0, 1]"
      ]
     },
     "execution_count": 6,
     "metadata": {},
     "output_type": "execute_result"
    }
   ],
   "source": [
    "mySpin.input_decimal(1)"
   ]
  },
  {
   "cell_type": "code",
   "execution_count": 7,
   "id": "809cde91",
   "metadata": {},
   "outputs": [
    {
     "data": {
      "text/plain": [
       "-2"
      ]
     },
     "execution_count": 7,
     "metadata": {},
     "output_type": "execute_result"
    }
   ],
   "source": [
    "mySpin.magnetization()"
   ]
  },
  {
   "cell_type": "markdown",
   "id": "989abe5d-689d-427b-b3c0-bb7a130594d8",
   "metadata": {},
   "source": [
    "## P2: Write a class that defines the 1D hamiltonian, containing a function that computes the energy of a configuration"
   ]
  },
  {
   "cell_type": "code",
   "execution_count": 13,
   "id": "50dbe70d-8e24-4551-99e6-82e55527c30d",
   "metadata": {},
   "outputs": [],
   "source": [
    "#coupling Hamiltonian class def:\n",
    "from math import exp\n",
    "\n",
    "class Hamiltonian():\n",
    "    \"\"\"Hamiltonian(J,miu)\n",
    "    Input:\n",
    "    --------\n",
    "    (J: float; u=miu:float)\n",
    "    \n",
    "    \"\"\"\n",
    "    \n",
    "    def __init__(self,J=-2,u=1.1): \n",
    "        \n",
    "        self.u = u\n",
    "        self.J = J\n",
    "\n",
    "\n",
    "    def energy(self, spinconfig):\n",
    "\n",
    "        self.spinconfig = spinconfig\n",
    "        E = 0\n",
    "        \"\"\"\n",
    "        Energy from the external field:\n",
    "        H_external = Sum over i of u * spin[i]\n",
    "        \"\"\"\n",
    "        for eachspin in self.spinconfig:\n",
    "            if eachspin == 1:\n",
    "                E+= self.u * 1\n",
    "            elif eachspin == 0:\n",
    "                E += self.u * (-1)\n",
    "            else:\n",
    "                print(\"Spin input error\")\n",
    "                \n",
    "        \"\"\"\n",
    "        Energy from coupling the nearest neighbor spin:\n",
    "        H_c = -J/k * spin[i] * spin[i+1]\n",
    "        \"\"\"\n",
    "        newList = self.spinconfig[1:]\n",
    "        newList.append(self.spinconfig[0])\n",
    "        for spinx, spiny in zip(self.spinconfig, newList):\n",
    "            if spinx==spiny:\n",
    "                E += -self.J * 1\n",
    "            elif spinx!=spiny:\n",
    "                E += -self.J * (-1)\n",
    "            else:\n",
    "                print(\"Type error spininput\")\n",
    "                \n",
    "        return E    \n",
    "    \n",
    "    \n",
    "    \n",
    "\n",
    "    def average(self,T=1,N=0):\n",
    "        \"\"\"Get average property of Ising model with N spins\n",
    "        Input \n",
    "        -----------\n",
    "        Temperatur--Float, N_spin_site---Integer\n",
    "        eg. average(10,9)\n",
    "        \n",
    "        Return\n",
    "        -----------\n",
    "        E, m, C, ms   ---- Float\n",
    "        \"\"\"\n",
    "    \n",
    "        mySpin = SpinConfig(N)  \n",
    "    \n",
    "        Zsum = 0\n",
    "        E = 0\n",
    "        EE = 0\n",
    "        m = 0\n",
    "        mm = 0\n",
    "    \n",
    "        for i in range(mySpin.iMax):\n",
    "            spinConfig = mySpin.input_decimal(i)\n",
    "            mi = mySpin.magnetization()\n",
    "            Ei = self.energy(spinConfig)\n",
    "            Zi = exp(-Ei/T)\n",
    "            \n",
    "            Zsum +=Zi \n",
    "            E += Zi * Ei\n",
    "            EE += Zi * Ei*Ei\n",
    "            m += Zi * mi\n",
    "            mm += Zi * mi * mi\n",
    "        \n",
    "        \"\"\"Normalize over Zsum\"\"\"\n",
    "        E = E/Zsum\n",
    "        EE = EE/Zsum\n",
    "        m = m/Zsum\n",
    "        mm = mm/Zsum\n",
    "        #get capacity and magnetic susceptibility\n",
    "        C = (EE - E**2)/(T*T)\n",
    "        ms = (mm - m**2)/(T)\n",
    "        \n",
    "        return E, m, C, ms\n",
    "\n"
   ]
  },
  {
   "cell_type": "code",
   "execution_count": 14,
   "id": "2789e32e",
   "metadata": {},
   "outputs": [],
   "source": [
    "myH = Hamiltonian()"
   ]
  },
  {
   "cell_type": "code",
   "execution_count": 15,
   "id": "180d2c09",
   "metadata": {
    "scrolled": true
   },
   "outputs": [
    {
     "data": {
      "text/plain": [
       "-4.9"
      ]
     },
     "execution_count": 15,
     "metadata": {},
     "output_type": "execute_result"
    }
   ],
   "source": [
    "myH.energy([0,1,0,1,1])"
   ]
  },
  {
   "cell_type": "code",
   "execution_count": 16,
   "id": "d4bc0221",
   "metadata": {},
   "outputs": [
    {
     "data": {
      "text/plain": [
       "(-1.894905381126034,\n",
       " -0.29386784002835087,\n",
       " 0.17850826588133842,\n",
       " 0.26682385808137565)"
      ]
     },
     "execution_count": 16,
     "metadata": {},
     "output_type": "execute_result"
    }
   ],
   "source": [
    "myH.average(10,4)"
   ]
  },
  {
   "cell_type": "markdown",
   "id": "45cf184e",
   "metadata": {},
   "source": [
    "## Properties\n",
    "For any fixed state, $\\alpha$, the `magnetization` ($M$) is proportional to the _excess_ number of spins pointing up or down while the energy is given by the\n",
    "Hamiltonian:\n",
    "$$M(\\alpha) = N_{\\text{up}}(\\alpha) - N_{\\text{down}}(\\alpha).$$\n",
    "As a dynamical, fluctuating system, each time you measure the magnetization, the system might be in a different state ($\\alpha$) and so you'll get a different number!\n",
    "However, we already know what the probability of measuring any particular $\\alpha$ is, so in order to compute the average magnetization, $\\left<M\\right>$, we just need to multiply the magnetization of each possible configuration times the probability of it being measured, and then add them all up!\n",
    "$$ \\left<M\\right> = \\sum_\\alpha M(\\alpha)P(\\alpha).$$\n",
    "In fact, any average value can be obtained by adding up the value of an individual configuration multiplied by it's probability:\n",
    "$$ \\left<E\\right> = \\sum_\\alpha E(\\alpha)P(\\alpha).$$\n",
    "\n",
    "This means that to obtain any average value (also known as an `expectation value`) computationally, we must compute the both the value and probability of all possible configurations. This becomes extremely expensive as the number of spins ($N$) increases. "
   ]
  },
  {
   "cell_type": "code",
   "execution_count": 20,
   "id": "2e15b7b3",
   "metadata": {},
   "outputs": [
    {
     "data": {
      "text/plain": [
       "Text(0.5, 0, 'T')"
      ]
     },
     "execution_count": 20,
     "metadata": {},
     "output_type": "execute_result"
    },
    {
     "data": {
      "image/png": "[encoded data removed]",
      "text/plain": [
       "<Figure size 720x480 with 1 Axes>"
      ]
     },
     "metadata": {
      "needs_background": "light"
     },
     "output_type": "display_data"
    }
   ],
   "source": [
    "import matplotlib.pyplot as plt\n",
    "import numpy as np\n",
    "\n",
    "Tlist=np.linspace(0.1,10,num=100)\n",
    "\n",
    "Elist = list()\n",
    "mlist = list()\n",
    "Clist = list()\n",
    "mslist = list()\n",
    "\n",
    "for element in Tlist:\n",
    "    E, m, C, ms = myH.average(element, 8)\n",
    "    Elist.append(E) \n",
    "    mlist.append(m) \n",
    "    Clist.append(C) \n",
    "    mslist.append(ms) \n",
    "    \n",
    "plt.figure(num = 0, dpi = 120)\n",
    "plt.plot(Tlist, Elist,label=\"<E>\")\n",
    "plt.plot(Tlist, mlist,label=\"<m>\")\n",
    "plt.plot(Tlist, Clist,label=\"C\")\n",
    "plt.plot(Tlist, mslist,label=\"ms\")\n",
    "plt.legend()\n",
    "plt.xlabel(\"T\")"
   ]
  },
  {
   "cell_type": "markdown",
   "id": "5638fb38",
   "metadata": {},
   "source": [
    "## Test Function"
   ]
  },
  {
   "cell_type": "markdown",
   "id": "d12c2db4",
   "metadata": {},
   "source": [
    "#Define my hamiltonian values\n",
    "\n",
    "ham.J = -2   \n",
    "ham.mu = 1.1 \n",
    "ham.pbc = True\n",
    "\n",
    "#Define a new configuration instance for a 2-site lattice\n",
    "\n",
    "#Compute the average values for Temperature = 1    \n",
    "    "
   ]
  },
  {
   "cell_type": "code",
   "execution_count": 21,
   "id": "53a50b7d",
   "metadata": {},
   "outputs": [
    {
     "name": "stdout",
     "output_type": "stream",
     "text": [
      " E  =  -3.99104425\n",
      " M  =  -0.00298581\n",
      " HC =   0.05269599\n",
      " MS =   0.00611116\n"
     ]
    }
   ],
   "source": [
    "H = Hamiltonian()\n",
    "E, m , C, ms = H.average(1,2)\n",
    "\n",
    "print(\" E  = %12.8f\" %E)\n",
    "print(\" M  = %12.8f\" %m)\n",
    "print(\" HC = %12.8f\" %C)\n",
    "print(\" MS = %12.8f\" %ms)"
   ]
  },
  {
   "cell_type": "code",
   "execution_count": 22,
   "id": "ef3fbb04",
   "metadata": {},
   "outputs": [],
   "source": [
    "# test result\n",
    "#  E  =  -3.99104425\n",
    "#  M  =  -0.00298581\n",
    "#  HC =   0.05269599\n",
    "#  MS =   0.00611116"
   ]
  },
  {
   "cell_type": "code",
   "execution_count": null,
   "id": "9fc6afa5",
   "metadata": {},
   "outputs": [],
   "source": []
  },
  {
   "cell_type": "markdown",
   "id": "2d7b8fce-cc23-4686-a3ed-8d97592043d4",
   "metadata": {},
   "source": [
    "## Q3: What is the energy for (++-+---+--+)?"
   ]
  },
  {
   "cell_type": "code",
   "execution_count": 17,
   "id": "d1fa09ea",
   "metadata": {},
   "outputs": [],
   "source": [
    "mySpinQ = SpinConfig()"
   ]
  },
  {
   "cell_type": "code",
   "execution_count": 18,
   "id": "9294bcb0",
   "metadata": {},
   "outputs": [
    {
     "data": {
      "text/plain": [
       "[1, 1, 0, 1, 0, 0, 0, 1, 0, 0, 1]"
      ]
     },
     "execution_count": 18,
     "metadata": {},
     "output_type": "execute_result"
    }
   ],
   "source": [
    "mySpinQ.input_p_m(\"++-+---+--+\")"
   ]
  },
  {
   "cell_type": "code",
   "execution_count": 19,
   "id": "b7c6243b",
   "metadata": {},
   "outputs": [
    {
     "data": {
      "text/plain": [
       "-3.0999999999999996"
      ]
     },
     "execution_count": 19,
     "metadata": {},
     "output_type": "execute_result"
    }
   ],
   "source": [
    "myH.energy(mySpinQ.input_p_m(\"++-+---+--+\"))"
   ]
  },
  {
   "cell_type": "markdown",
   "id": "a27c8ab6",
   "metadata": {},
   "source": [
    "## Q2: How many configurations are possible for:"
   ]
  },
  {
   "cell_type": "markdown",
   "id": "6295104e",
   "metadata": {},
   "source": [
    "(a) N=10?"
   ]
  },
  {
   "cell_type": "code",
   "execution_count": 128,
   "id": "5361902d",
   "metadata": {},
   "outputs": [
    {
     "data": {
      "text/plain": [
       "1024"
      ]
     },
     "execution_count": 128,
     "metadata": {},
     "output_type": "execute_result"
    }
   ],
   "source": [
    "2**10"
   ]
  },
  {
   "cell_type": "markdown",
   "id": "8008e273",
   "metadata": {},
   "source": [
    "(b) N=100?"
   ]
  },
  {
   "cell_type": "code",
   "execution_count": 13,
   "id": "a948fa9a",
   "metadata": {},
   "outputs": [
    {
     "data": {
      "text/plain": [
       "1267650600228229401496703205376"
      ]
     },
     "execution_count": 13,
     "metadata": {},
     "output_type": "execute_result"
    }
   ],
   "source": [
    "2**100"
   ]
  },
  {
   "cell_type": "markdown",
   "id": "75070f4d",
   "metadata": {},
   "source": [
    "(c) N=1000?"
   ]
  },
  {
   "cell_type": "code",
   "execution_count": 14,
   "id": "637238be",
   "metadata": {},
   "outputs": [
    {
     "data": {
      "text/plain": [
       "10715086071862673209484250490600018105614048117055336074437503883703510511249361224931983788156958581275946729175531468251871452856923140435984577574698574803934567774824230985421074605062371141877954182153046474983581941267398767559165543946077062914571196477686542167660429831652624386837205668069376"
      ]
     },
     "execution_count": 14,
     "metadata": {},
     "output_type": "execute_result"
    }
   ],
   "source": [
    "2**1000"
   ]
  }
 ],
 "metadata": {
  "kernelspec": {
   "display_name": "Python 3 (ipykernel)",
   "language": "python",
   "name": "python3"
  },
  "language_info": {
   "codemirror_mode": {
    "name": "ipython",
    "version": 3
   },
   "file_extension": ".py",
   "mimetype": "text/x-python",
   "name": "python",
   "nbconvert_exporter": "python",
   "pygments_lexer": "ipython3",
   "version": "3.9.7"
  }
 },
 "nbformat": 4,
 "nbformat_minor": 5
}
