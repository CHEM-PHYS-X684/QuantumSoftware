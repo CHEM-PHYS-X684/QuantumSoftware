{
 "cells": [
  {
   "cell_type": "markdown",
   "id": "104b88a6-debb-451f-a5d9-bfeebadb7959",
   "metadata": {},
   "source": [
    "\"# Introduction to the Monte Carlo method\n",
    "\n",
    "----\n",
    "\n",
    "Start by defining the [Gibbs (or Boltzmann) distribution](https://en.wikipedia.org/wiki/Boltzmann_distribution):\n",
    "$$P(\\alpha) = e^{-E(\\alpha)/kT}$$\n",
    "this expression, defines the probability of observing a particular configuration of spins, $\\alpha$. \n",
    "As you can see, the probability of $\\alpha$ decays exponentially with increasing energy of $\\alpha$, $E(\\alpha)$,\n",
    "where $k$ is the Boltzmann constant, $k = 1.38064852 \\times 10^{-23} J/K$\n",
    "and $T$ is the temperature in Kelvin. \n",
    "\n",
    "## What defines the energy of a configuration of spins? \n",
    "Given a configuration of spins (e.g., $\\uparrow\\downarrow\\downarrow\\uparrow\\downarrow$) we can define the energy using what is referred to as an Ising Hamiltonian:\n",
    "$$ \\hat{H}' = \\frac{\\hat{H}}{k} = -\\frac{J}{k}\\sum_{<ij>} s_is_j,$$\n",
    "where, $s_i=1$ if the $i^{th}$ spin is `up` and $s_i=-1$ if it is `down`, and the brackets $<ij>$ indicate a sum over spins that are connected,\n",
    "and $J$ is a constant that determines the energy scale. \n",
    "The energy here has been divided by the Boltzmann constant to yield units of temperature. \n",
    "Let's consider the following case, which has the sites connected in a single 1D line:\n",
    "$$\\alpha = \\uparrow-\\downarrow-\\downarrow-\\uparrow-\\downarrow.$$ \n",
    "What is the energy of such a configuration?\n",
    "$$ E(\\alpha)' = J/k(-1 + 1 - 1 - 1) = \\frac{E(\\alpha)}{k} = -2J/k$$\n",
    "\n",
    "## P1: Write a class that defines a spin configuration"
   ]
  },
  {
   "cell_type": "code",
   "execution_count": 283,
   "id": "529dbc32-dd81-4181-b201-77e39ce16c2e",
   "metadata": {},
   "outputs": [
    {
     "name": "stdout",
     "output_type": "stream",
     "text": [
      "Number of sites in my spin class:  11\n",
      "[1, 1, -1, 1, -1, -1, -1, 1, -1, -1, 1]\n"
     ]
    }
   ],
   "source": [
    "#def spin configuration class\n",
    "\n",
    "class SpinConfig():\n",
    "    \n",
    "    def __init__(self):\n",
    "        self.ConFig = []\n",
    "        self.N = 0\n",
    "\n",
    "\n",
    "    def initiate(self, spinInput):\n",
    "        spinlist = []\n",
    "        if isinstance(spinInput, str):\n",
    "            for eachspin in spinInput:\n",
    "                if eachspin in [\"+\", \"1\"]: \n",
    "                    spinlist.append(1)\n",
    "                elif eachspin in [\"-\", \"0\"]:  \n",
    "                    spinlist.append(-1)\n",
    "                else:\n",
    "                    raise ValueError(\"{} is not a valid spin state.\".format(eachspin))\n",
    "        else:\n",
    "            spinlist = spinInput\n",
    "\n",
    "        self.ConFig = spinlist\n",
    "        pass\n",
    "\n",
    "\n",
    "    def n_sites(self,):\n",
    "        return len(self.ConFig)\n",
    "\n",
    "\n",
    "    def visualize(self):\n",
    "        viz = self.ConFig\n",
    "        print(viz)\n",
    "\n",
    "\n",
    "    def getConFig(self):\n",
    "        return self.ConFig\n",
    "\n",
    "\n",
    "#example\n",
    "\n",
    "mySpinClass =SpinConfig()\n",
    "mySpinClass.initiate(\"++-+---+--+\")\n",
    "print(\"Number of sites in my spin class: \", str(mySpinClass.n_sites()))\n",
    "mySpinClass.visualize()\n"
   ]
  },
  {
   "cell_type": "markdown",
   "id": "989abe5d-689d-427b-b3c0-bb7a130594d8",
   "metadata": {},
   "source": [
    "## P2: Write a class that defines the 1D hamiltonian, containing a function that computes the energy of a configuration"
   ]
  },
  {
   "cell_type": "code",
   "execution_count": 281,
   "id": "50dbe70d-8e24-4551-99e6-82e55527c30d",
   "metadata": {},
   "outputs": [],
   "source": [
    "#coupling Hamiltonian class def:\n",
    "class Hamiltonian():\n",
    "    \n",
    "    def __init__(self,): \n",
    "        \"\"\"\n",
    "        set the default parameters for Hamiltonian:\n",
    "        with k=1, u=1.1, J=-2\n",
    "\n",
    "        \"\"\"\n",
    "        self.k=1\n",
    "        self.u = 1.1\n",
    "        self.J = -2\n",
    "\n",
    "\n",
    "    def initiate(self, u, J):\n",
    "        \"\"\"\n",
    "        Introduction\n",
    "        ----------\n",
    "        initiate the Hamiltonian with given parameters \"u\" and \"J\"\n",
    "\n",
    "        example\n",
    "        --------\n",
    "        initiate(2,-1) means: u=2, J=-1\n",
    "    \n",
    "        \"\"\"\n",
    "        self.u = u\n",
    "        self.J = J\n",
    "        pass\n",
    "\n",
    "\n",
    "    def energy(self, spinconfig):\n",
    "        \"\"\"\n",
    "        Introduction:\n",
    "        Calculate the Hamiltonian of the input configuration: spinconfig.\n",
    "\n",
    "        \"\"\"\n",
    "        energy = 0\n",
    "\n",
    "        \"\"\"\n",
    "        Energy from the external field:\n",
    "        H_external = Sum over i of u * spin[i]\n",
    "        \"\"\"\n",
    "        for eachspin in spinconfig:\n",
    "            energy+= self.u * eachspin\n",
    "\n",
    "        \"\"\"\n",
    "        Energy from coupling the nearest neighbor spin:\n",
    "        H_c = -J/k * spin[i] * spin[i+1]\n",
    "        \"\"\"\n",
    "        spinconfig.append(spinconfig[0])\n",
    "        for spinx, spiny in zip(spinconfig, spinconfig[1:]):\n",
    "            if spinx==spiny:\n",
    "                energy += -self.J/self.k * spinx\n",
    "            else:\n",
    "                energy += -self.J/self.k * spinx\n",
    "        return energy\n"
   ]
  },
  {
   "cell_type": "markdown",
   "id": "2d7b8fce-cc23-4686-a3ed-8d97592043d4",
   "metadata": {},
   "source": [
    "## Q3: What is the energy for (++-+---+--+)?"
   ]
  },
  {
   "cell_type": "code",
   "execution_count": 282,
   "id": "d1fa09ea",
   "metadata": {},
   "outputs": [
    {
     "name": "stdout",
     "output_type": "stream",
     "text": [
      "[1, 1, -1, 1, -1, -1, -1, 1, -1, -1, 1]\n"
     ]
    },
    {
     "data": {
      "text/plain": [
       "-3.0999999999999996"
      ]
     },
     "execution_count": 282,
     "metadata": {},
     "output_type": "execute_result"
    }
   ],
   "source": [
    "mySpinClass =SpinConfig()\n",
    "mySpinClass.initiate(\"++-+---+--+\")\n",
    "mySpinClass.visualize()\n",
    "\n",
    "\n",
    "\"\"\"\n",
    "Set parameters: u=1.1, J=-2.\n",
    "Calculate the energy of given spin configuration\n",
    "\"\"\"\n",
    "myH = Hamiltonian()\n",
    "myH.initiate(1.1,-2)\n",
    "myH.energy(mySpinClass.getConFig())"
   ]
  },
  {
   "cell_type": "markdown",
   "id": "f0c9d016-a10a-42d2-9a0f-388c52b2544b",
   "metadata": {},
   "source": [
    "## Properties\n",
    "For any fixed state, $\\alpha$, the `magnetization` ($M$) is proportional to the _excess_ number of spins pointing up or down while the energy is given by the\n",
    "Hamiltonian:\n",
    "$$M(\\alpha) = N_{\\text{up}}(\\alpha) - N_{\\text{down}}(\\alpha).$$\n",
    "As a dynamical, fluctuating system, each time you measure the magnetization, the system might be in a different state ($\\alpha$) and so you'll get a different number!\n",
    "However, we already know what the probability of measuring any particular $\\alpha$ is, so in order to compute the average magnetization, $\\left<M\\right>$, we just need to multiply the magnetization of each possible configuration times the probability of it being measured, and then add them all up!\n",
    "$$ \\left<M\\right> = \\sum_\\alpha M(\\alpha)P(\\alpha).$$\n",
    "In fact, any average value can be obtained by adding up the value of an individual configuration multiplied by it's probability:\n",
    "$$ \\left<E\\right> = \\sum_\\alpha E(\\alpha)P(\\alpha).$$\n",
    "\n",
    "This means that to obtain any average value (also known as an `expectation value`) computationally, we must compute the both the value and probability of all possible configurations. This becomes extremely expensive as the number of spins ($N$) increases. "
   ]
  },
  {
   "cell_type": "markdown",
   "id": "941eae54-5115-480b-8398-b17c3c75c956",
   "metadata": {},
   "source": [
    "## P3: Write a function that computes the magnetization of a spin configuration"
   ]
  },
  {
   "cell_type": "code",
   "execution_count": null,
   "id": "8139466b-5b34-469a-92f4-97b57c21ae6b",
   "metadata": {},
   "outputs": [],
   "source": []
  },
  {
   "cell_type": "markdown",
   "id": "033109e0-109f-4c64-b0ee-2e0483358c7b",
   "metadata": {},
   "source": [
    "## Q2: How many configurations are possible for:"
   ]
  },
  {
   "cell_type": "markdown",
   "id": "6ef8a8f2-7e4d-459b-9b2b-7c66c61d4af3",
   "metadata": {},
   "source": [
    "(a) N=10?"
   ]
  },
  {
   "cell_type": "code",
   "execution_count": 288,
   "id": "a9f3860d-ae6d-41dc-9cb5-ceef514ae2ec",
   "metadata": {},
   "outputs": [
    {
     "data": {
      "text/plain": [
       "0"
      ]
     },
     "execution_count": 288,
     "metadata": {},
     "output_type": "execute_result"
    }
   ],
   "source": []
  },
  {
   "cell_type": "markdown",
   "id": "8242f238-6005-417a-befe-436bf654d848",
   "metadata": {},
   "source": [
    "(b) N=100?"
   ]
  },
  {
   "cell_type": "code",
   "execution_count": null,
   "id": "59190a5e-8eed-42ae-8363-4d7bcbbdd01f",
   "metadata": {},
   "outputs": [],
   "source": []
  },
  {
   "cell_type": "markdown",
   "id": "0acb89e4-c9ec-4828-882b-036ca7f70091",
   "metadata": {},
   "source": [
    "(c) N=1000?"
   ]
  },
  {
   "cell_type": "code",
   "execution_count": null,
   "id": "b4f6d6e9-4379-409f-8a31-9b6d65a6f5fd",
   "metadata": {},
   "outputs": [],
   "source": []
  }
 ],
 "metadata": {
  "kernelspec": {
   "display_name": "Python 3 (ipykernel)",
   "language": "python",
   "name": "python3"
  },
  "language_info": {
   "codemirror_mode": {
    "name": "ipython",
    "version": 3
   },
   "file_extension": ".py",
   "mimetype": "text/x-python",
   "name": "python",
   "nbconvert_exporter": "python",
   "pygments_lexer": "ipython3",
   "version": "3.9.7"
  }
 },
 "nbformat": 4,
 "nbformat_minor": 5
}
