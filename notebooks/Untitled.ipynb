{
 "cells": [
  {
   "cell_type": "code",
   "execution_count": 84,
   "id": "e9c5251a",
   "metadata": {},
   "outputs": [],
   "source": [
    "class SpinConfig():\n",
    "    \n",
    "    def __init__(self):\n",
    "       print(\"spinconfig created\")\n",
    "    \n",
    "    \n",
    "    def input_decimal(self, decimal_Input):\n",
    "        self.decimal_Input=decimal_Input\n",
    "        spinlist=[]\n",
    "        for element in bin(self.decimal_Input)[2:]:\n",
    "            spinlist.append(int(element))\n",
    "        return spinlist\n",
    "\n",
    "\n",
    "    def input_p_m(self, p_m_Input):\n",
    "        self.p_m_Input = p_m_Input\n",
    "        spinlist2=list()\n",
    "        for element in self.p_m_Input:\n",
    "            if element ==\"+\":\n",
    "                spinlist2.append(1)\n",
    "            elif element == \"-\":\n",
    "                spinlist2.append(0)\n",
    "            else:\n",
    "                pass\n",
    "        return spinlist2\n",
    "        "
   ]
  },
  {
   "cell_type": "code",
   "execution_count": 85,
   "id": "a3d2909e",
   "metadata": {},
   "outputs": [
    {
     "name": "stdout",
     "output_type": "stream",
     "text": [
      "spinconfig created\n"
     ]
    }
   ],
   "source": [
    "myspin=SpinConfig()"
   ]
  },
  {
   "cell_type": "code",
   "execution_count": 86,
   "id": "01f110a8",
   "metadata": {},
   "outputs": [
    {
     "data": {
      "text/plain": [
       "[1, 1]"
      ]
     },
     "execution_count": 86,
     "metadata": {},
     "output_type": "execute_result"
    }
   ],
   "source": [
    "myspin.input_decimal(3)"
   ]
  },
  {
   "cell_type": "code",
   "execution_count": 87,
   "id": "38df6d25",
   "metadata": {},
   "outputs": [
    {
     "data": {
      "text/plain": [
       "[1, 1, 1]"
      ]
     },
     "execution_count": 87,
     "metadata": {},
     "output_type": "execute_result"
    }
   ],
   "source": [
    "myspin.input_p_m(\"+++\")"
   ]
  },
  {
   "cell_type": "code",
   "execution_count": 64,
   "id": "d4c905dd",
   "metadata": {},
   "outputs": [],
   "source": [
    "mylist=list()"
   ]
  },
  {
   "cell_type": "code",
   "execution_count": 65,
   "id": "0e1b2790",
   "metadata": {},
   "outputs": [],
   "source": [
    "mylist.append(1)"
   ]
  },
  {
   "cell_type": "code",
   "execution_count": 66,
   "id": "cd1c1290",
   "metadata": {},
   "outputs": [
    {
     "data": {
      "text/plain": [
       "[1]"
      ]
     },
     "execution_count": 66,
     "metadata": {},
     "output_type": "execute_result"
    }
   ],
   "source": [
    "mylist"
   ]
  },
  {
   "cell_type": "code",
   "execution_count": null,
   "id": "7b8c54b9",
   "metadata": {},
   "outputs": [],
   "source": []
  }
 ],
 "metadata": {
  "kernelspec": {
   "display_name": "Python 3 (ipykernel)",
   "language": "python",
   "name": "python3"
  },
  "language_info": {
   "codemirror_mode": {
    "name": "ipython",
    "version": 3
   },
   "file_extension": ".py",
   "mimetype": "text/x-python",
   "name": "python",
   "nbconvert_exporter": "python",
   "pygments_lexer": "ipython3",
   "version": "3.9.7"
  }
 },
 "nbformat": 4,
 "nbformat_minor": 5
}
