{
 "cells": [
  {
   "cell_type": "markdown",
   "id": "4c56e266-772e-46a7-b6c0-cab8144ee539",
   "metadata": {},
   "source": [
    "# Assignment 2\n",
    "\n",
    "## Write a Class that implements a bit representation that provides the functionality requested in the following questions."
   ]
  },
  {
   "cell_type": "code",
   "execution_count": 52,
   "id": "bddbcdba-1386-4471-ae58-7f6ef940557d",
   "metadata": {
    "tags": []
   },
   "outputs": [],
   "source": [
    "import numpy as np\n",
    "import math             \n",
    "\n",
    "\n",
    "class BitString:\n",
    "    \"\"\"\n",
    "    Simple class to implement a string of bits\n",
    "    \"\"\"\n",
    "    def __init__(self, string):\n",
    "        self.string = string\n",
    "\n",
    "\n",
    "\n"
   ]
  },
  {
   "cell_type": "markdown",
   "id": "412a2c97-a21f-49ea-a72a-b8c6d2ca490a",
   "metadata": {},
   "source": [
    "## 1. Create an zero `BitString` of length 8 and flip a few bits and print the output.\n",
    "\n",
    "Methods needed:\n",
    "- `__str__()`\n",
    "- `flip()`\n",
    "- `__len__()`"
   ]
  },
  {
   "cell_type": "code",
   "execution_count": 53,
   "id": "fa614f11-1ec9-4f5f-8452-a62e5c7635db",
   "metadata": {
    "collapsed": true,
    "jupyter": {
     "outputs_hidden": true
    },
    "tags": []
   },
   "outputs": [
    {
     "name": "stdout",
     "output_type": "stream",
     "text": [
      " The following should be 0:\n",
      "00000000\n",
      " The following should have 0,2,7 bits flipped:\n",
      "10100001\n",
      " Length of bitstring:  8\n"
     ]
    }
   ],
   "source": [
    "my_bs = BitString([0]*8)\n",
    "my_bs.flip(2)\n",
    "my_bs.flip(2)\n",
    "print(\" The following should be 0:\")\n",
    "print(my_bs)\n",
    "\n",
    "my_bs.flip(2)\n",
    "my_bs.flip(7)\n",
    "my_bs.flip(0)\n",
    "print(\" The following should have 0,2,7 bits flipped:\")\n",
    "print(my_bs)\n",
    "\n",
    "print(\" Length of bitstring: \", len(my_bs))"
   ]
  },
  {
   "cell_type": "markdown",
   "id": "794abfaf-a8bb-4d36-80a6-88f88dffb49b",
   "metadata": {},
   "source": [
    "## 2. Add a method that lets you directly set the value of the bitstring by providing a string of 0s and 1s:\n",
    "\n",
    "Methods needed:\n",
    "- `set_string()`"
   ]
  },
  {
   "cell_type": "code",
   "execution_count": 54,
   "id": "4d896d0a-be94-4e02-b0ff-74a7dfca68a2",
   "metadata": {
    "tags": []
   },
   "outputs": [
    {
     "name": "stdout",
     "output_type": "stream",
     "text": [
      "0110010010100\n"
     ]
    }
   ],
   "source": [
    "my_bs.set_string([0,1,1,0,0,1,0,0,1,0,1,0,0])\n",
    "print(my_bs)"
   ]
  },
  {
   "cell_type": "markdown",
   "id": "b96086df-639b-447d-a438-8fe1a7f42fe1",
   "metadata": {},
   "source": [
    "## 3. Add a method that returns number of `on` bits and one that returns the number of `off` bits. \n",
    "\n",
    "Methods needed:\n",
    "- `on()`\n",
    "- `off()`"
   ]
  },
  {
   "cell_type": "code",
   "execution_count": 55,
   "id": "dfbf5a9b-54dc-428d-8f1f-e0f9e23a5ed2",
   "metadata": {},
   "outputs": [
    {
     "name": "stdout",
     "output_type": "stream",
     "text": [
      " on:   5\n",
      " off:  8\n"
     ]
    }
   ],
   "source": [
    "print(\" on:  \", my_bs.on())\n",
    "print(\" off: \", my_bs.off())"
   ]
  },
  {
   "cell_type": "markdown",
   "id": "bca221fd-22ce-48eb-b072-8fc59cb706ac",
   "metadata": {
    "tags": []
   },
   "source": [
    "## 4. Add a method that returns the associated integer (decimal).\n",
    "\n",
    "Methods needed:\n",
    "- `int()`"
   ]
  },
  {
   "cell_type": "code",
   "execution_count": 56,
   "id": "b7bb3328-5bd3-462c-ad39-dde7516d151c",
   "metadata": {
    "tags": []
   },
   "outputs": [
    {
     "name": "stdout",
     "output_type": "stream",
     "text": [
      "3220\n"
     ]
    }
   ],
   "source": [
    "print(my_bs.int())"
   ]
  },
  {
   "cell_type": "markdown",
   "id": "ecbb0843-eeae-4d14-a7af-7cf49696c6f3",
   "metadata": {
    "tags": []
   },
   "source": [
    "##  5. Add a method that lets you directly set the value of the bitstring by providing a decimal integer. Also include  an optional keyword `digits` to let the user specify the length of the string.\n",
    "\n",
    "Methods needed:\n",
    "- `set_int()`"
   ]
  },
  {
   "cell_type": "code",
   "execution_count": 57,
   "id": "609be1a4-2335-464e-91c7-0ace2779ccbb",
   "metadata": {
    "tags": []
   },
   "outputs": [
    {
     "name": "stdout",
     "output_type": "stream",
     "text": [
      "110010010101\n",
      "00000000110010010101\n"
     ]
    }
   ],
   "source": [
    "my_bs.set_int(3221)\n",
    "print(my_bs)\n",
    "my_bs.set_int(3221, digits=20)\n",
    "print(my_bs)"
   ]
  },
  {
   "cell_type": "markdown",
   "id": "1a336bb4-4446-4e42-956d-e49713a6cfd2",
   "metadata": {},
   "source": [
    "## 6. Overload equality operator\n",
    "\n",
    "Methods needed:\n",
    "- `__eq__()`"
   ]
  },
  {
   "cell_type": "code",
   "execution_count": 62,
   "id": "ff7ce669-58be-4b66-a53b-08cd7e63eafc",
   "metadata": {},
   "outputs": [
    {
     "name": "stdout",
     "output_type": "stream",
     "text": [
      "0110010110100 :  3252\n",
      "0110010110100 :  3252\n",
      "This should be true:  True\n",
      "This should be false: False\n"
     ]
    }
   ],
   "source": [
    "my_bs1 = BitString([0,1,1,0,0,1,0,1,1,0,1,0,0])\n",
    "print(my_bs1, \": \", my_bs1.int())\n",
    "\n",
    "my_bs2 = BitString([0])\n",
    "my_bs2.set_int(3252, digits=13)\n",
    "print(my_bs2, \": \", my_bs2.int())\n",
    "\n",
    "\n",
    "print(\"This should be true: \", my_bs1 == my_bs2)\n",
    "\n",
    "my_bs2.flip(5)\n",
    "print(\"This should be false:\", my_bs1 == my_bs2)"
   ]
  }
 ],
 "metadata": {
  "kernelspec": {
   "display_name": "Python 3 (ipykernel)",
   "language": "python",
   "name": "python3"
  },
  "language_info": {
   "codemirror_mode": {
    "name": "ipython",
    "version": 3
   },
   "file_extension": ".py",
   "mimetype": "text/x-python",
   "name": "python",
   "nbconvert_exporter": "python",
   "pygments_lexer": "ipython3",
   "version": "3.10.8"
  }
 },
 "nbformat": 4,
 "nbformat_minor": 5
}
