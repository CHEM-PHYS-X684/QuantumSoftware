{
 "cells": [
  {
   "cell_type": "markdown",
   "id": "104b88a6-debb-451f-a5d9-bfeebadb7959",
   "metadata": {},
   "source": [
    "\"# Introduction to the Monte Carlo method\n",
    "\n",
    "----\n",
    "\n",
    "Start by defining the [Gibbs (or Boltzmann) distribution](https://en.wikipedia.org/wiki/Boltzmann_distribution):\n",
    "$$P(\\alpha) = e^{-E(\\alpha)/kT}$$\n",
    "this expression, defines the probability of observing a particular configuration of spins, $\\alpha$. \n",
    "As you can see, the probability of $\\alpha$ decays exponentially with increasing energy of $\\alpha$, $E(\\alpha)$,\n",
    "where $k$ is the Boltzmann constant, $k = 1.38064852 \\times 10^{-23} J/K$\n",
    "and $T$ is the temperature in Kelvin. \n",
    "\n",
    "## What defines the energy of a configuration of spins? \n",
    "Given a configuration of spins (e.g., $\\uparrow\\downarrow\\downarrow\\uparrow\\downarrow$) we can define the energy using what is referred to as an Ising Hamiltonian:\n",
    "$$ \\hat{H}' = \\frac{\\hat{H}}{k} = -\\frac{J}{k}\\sum_{<ij>} s_is_j,$$\n",
    "where, $s_i=1$ if the $i^{th}$ spin is `up` and $s_i=-1$ if it is `down`, and the brackets $<ij>$ indicate a sum over spins that are connected,\n",
    "and $J$ is a constant that determines the energy scale. \n",
    "The energy here has been divided by the Boltzmann constant to yield units of temperature. \n",
    "Let's consider the following case, which has the sites connected in a single 1D line:\n",
    "$$\\alpha = \\uparrow-\\downarrow-\\downarrow-\\uparrow-\\downarrow.$$ \n",
    "What is the energy of such a configuration?\n",
    "$$ E(\\alpha)' = J/k(-1 + 1 - 1 - 1) = \\frac{E(\\alpha)}{k} = -2J/k$$\n",
    "\n",
    "## P1: Write a class that defines a spin configuration"
   ]
  },
  {
   "cell_type": "code",
   "execution_count": 1,
   "id": "529dbc32-dd81-4181-b201-77e39ce16c2e",
   "metadata": {},
   "outputs": [],
   "source": [
    "#def spin configuration class\n",
    "\n",
    "class SpinConfig():\n",
    "    \n",
    "    def __init__(self):\n",
    "       print(\"spinconfig created\")\n",
    "    \n",
    "    def input_decimal(self, decimal_Input,site_number):\n",
    "        self.decimal_Input=decimal_Input\n",
    "        self.site_number = site_number\n",
    "        spinlist=[]\n",
    "            \n",
    "        for element in bin(self.decimal_Input)[2:]:\n",
    "            spinlist.append(int(element))\n",
    "            \n",
    "        while len(spinlist) < self.site_number:\n",
    "            spinlist = [0]+spinlist\n",
    "            \n",
    "        return spinlist\n",
    "\n",
    "    \n",
    "    def input_p_m(self, p_m_Input):\n",
    "        self.p_m_Input = p_m_Input\n",
    "        spinlist2=list()\n",
    "        for element in self.p_m_Input:\n",
    "            if element ==\"+\":\n",
    "                spinlist2.append(1)\n",
    "            elif element == \"-\":\n",
    "                spinlist2.append(0)\n",
    "            else:\n",
    "                pass\n",
    "        return spinlist2\n",
    "\n"
   ]
  },
  {
   "cell_type": "code",
   "execution_count": 2,
   "id": "e0fd82a4",
   "metadata": {},
   "outputs": [
    {
     "name": "stdout",
     "output_type": "stream",
     "text": [
      "spinconfig created\n"
     ]
    }
   ],
   "source": [
    "mySpin = SpinConfig()"
   ]
  },
  {
   "cell_type": "code",
   "execution_count": 3,
   "id": "a3e1f50b",
   "metadata": {},
   "outputs": [
    {
     "data": {
      "text/plain": [
       "[0, 0, 0, 0, 1, 1]"
      ]
     },
     "execution_count": 3,
     "metadata": {},
     "output_type": "execute_result"
    }
   ],
   "source": [
    "mySpin.input_decimal(3,6)"
   ]
  },
  {
   "cell_type": "code",
   "execution_count": 4,
   "id": "90795605",
   "metadata": {},
   "outputs": [
    {
     "data": {
      "text/plain": [
       "[1, 1, 1]"
      ]
     },
     "execution_count": 4,
     "metadata": {},
     "output_type": "execute_result"
    }
   ],
   "source": [
    "mySpin.input_p_m(\"+++\")"
   ]
  },
  {
   "cell_type": "markdown",
   "id": "989abe5d-689d-427b-b3c0-bb7a130594d8",
   "metadata": {},
   "source": [
    "## P2: Write a class that defines the 1D hamiltonian, containing a function that computes the energy of a configuration"
   ]
  },
  {
   "cell_type": "code",
   "execution_count": 42,
   "id": "50dbe70d-8e24-4551-99e6-82e55527c30d",
   "metadata": {},
   "outputs": [],
   "source": [
    "#coupling Hamiltonian class def:\n",
    "class Hamiltonian():\n",
    "    \n",
    "    def __init__(self,J=-2,k=1,u=1.1): \n",
    "        \n",
    "        print(\"class Hamiltnoian created\")\n",
    "        \n",
    "        self.k = k\n",
    "        self.u = u\n",
    "        self.J = J\n",
    "\n",
    "\n",
    "    def energy(self, spinconfig):\n",
    "\n",
    "        self.spinconfig = spinconfig\n",
    "        energy=0\n",
    "        \"\"\"\n",
    "        Energy from the external field:\n",
    "        H_external = Sum over i of u * spin[i]\n",
    "        \"\"\"\n",
    "        for eachspin in self.spinconfig:\n",
    "            if eachspin == 1:\n",
    "                energy+= self.u * 1\n",
    "            elif eachspin == 0:\n",
    "                energy += self.u * (-1)\n",
    "            else:\n",
    "                print(\"Spin input error\")\n",
    "                \n",
    "\n",
    "        \"\"\"\n",
    "        Energy from coupling the nearest neighbor spin:\n",
    "        H_c = -J/k * spin[i] * spin[i+1]\n",
    "        \"\"\"\n",
    "        newList = self.spinconfig[1:]\n",
    "        newList.append(self.spinconfig[0])\n",
    "        for spinx, spiny in zip(self.spinconfig, newList):\n",
    "            if spinx==spiny:\n",
    "                energy += -self.J/self.k * 1\n",
    "            elif spinx!=spiny:\n",
    "                energy += -self.J/self.k * (-1)\n",
    "            else:\n",
    "                print(\"Type error spininput\")\n",
    "                \n",
    "        return energy\n",
    "    \n",
    "    \n",
    "    \n",
    "    def magnetization(self, spinInput):\n",
    "        \n",
    "        self.spinInput = spinInput\n",
    "        magnet = 0\n",
    "            \n",
    "        for eachspin in self.spinInput:\n",
    "            if eachspin == 1:\n",
    "                magnet += 1\n",
    "            elif eachspin == 0:\n",
    "                magnet += -1\n",
    "            else:\n",
    "                print(\"Spin input error\")\n",
    "                \n",
    "        return magnet\n",
    "\n"
   ]
  },
  {
   "cell_type": "code",
   "execution_count": 43,
   "id": "2789e32e",
   "metadata": {},
   "outputs": [
    {
     "name": "stdout",
     "output_type": "stream",
     "text": [
      "class Hamiltnoian created\n"
     ]
    }
   ],
   "source": [
    "myH = Hamiltonian()"
   ]
  },
  {
   "cell_type": "code",
   "execution_count": 44,
   "id": "180d2c09",
   "metadata": {
    "scrolled": true
   },
   "outputs": [
    {
     "data": {
      "text/plain": [
       "-4.9"
      ]
     },
     "execution_count": 44,
     "metadata": {},
     "output_type": "execute_result"
    }
   ],
   "source": [
    "myH.energy([0,1,0,1,1])"
   ]
  },
  {
   "cell_type": "code",
   "execution_count": 45,
   "id": "75336ab3",
   "metadata": {},
   "outputs": [
    {
     "data": {
      "text/plain": [
       "1"
      ]
     },
     "execution_count": 45,
     "metadata": {},
     "output_type": "execute_result"
    }
   ],
   "source": [
    "myH.magnetization([0,1,0,1,1])"
   ]
  },
  {
   "cell_type": "code",
   "execution_count": null,
   "id": "5aeebd43",
   "metadata": {},
   "outputs": [],
   "source": []
  },
  {
   "cell_type": "markdown",
   "id": "2d7b8fce-cc23-4686-a3ed-8d97592043d4",
   "metadata": {},
   "source": [
    "## Q3: What is the energy for (++-+---+--+)?"
   ]
  },
  {
   "cell_type": "code",
   "execution_count": 8,
   "id": "d1fa09ea",
   "metadata": {},
   "outputs": [
    {
     "name": "stdout",
     "output_type": "stream",
     "text": [
      "spinconfig created\n"
     ]
    }
   ],
   "source": [
    "mySpinQ = SpinConfig()"
   ]
  },
  {
   "cell_type": "code",
   "execution_count": 9,
   "id": "9294bcb0",
   "metadata": {},
   "outputs": [
    {
     "data": {
      "text/plain": [
       "[1, 1, 0, 1, 0, 0, 0, 1, 0, 0, 1]"
      ]
     },
     "execution_count": 9,
     "metadata": {},
     "output_type": "execute_result"
    }
   ],
   "source": [
    "mySpinQ.input_p_m(\"++-+---+--+\")"
   ]
  },
  {
   "cell_type": "code",
   "execution_count": 10,
   "id": "b7c6243b",
   "metadata": {},
   "outputs": [
    {
     "data": {
      "text/plain": [
       "-3.0999999999999996"
      ]
     },
     "execution_count": 10,
     "metadata": {},
     "output_type": "execute_result"
    }
   ],
   "source": [
    "myH.energy(mySpinQ.input_p_m(\"++-+---+--+\"))"
   ]
  },
  {
   "cell_type": "markdown",
   "id": "a27c8ab6",
   "metadata": {},
   "source": [
    "## Q2: How many configurations are possible for:"
   ]
  },
  {
   "cell_type": "markdown",
   "id": "6295104e",
   "metadata": {},
   "source": [
    "(a) N=10?"
   ]
  },
  {
   "cell_type": "code",
   "execution_count": 11,
   "id": "5361902d",
   "metadata": {},
   "outputs": [
    {
     "data": {
      "text/plain": [
       "1024"
      ]
     },
     "execution_count": 11,
     "metadata": {},
     "output_type": "execute_result"
    }
   ],
   "source": [
    "2**10"
   ]
  },
  {
   "cell_type": "markdown",
   "id": "8008e273",
   "metadata": {},
   "source": [
    "(b) N=100?"
   ]
  },
  {
   "cell_type": "code",
   "execution_count": 12,
   "id": "a948fa9a",
   "metadata": {},
   "outputs": [
    {
     "data": {
      "text/plain": [
       "1267650600228229401496703205376"
      ]
     },
     "execution_count": 12,
     "metadata": {},
     "output_type": "execute_result"
    }
   ],
   "source": [
    "2**100"
   ]
  },
  {
   "cell_type": "markdown",
   "id": "75070f4d",
   "metadata": {},
   "source": [
    "(c) N=1000?"
   ]
  },
  {
   "cell_type": "code",
   "execution_count": 13,
   "id": "637238be",
   "metadata": {},
   "outputs": [
    {
     "data": {
      "text/plain": [
       "10715086071862673209484250490600018105614048117055336074437503883703510511249361224931983788156958581275946729175531468251871452856923140435984577574698574803934567774824230985421074605062371141877954182153046474983581941267398767559165543946077062914571196477686542167660429831652624386837205668069376"
      ]
     },
     "execution_count": 13,
     "metadata": {},
     "output_type": "execute_result"
    }
   ],
   "source": [
    "2**1000"
   ]
  },
  {
   "cell_type": "markdown",
   "id": "f0c9d016-a10a-42d2-9a0f-388c52b2544b",
   "metadata": {},
   "source": [
    "## Properties\n",
    "For any fixed state, $\\alpha$, the `magnetization` ($M$) is proportional to the _excess_ number of spins pointing up or down while the energy is given by the\n",
    "Hamiltonian:\n",
    "$$M(\\alpha) = N_{\\text{up}}(\\alpha) - N_{\\text{down}}(\\alpha).$$\n",
    "As a dynamical, fluctuating system, each time you measure the magnetization, the system might be in a different state ($\\alpha$) and so you'll get a different number!\n",
    "However, we already know what the probability of measuring any particular $\\alpha$ is, so in order to compute the average magnetization, $\\left<M\\right>$, we just need to multiply the magnetization of each possible configuration times the probability of it being measured, and then add them all up!\n",
    "$$ \\left<M\\right> = \\sum_\\alpha M(\\alpha)P(\\alpha).$$\n",
    "In fact, any average value can be obtained by adding up the value of an individual configuration multiplied by it's probability:\n",
    "$$ \\left<E\\right> = \\sum_\\alpha E(\\alpha)P(\\alpha).$$\n",
    "\n",
    "This means that to obtain any average value (also known as an `expectation value`) computationally, we must compute the both the value and probability of all possible configurations. This becomes extremely expensive as the number of spins ($N$) increases. "
   ]
  },
  {
   "cell_type": "code",
   "execution_count": 46,
   "id": "239dea8a",
   "metadata": {},
   "outputs": [
    {
     "name": "stdout",
     "output_type": "stream",
     "text": [
      "spinconfig created\n",
      "class Hamiltnoian created\n"
     ]
    }
   ],
   "source": [
    "import math\n",
    "\n",
    "k = 1\n",
    "mySpin = SpinConfig()\n",
    "myH = Hamiltonian()\n",
    "\n",
    "#for myN=8 spin number, total possible configuration number: \n",
    "myN=8\n",
    "iMax = 2**myN"
   ]
  },
  {
   "cell_type": "code",
   "execution_count": 47,
   "id": "b129d452",
   "metadata": {},
   "outputs": [],
   "source": [
    "spinList=[]\n",
    "i=0\n",
    "while i<iMax:\n",
    "    spinList.append(mySpin.input_decimal(i,myN))\n",
    "    i+=1\n",
    "\n",
    "\n",
    "    \n",
    "energyList=[]\n",
    "i=0\n",
    "while i<iMax:\n",
    "    energyList.append(myH.energy(spinList[i]))\n",
    "    i+=1\n",
    "    \n",
    "    \n",
    "magnetList=[]\n",
    "i=0\n",
    "while i<iMax:\n",
    "    magnetList.append(myH.magnetization(spinList[i]))\n",
    "    i+=1\n",
    "    \n"
   ]
  },
  {
   "cell_type": "code",
   "execution_count": 17,
   "id": "a05892cc",
   "metadata": {},
   "outputs": [
    {
     "data": {
      "text/plain": [
       "1.4000000000000004"
      ]
     },
     "execution_count": 17,
     "metadata": {},
     "output_type": "execute_result"
    }
   ],
   "source": [
    "energyList[2]"
   ]
  },
  {
   "cell_type": "markdown",
   "id": "fca4e3ec",
   "metadata": {},
   "source": [
    "### Partition function"
   ]
  },
  {
   "cell_type": "code",
   "execution_count": 22,
   "id": "d1f6c799",
   "metadata": {},
   "outputs": [],
   "source": [
    "# partition function myZ:\n",
    "def myZ(Temp):\n",
    "    \n",
    "    Zval = 0\n",
    "    i=0\n",
    "    while i<iMax:\n",
    "        Zval += math.exp(-energyList[i]/(k*Temp))\n",
    "        i+=1\n",
    "        \n",
    "    return Zval"
   ]
  },
  {
   "cell_type": "code",
   "execution_count": 25,
   "id": "ca6d8728",
   "metadata": {},
   "outputs": [],
   "source": [
    "# define probability function prob[spinConfig]\n",
    "def myp(i,Temp):\n",
    "\n",
    "    return math.exp(-energyList[i]/(k*Temp))/myZ(Temp)\n",
    "    \n",
    "    "
   ]
  },
  {
   "cell_type": "code",
   "execution_count": 30,
   "id": "f105d56e",
   "metadata": {},
   "outputs": [
    {
     "name": "stdout",
     "output_type": "stream",
     "text": [
      "0.9999999999999997\n"
     ]
    }
   ],
   "source": [
    "# check it is normalized\n",
    "\n",
    "mysum=0\n",
    "i=0\n",
    "while i<iMax:\n",
    "    mysum += myp(i,10)\n",
    "    i+=1\n",
    "print(mysum)"
   ]
  },
  {
   "cell_type": "code",
   "execution_count": 57,
   "id": "277fab82",
   "metadata": {},
   "outputs": [],
   "source": [
    "# average energy\n",
    "\n",
    "def energy_Ave(T):\n",
    "    \n",
    "    E_ave=0   \n",
    "    i=0\n",
    "    while i<iMax:\n",
    "        E_ave += myp(i,T) * energyList[i]\n",
    "        i+=1\n",
    "        \n",
    "    return E_ave\n",
    "\n",
    "\n",
    "def energy_square_Ave(T):\n",
    "    \n",
    "    EE_ave=0   \n",
    "    i=0\n",
    "    while i<iMax:\n",
    "        EE_ave += myp(i,T) * energyList[i]**2\n",
    "        i+=1\n",
    "        \n",
    "    return EE_ave\n",
    "    \n",
    "    "
   ]
  },
  {
   "cell_type": "code",
   "execution_count": 58,
   "id": "49f2c898",
   "metadata": {
    "scrolled": true
   },
   "outputs": [
    {
     "data": {
      "text/plain": [
       "40.39835185843393"
      ]
     },
     "execution_count": 58,
     "metadata": {},
     "output_type": "execute_result"
    }
   ],
   "source": [
    "energy_square_Ave(20)"
   ]
  },
  {
   "cell_type": "markdown",
   "id": "063f6841",
   "metadata": {},
   "source": [
    "###  Average Magnetization"
   ]
  },
  {
   "cell_type": "code",
   "execution_count": 61,
   "id": "1cd584a7",
   "metadata": {},
   "outputs": [],
   "source": [
    "def magnet_Ave(T):\n",
    "    \n",
    "    m_ave=0   \n",
    "    i=0\n",
    "    while i < iMax:\n",
    "        m_ave += myp(i,T) * magnetList[i]\n",
    "        i+=1\n",
    "        \n",
    "    return m_ave\n",
    "\n",
    "\n",
    "def magnet_square_Ave(T):\n",
    "    \n",
    "    mm_ave=0   \n",
    "    i=0\n",
    "    while i < iMax:\n",
    "        mm_ave += myp(i,T) * magnetList[i]**2\n",
    "        i+=1\n",
    "        \n",
    "    return mm_ave\n",
    "    "
   ]
  },
  {
   "cell_type": "code",
   "execution_count": 62,
   "id": "cfdb1e4f",
   "metadata": {},
   "outputs": [
    {
     "data": {
      "text/plain": [
       "5.857366709949135"
      ]
     },
     "execution_count": 62,
     "metadata": {},
     "output_type": "execute_result"
    }
   ],
   "source": [
    "magnet_square_Ave(11)"
   ]
  },
  {
   "cell_type": "code",
   "execution_count": 63,
   "id": "4258128a",
   "metadata": {},
   "outputs": [
    {
     "data": {
      "text/plain": [
       "-0.5556958283570389"
      ]
     },
     "execution_count": 63,
     "metadata": {},
     "output_type": "execute_result"
    }
   ],
   "source": [
    "magnet_Ave(11)"
   ]
  },
  {
   "cell_type": "markdown",
   "id": "2242846c",
   "metadata": {},
   "source": [
    "### heat capacity"
   ]
  },
  {
   "cell_type": "code",
   "execution_count": 59,
   "id": "17ed7f63",
   "metadata": {},
   "outputs": [],
   "source": [
    "def capacity(T):\n",
    "    \n",
    "    return (energy_square_Ave(T) - energy_Ave(T)**2)/(k*T*T)\n"
   ]
  },
  {
   "cell_type": "code",
   "execution_count": 68,
   "id": "b4333a35",
   "metadata": {},
   "outputs": [
    {
     "data": {
      "text/plain": [
       "1.058602870856049"
      ]
     },
     "execution_count": 68,
     "metadata": {},
     "output_type": "execute_result"
    }
   ],
   "source": [
    "capacity(1)"
   ]
  },
  {
   "cell_type": "code",
   "execution_count": 64,
   "id": "b52a8c83",
   "metadata": {},
   "outputs": [],
   "source": [
    "def ms(T):\n",
    "    \n",
    "    return (magnet_square_Ave(T) - magnet_Ave(T)**2)/(k*T*T)\n"
   ]
  },
  {
   "cell_type": "code",
   "execution_count": 65,
   "id": "3c331d39",
   "metadata": {},
   "outputs": [
    {
     "data": {
      "text/plain": [
       "0.29038480202240996"
      ]
     },
     "execution_count": 65,
     "metadata": {},
     "output_type": "execute_result"
    }
   ],
   "source": [
    "ms(2)"
   ]
  },
  {
   "cell_type": "markdown",
   "id": "da4d68aa",
   "metadata": {},
   "source": [
    "# Plot"
   ]
  },
  {
   "cell_type": "code",
   "execution_count": 66,
   "id": "9a9b632e",
   "metadata": {},
   "outputs": [
    {
     "ename": "NameError",
     "evalue": "name 't1' is not defined",
     "output_type": "error",
     "traceback": [
      "\u001b[0;31m---------------------------------------------------------------------------\u001b[0m",
      "\u001b[0;31mNameError\u001b[0m                                 Traceback (most recent call last)",
      "\u001b[0;32m/var/folders/b4/sj01gm1d57n3zlbr0g2g39s00000gn/T/ipykernel_81891/1158988709.py\u001b[0m in \u001b[0;36m<module>\u001b[0;34m\u001b[0m\n\u001b[1;32m      3\u001b[0m \u001b[0;32mimport\u001b[0m \u001b[0mnumpy\u001b[0m \u001b[0;32mas\u001b[0m \u001b[0mnp\u001b[0m\u001b[0;34m\u001b[0m\u001b[0;34m\u001b[0m\u001b[0m\n\u001b[1;32m      4\u001b[0m \u001b[0;34m\u001b[0m\u001b[0m\n\u001b[0;32m----> 5\u001b[0;31m \u001b[0mplt\u001b[0m\u001b[0;34m.\u001b[0m\u001b[0mplot\u001b[0m\u001b[0;34m(\u001b[0m\u001b[0mt1\u001b[0m\u001b[0;34m,\u001b[0m \u001b[0mms\u001b[0m\u001b[0;34m(\u001b[0m\u001b[0mt1\u001b[0m\u001b[0;34m)\u001b[0m\u001b[0;34m)\u001b[0m\u001b[0;34m\u001b[0m\u001b[0;34m\u001b[0m\u001b[0m\n\u001b[0m",
      "\u001b[0;31mNameError\u001b[0m: name 't1' is not defined"
     ]
    }
   ],
   "source": [
    "import matplotlib.pyplot as plt\n",
    "\n",
    "import numpy as np\n",
    "\n",
    "plt.plot(t1, ms(t1))\n"
   ]
  },
  {
   "cell_type": "code",
   "execution_count": null,
   "id": "c71ea804",
   "metadata": {},
   "outputs": [],
   "source": []
  },
  {
   "cell_type": "code",
   "execution_count": null,
   "id": "11ca0619",
   "metadata": {},
   "outputs": [],
   "source": []
  },
  {
   "cell_type": "markdown",
   "id": "941eae54-5115-480b-8398-b17c3c75c956",
   "metadata": {},
   "source": [
    "## P3: Write a function that computes the magnetization of a spin configuration"
   ]
  },
  {
   "cell_type": "code",
   "execution_count": null,
   "id": "8139466b-5b34-469a-92f4-97b57c21ae6b",
   "metadata": {},
   "outputs": [],
   "source": []
  },
  {
   "cell_type": "code",
   "execution_count": null,
   "id": "d0d587a6",
   "metadata": {},
   "outputs": [],
   "source": []
  }
 ],
 "metadata": {
  "kernelspec": {
   "display_name": "Python 3 (ipykernel)",
   "language": "python",
   "name": "python3"
  },
  "language_info": {
   "codemirror_mode": {
    "name": "ipython",
    "version": 3
   },
   "file_extension": ".py",
   "mimetype": "text/x-python",
   "name": "python",
   "nbconvert_exporter": "python",
   "pygments_lexer": "ipython3",
   "version": "3.9.7"
  }
 },
 "nbformat": 4,
 "nbformat_minor": 5
}
