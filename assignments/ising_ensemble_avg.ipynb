{
 "cells": [
  {
   "cell_type": "markdown",
   "id": "e7021fa8",
   "metadata": {},
   "source": [
    "# Ising Model \n",
    "For a graph, $G = (E,V)$, defined by a set of edges, $E$, and vertices, $V$, we want to represent an Ising model, where the edge weights, $w_{ij}$ are given by the spin interactions, i.e., $w_{ij} = J_{ij}$.\n",
    "\n",
    "Given a configuration of spins (e.g., $\\uparrow\\downarrow\\downarrow\\uparrow\\downarrow$) we can define the energy using what is referred to as an Ising Hamiltonian:\n",
    "$$ \\hat{H} = \\sum_{(i,j)\\in E}J_{ij} s_is_j$$\n",
    "where, $s_i=1$ if the $i^{th}$ spin is `up` and $s_i=-1$ if it is `down`, and the sumation runs over all edges in the graph. \n",
    "**Note:** As we saw before, this Hamiltonian operator is simple, in that a single `BitString` returns a single energy. This is because the matrix representation of the Hamiltonian operator in the computational basis (i.e., basis of all possible `BitString`'s) is a diagonal matrix. However, most quantum mechanical Hamiltonians will not be diagonal, and in that case applying $H$ to a single `BitString` would generate multiple `BitString`'s.   \n"
   ]
  },
  {
   "cell_type": "markdown",
   "id": "6ea117c0",
   "metadata": {},
   "source": [
    "\n",
    "# Thermodynamic averages\n",
    "In the previous notebook, we used the Hamiltonian (which was defined as a graph) to find the lowest \"energy\" configuration (`BitString`). However, often times we want to compute average values of an observable over all possible configurations. Imagine that you have a bag containing some mixture of `BitString`'s. If we reach into the back and pull out a `BitString` at random, the probability of observing the specific `BitString` ket ${\\alpha}$ will be denoted as $P(\\alpha)$. Each possible `BitString` has its own probability. \n",
    "\n",
    "Given this situation, what is the average energy in the bag? To answer this, we could just pull out each `BitString`, measure it's energy, add them all up, and divide by the total number of `BitString`s. Or if we knew the probabilty of observing each possible `BitString`, we could equivalently, add up the probabilities times the energy, $E(\\alpha)$, of each possible `BitString`:\n",
    "$$\n",
    "\\left<E\\right> = \\sum_\\alpha P(\\alpha)E(\\alpha)\n",
    "$$ \n",
    "In this sense, the average energy (or any average quantity) depends on the given probability distribution in the bag. \n",
    "\n",
    "While there are an infinite number of possible probability distributions one might interact with, a very common distribution (and the one we will focus on) is the `Gibbs Distribution`, also called the `Boltzmann Distribution`:\n",
    "$$\n",
    "P(\\alpha) = \\frac{e^{-\\beta E(\\alpha)}}{Z} = \\frac{e^{-\\beta E(\\alpha)}}{\\sum_{\\alpha'}e^{-\\beta E(\\alpha')}}\n",
    "$$\n",
    "where $\\beta$ sometimes has a physical meaning of $\\beta = 1/kT$, where $k$ is the Boltzmann constant, $k = 1.38064852 \\times 10^{-23} J/K$ and $T$ is the temperature in Kelvin. We generally refer to the normalization constant $Z$ as the partition function. \n",
    "\n",
    "This expression, defines the probability of observing a particular configuration of spins, $\\alpha$. As you can see, the probability of pulling $\\alpha$ out of your bag decays exponentially with increasing energy of $\\alpha$, $E(\\alpha)$. This expression governs the behavior of the vast majority of physical systems, meaning that in nature at low temperatures, one typically expects to observe the lowest possible configuration of a system.\n",
    "\n",
    "If the population (e.g., the bag of `BitString`s) is known to form a Boltzmann distribution, the expectation value of any quantity, `A`, can be defined as:\n",
    "$$\n",
    "\\left<A\\right> = \\frac{\\sum_\\alpha e^{-\\beta E(\\alpha)}A(\\alpha)}{Z}.\n",
    "$$"
   ]
  },
  {
   "cell_type": "markdown",
   "id": "354ba7ae",
   "metadata": {},
   "source": [
    "# Properties\n",
    "\n",
    "For any fixed state, $\\alpha$, the `magnetization` ($M$) is proportional to the _excess_ number of spins pointing up or down while the energy is given by the\n",
    "Hamiltonian:\n",
    "$$M(\\alpha) = N_{\\text{up}}(\\alpha) - N_{\\text{down}}(\\alpha).$$\n",
    "As a dynamical, fluctuating system, each time you measure the magnetization, the system might be in a different state ($\\alpha$) and so you'll get a different number!\n",
    "However, we already know what the probability of measuring any particular $\\alpha$ is, so in order to compute the average magnetization, $\\left<M\\right>$, we just need to multiply the magnetization of each possible configuration times the probability of it being measured, and then add them all up!\n",
    "$$ \\left<M\\right> = \\sum_\\alpha M(\\alpha)P(\\alpha).$$\n",
    "In fact, any average value can be obtained by adding up the value of an individual configuration multiplied by it's probability:\n",
    "$$ \\left<E\\right> = \\sum_\\alpha E(\\alpha)P(\\alpha).$$\n",
    "\n",
    "This means that to exactly obtain any average value (also known as an `expectation value`) computationally, we must compute the both the value and probability of all possible configurations. This becomes extremely expensive as the number of spins ($N$) increases.\n",
    "\n",
    "The expectation values we will compute in this notebook are\n",
    "\\begin{align}\n",
    "\\text{Energy} &= \\left<E\\right> \\\\\n",
    "\\text{Magnetization} &= \\left<M\\right> \\\\\n",
    "\\text{Heat Capacity} &= \\left(\\left<E^2\\right>-\\left<E\\right>^2\\right)T^{-2} \\\\\n",
    "\\text{Magnetic Susceptibility} &= \\left(\\left<M^2\\right>-\\left<M\\right>^2\\right)T^{-1}\n",
    "\\end{align}"
   ]
  },
  {
   "cell_type": "markdown",
   "id": "b82c23fb",
   "metadata": {},
   "source": [
    "# Expectation values for Boltzmann Distribution\n",
    "\n",
    "In this notebook, we will write code to compute the expectation values of a few different properties, at a given temperature. We will then see how these change with temperature. "
   ]
  },
  {
   "cell_type": "markdown",
   "id": "edf42490",
   "metadata": {},
   "source": [
    "## Load packages"
   ]
  },
  {
   "cell_type": "code",
   "execution_count": 1,
   "id": "b4d193f8",
   "metadata": {},
   "outputs": [],
   "source": [
    "import numpy as np\n",
    "import networkx as nx\n",
    "import matplotlib.pyplot as plt\n",
    "import random\n",
    "import math\n",
    "random.seed(2)"
   ]
  },
  {
   "cell_type": "markdown",
   "id": "e13e02dd",
   "metadata": {},
   "source": [
    "## Create a graph that defines the Ising interactions"
   ]
  },
  {
   "cell_type": "code",
   "execution_count": 2,
   "id": "b69405be",
   "metadata": {},
   "outputs": [
    {
     "data": {
      "image/png": "[encoded data removed]",
      "text/plain": [
       "<Figure size 640x480 with 1 Axes>"
      ]
     },
     "metadata": {},
     "output_type": "display_data"
    }
   ],
   "source": [
    "N = 6\n",
    "Jval = 2.0\n",
    "G = nx.Graph()\n",
    "G.add_nodes_from([i for i in range(N)])\n",
    "G.add_edges_from([(i,(i+1)% G.number_of_nodes() ) for i in range(N)])\n",
    "for e in G.edges:\n",
    "    G.edges[e]['weight'] = Jval\n",
    "\n",
    "# Now Draw the graph. \n",
    "plt.figure(1)\n",
    "nx.draw(G, with_labels=True, font_weight='bold')\n",
    "plt.show()"
   ]
  },
  {
   "cell_type": "markdown",
   "id": "d996befd",
   "metadata": {},
   "source": [
    "## Add your BitString class here:"
   ]
  },
  {
   "cell_type": "code",
   "execution_count": 3,
   "id": "88847564",
   "metadata": {},
   "outputs": [],
   "source": [
    "class BitString:\n",
    "    \"\"\"\n",
    "    Simple class to implement a config of bits\n",
    "    \"\"\"\n",
    "    def __init__(self, N):\n",
    "        self.N = N\n",
    "        self.config = np.zeros(N, dtype=int) \n",
    "\n",
    "    def __repr__(self):\n",
    "        selfString = ''\n",
    "        for bit in self.config:\n",
    "            selfString += str(bit)\n",
    "        return selfString\n",
    "\n",
    "    def __eq__(self, other):\n",
    "        return (self.config == other.config).all()\n",
    "    \n",
    "    def __len__(self):\n",
    "        return self.N\n",
    "\n",
    "    def on(self):\n",
    "        num_on = 0\n",
    "        for bit in self.config:\n",
    "            if bit == 1:\n",
    "                num_on += 1\n",
    "        return num_on\n",
    "    \n",
    "    def off(self):\n",
    "        num_off = 0\n",
    "        for bit in self.config:\n",
    "            if bit == 0:\n",
    "                num_off += 1\n",
    "        return num_off\n",
    "    \n",
    "    def flip_site(self,i):\n",
    "        self.config[i] ^= 1\n",
    "    \n",
    "    def int(self):\n",
    "        return int(str(self), 2)\n",
    "  \n",
    "    def set_config(self, s:list[int]):\n",
    "        self.config = s\n",
    "        \n",
    "    def set_int_config(self, dec:int):\n",
    "        # bin_string = bin(dec)[2:]\n",
    "        # bin_string = bin_string.zfill(self.N)\n",
    "        # for i in range(self.N-1):\n",
    "        #     self.config[i] = bin_string[i]\n",
    "\n",
    "        self.config = np.zeros(self.N, dtype=int) \n",
    "\n",
    "        i = 1\n",
    "        while dec != 0:\n",
    "            self.config[-i] = dec % 2\n",
    "            dec = dec // 2\n",
    "            i += 1\n"
   ]
  },
  {
   "cell_type": "markdown",
   "id": "a9f7d36d",
   "metadata": {},
   "source": [
    "## Write your energy function here:"
   ]
  },
  {
   "cell_type": "code",
   "execution_count": 4,
   "id": "f93baaa9",
   "metadata": {},
   "outputs": [],
   "source": [
    "def energy(bs: BitString, G: nx.Graph):\n",
    "    \"\"\"Compute energy of configuration, `bs`\n",
    "\n",
    "        .. math::\n",
    "            E = \\\\left<\\\\hat{H}\\\\right>\n",
    "\n",
    "    Parameters\n",
    "    ----------\n",
    "    bs   : Bitstring\n",
    "        input configuration\n",
    "    G    : Graph\n",
    "        input graph defining the Hamiltonian\n",
    "    Returns\n",
    "    -------\n",
    "    energy  : float\n",
    "        Energy of the input configuration\n",
    "    \"\"\"\n",
    "    # energy = sum of J_ij * S_i * S_j = J_ij * translation_thingy(S_i, S_j)\n",
    "    # J represents whether or not the qubits are adjacent\n",
    "\n",
    "    # translating 0 and 1 to -1 and 1\n",
    "    def z1_to_n1(bit1, bit2):\n",
    "        if bit1 == bit2:\n",
    "            return 1\n",
    "        else:\n",
    "            return -1\n",
    "            \n",
    "    # array_J = nx.adjacency_matrix(G).todense()\n",
    "    nrg = 0\n",
    "    # for i in range(bs.N):\n",
    "    #     for j in range(i, bs.N):\n",
    "    #         nrg += array_J[i,j] * z1_to_n1(bs.config[i], bs.config[j])\n",
    "    for (i,j) in G.edges:\n",
    "        nrg += G.edges[(i,j)]['weight'] * z1_to_n1(bs.config[i], bs.config[j])\n",
    "\n",
    "    return nrg\n"
   ]
  },
  {
   "cell_type": "markdown",
   "id": "6ca7718c",
   "metadata": {},
   "source": [
    "## Write function to compute the thermodynamic averages"
   ]
  },
  {
   "cell_type": "code",
   "execution_count": 5,
   "id": "b906af0d",
   "metadata": {},
   "outputs": [],
   "source": [
    "def compute_average_values(bs:BitString, G: nx.Graph, T: float):\n",
    "    \"\"\"\n",
    "    Compute the average value of Energy, Magnetization, \n",
    "    Heat Capacity, and Magnetic Susceptibility \n",
    "\n",
    "        .. math::\n",
    "            E = \\\\left<\\\\hat{H}\\\\right>\n",
    "\n",
    "    Parameters\n",
    "    ----------\n",
    "    bs   : Bitstring\n",
    "        input configuration\n",
    "    G    : Graph\n",
    "        input graph defining the Hamiltonian\n",
    "    T    : float\n",
    "        temperature of the system\n",
    "    Returns\n",
    "    -------\n",
    "    energy  : float\n",
    "    magnetization  : float\n",
    "    heat capacity  : float\n",
    "    magnetic susceptibility  : float\n",
    "    \"\"\"\n",
    "\n",
    "    # k = 1.38064852 * math.pow(10,-23)\n",
    "    k = 1\n",
    "    beta = 1/(k * T)\n",
    "    \n",
    "    ''' Probability of any bs '''\n",
    "    def prob(bs):\n",
    "        return math.exp(-beta * energy(bs, G))\n",
    "    \n",
    "    ''' Defining Z and E using the same loop'''\n",
    "    Z = 0\n",
    "    E = 0\n",
    "    for i in range(2 ** bs.N):\n",
    "        bs.set_int_config(i)\n",
    "        Z += math.exp(-beta * energy(bs, G))\n",
    "        E += prob(bs) * energy(bs, G)\n",
    "    E /= Z\n",
    "\n",
    "    ''' Defining magnetism: M(bs) = N_up(bs - N_down(bs)'''\n",
    "    def mag(bs):\n",
    "        x = 0\n",
    "        for i in bs.config:\n",
    "            x += 2*i - 1\n",
    "        return x\n",
    "    \n",
    "    '''Expectation value function'''\n",
    "    '''\n",
    "    def ex_val(a:BitString, function(a)): # idk about this part chief\n",
    "        EV = 0\n",
    "        for i in range(2 ** a.N):\n",
    "            bs.set_int_config(i)\n",
    "            EV += prob(a) * EV(a)\n",
    "        EV /= Z\n",
    "        return EV\n",
    "    '''\n",
    "\n",
    "    '''Calculating M'''\n",
    "    M = 0\n",
    "    for i in range(2 ** bs.N):\n",
    "        bs.set_int_config(i)\n",
    "        M += prob(bs) * mag(bs)\n",
    "    M /= Z\n",
    "\n",
    "    '''Calculating heat capacity'''\n",
    "    '''HC = (E2 - E**2) / T^2'''\n",
    "    E2 = 0\n",
    "    for i in range(2 ** bs.N):\n",
    "        bs.set_int_config(i)\n",
    "        E2 += prob(bs) * energy(bs, G) ** 2\n",
    "    E2 /= Z\n",
    "    HC = (E2-E**2) / (T**2)\n",
    "\n",
    "    '''MS = (M2 - M**2) / T'''\n",
    "    M2 = 0\n",
    "    for i in range(2 ** bs.N):\n",
    "        bs.set_int_config(i)\n",
    "        M2 += prob(bs) * mag(bs)**2\n",
    "    M2 /= Z\n",
    "    MS = (M2-M**2) / T\n",
    "\n",
    "    return E, M, HC, MS"
   ]
  },
  {
   "cell_type": "code",
   "execution_count": 6,
   "id": "895cd186-2e40-48c6-9f3c-b67104321bc5",
   "metadata": {},
   "outputs": [
    {
     "name": "stdout",
     "output_type": "stream",
     "text": [
      " E  = -11.95991923\n",
      " M  =  -0.00000000\n",
      " HC =   0.31925472\n",
      " MS =   0.01202961\n"
     ]
    }
   ],
   "source": [
    "# Define a new configuration instance for a 6-site lattice\n",
    "conf = BitString(N)\n",
    "\n",
    "# Compute the average values for Temperature = 1\n",
    "E, M, HC, MS = compute_average_values(conf, G, 1)\n",
    "\n",
    "\n",
    "print(\" E  = %12.8f\" %E)\n",
    "print(\" M  = %12.8f\" %M)\n",
    "print(\" HC = %12.8f\" %HC)\n",
    "print(\" MS = %12.8f\" %MS)\n",
    "\n",
    "assert(np.isclose(E,  -11.95991923))\n",
    "assert(np.isclose(M,   -0.00000000))\n",
    "assert(np.isclose(HC,   0.31925472))\n",
    "assert(np.isclose(MS,   0.01202961))\n"
   ]
  },
  {
   "cell_type": "markdown",
   "id": "59a61e1c-d89d-412d-a5f0-4f7d04eab8a5",
   "metadata": {},
   "source": [
    "# Properties vs Temperature (exact)"
   ]
  },
  {
   "cell_type": "code",
   "execution_count": 7,
   "id": "54071e30-5d52-475c-a5ff-f327bb632286",
   "metadata": {},
   "outputs": [
    {
     "name": "stdout",
     "output_type": "stream",
     "text": [
      " Number of configurations:  64\n"
     ]
    },
    {
     "name": "stdout",
     "output_type": "stream",
     "text": [
      " Critical Temperature:   4.30000000 \n",
      "     E:   -5.36028889\n",
      "     M:   -0.00000000\n",
      "     HC:   1.18893365\n",
      "     MS:   0.54308001\n",
      " Critical Temperature:   2.20000000\n",
      " E = -10.21957820 @ T =   2.00000000\n"
     ]
    },
    {
     "data": {
      "image/png": "[encoded data removed]",
      "text/plain": [
       "<Figure size 640x480 with 1 Axes>"
      ]
     },
     "metadata": {},
     "output_type": "display_data"
    }
   ],
   "source": [
    "# Initialize lists that we will fill with the property vs. temperature data\n",
    "e_list = []\n",
    "e2_list = []\n",
    "m_list = []\n",
    "m2_list = []\n",
    "T_list = []\n",
    "\n",
    "# Create BitString\n",
    "conf = BitString(N)\n",
    "print(\" Number of configurations: \", 2**len(conf))\n",
    "\n",
    "\n",
    "for Ti in range(1,100):\n",
    "    T = .1*Ti\n",
    "    \n",
    "    E, M, HC, MS = compute_average_values(conf, G, T)\n",
    "    \n",
    "    e_list.append(E)\n",
    "    m_list.append(M)\n",
    "    e2_list.append(HC)\n",
    "    m2_list.append(MS)\n",
    "    T_list.append(T)\n",
    "\n",
    "\n",
    "plt.plot(T_list, e_list, label=\"energy\");\n",
    "plt.plot(T_list, m_list, label=\"magnetization\");\n",
    "plt.plot(T_list, m2_list, label=\"Susceptibility\");\n",
    "plt.plot(T_list, e2_list, label=\"Heat Capacity\");\n",
    "plt.legend();\n",
    "\n",
    "Tc_ind = np.argmax(m2_list)\n",
    "print(\" Critical Temperature: %12.8f \" %(T_list[Tc_ind]))\n",
    "print(\"     E:  %12.8f\" %(e_list[Tc_ind]))\n",
    "print(\"     M:  %12.8f\" %(m_list[Tc_ind]))\n",
    "print(\"     HC: %12.8f\" %(e2_list[Tc_ind]))\n",
    "print(\"     MS: %12.8f\" %(m2_list[Tc_ind]))\n",
    "Tc2 = T_list[np.argmax(e2_list)]\n",
    "print(\" Critical Temperature: %12.8f\" %(Tc2))\n",
    "\n",
    "print(\" E = %12.8f @ T = %12.8f\"% (e_list[T_list.index(2.00)], 2.0))\n"
   ]
  },
  {
   "cell_type": "markdown",
   "id": "a97b02a9-37ea-4f6c-b59b-cc0103181da6",
   "metadata": {},
   "source": [
    "----\n"
   ]
  }
 ],
 "metadata": {
  "kernelspec": {
   "display_name": "Python 3 (ipykernel)",
   "language": "python",
   "name": "python3"
  },
  "language_info": {
   "codemirror_mode": {
    "name": "ipython",
    "version": 3
   },
   "file_extension": ".py",
   "mimetype": "text/x-python",
   "name": "python",
   "nbconvert_exporter": "python",
   "pygments_lexer": "ipython3",
   "version": "3.11.7"
  }
 },
 "nbformat": 4,
 "nbformat_minor": 5
}
