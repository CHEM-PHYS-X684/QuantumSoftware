{
 "cells": [
  {
   "cell_type": "markdown",
   "id": "05f4f5fc-34ca-4f61-82a6-0c0ffc8895f3",
   "metadata": {},
   "source": [
    "# Shell \n",
    "\n",
    "After each text prompt, fill in the command that you would execute at the command line to complete the described task."
   ]
  },
  {
   "cell_type": "markdown",
   "id": "e9a7e45d-c8b9-4cd2-8ffd-d2156ebc9436",
   "metadata": {},
   "source": [
    "1. Go to your home directory. "
   ]
  },
  {
   "cell_type": "markdown",
   "id": "d4924c57-45ff-4198-87ad-79a94d31e11a",
   "metadata": {},
   "source": [
    "**cd ~**"
   ]
  },
  {
   "cell_type": "markdown",
   "id": "754eaab8-8096-4c21-bdbc-2a93f46fd221",
   "metadata": {
    "tags": []
   },
   "source": [
    "2. After creating a new file called \"quantum1.txt\" and add the following text:\n",
    "> Taylor Swift and Harry Styles dated apparently(my kids told me this).\n",
    "\n",
    "move this file to a new subfolder (which doesn't yet exist) named \"3684_jan24\""
   ]
  },
  {
   "cell_type": "markdown",
   "id": "b391fb43-7a76-4c0e-a4a1-54f29c711c9f",
   "metadata": {},
   "source": [
    "**echo \"Taylor Swift and Harry Styles dated apparently(my kids told me this).\" > quantum1.txt**\n",
    "**mkdir 3684_jan24**\n",
    "**mv quantum1.txt 3684_jan24**"
   ]
  },
  {
   "cell_type": "markdown",
   "id": "6c8d104a-6942-4cb2-bf35-797a2e83d6f7",
   "metadata": {},
   "source": [
    "3. Print out the absolute path for this new directory"
   ]
  },
  {
   "cell_type": "markdown",
   "id": "babe92b2-1ec5-42c2-97ac-c68714a29e3c",
   "metadata": {},
   "source": [
    "**realpath 3684_jan24**"
   ]
  },
  {
   "cell_type": "markdown",
   "id": "b7686d26-4884-4218-afc3-6eb5ae01b155",
   "metadata": {},
   "source": [
    "4. Construct a single command (meaning you'll hit enter once) such that you move to that directory and print its contents such that it shows information such as date and permissions."
   ]
  },
  {
   "cell_type": "markdown",
   "id": "fecc28c4-b27f-4e86-81b0-a01ac14416b7",
   "metadata": {},
   "source": [
    "**cd 3684_jan24 && ls -l**"
   ]
  },
  {
   "cell_type": "markdown",
   "id": "6c0beabd-380d-49f4-afce-fdae821aca9e",
   "metadata": {},
   "source": [
    "5. copy this file to a new file named \"quantum2.txt\" and then remove the previous file"
   ]
  },
  {
   "cell_type": "markdown",
   "id": "7d71ab8f-835c-4612-9cab-c24ece2d8e9a",
   "metadata": {},
   "source": [
    "**cp quantum1.txt quantum2.txt**\n",
    "\n",
    "**rm quantum1.txt**"
   ]
  },
  {
   "cell_type": "markdown",
   "id": "c686bcc4-ecbc-4e8f-bea1-dae32a82e30e",
   "metadata": {},
   "source": [
    "6. add two new blank files called \"quantum3.txt\" and \"quantum3.md\", then have the terminal list only \"quantum2.txt\" and \"quantum3.txt\""
   ]
  },
  {
   "cell_type": "markdown",
   "id": "ce6bdf1d-86dc-48fb-9c0d-044c95e2089f",
   "metadata": {},
   "source": [
    "**touch quantum3.txt quantum3.md**\n",
    "\n",
    "**ls quantum2.txt quantum3.txt**"
   ]
  },
  {
   "cell_type": "markdown",
   "id": "6ea5576c-1d82-491b-93a8-662c209f15fe",
   "metadata": {},
   "source": [
    "7. after creating a new file called \"midnight rain.txt\" and copying the following text inside: \n",
    "```\n",
    "Rain, he wanted it comfortable\n",
    "I wanted that pain\n",
    "He wanted a bride\n",
    "I was making my own name\n",
    "Chasing that fame\n",
    "He stayed the same\n",
    "All of me changed like midnight\n",
    "My town was a wasteland\n",
    "Full of cages, full of fences\n",
    "Pageant queens and big pretenders\n",
    "But for some, it was paradise\n",
    "My boy was a montage\n",
    "A slow-motion, love potion\n",
    "Jumping off things in the ocean\n",
    "I broke his heart 'cause he was nice\n",
    "He was sunshine, I was midnight rain\n",
    "He wanted it comfortable\n",
    "I wanted that pain\n",
    "He wanted a bride\n",
    "I was making my own name\n",
    "Chasing that fame\n",
    "He stayed the same\n",
    "All of me changed like midnight\n",
    "It came like a postcard\n",
    "Picture perfect, shiny family\n",
    "Holiday, peppermint candy\n",
    "But for him it's every day\n",
    "So I peered through a window\n",
    "A deep portal, time travel\n",
    "All the love we unravel\n",
    "And the life I gave away\n",
    "'Cause he was sunshine\n",
    "I was midnight rain\n",
    "He wanted it comfortable\n",
    "I wanted that pain\n",
    "He wanted a bride\n",
    "I was making my own name\n",
    "Chasing that fame\n",
    "He stayed the same\n",
    "All of me changed\n",
    "Like midnight\n",
    "Rain, he wanted it comfortable\n",
    "I wanted that pain\n",
    "He wanted a bride\n",
    "I was making my own name\n",
    "Chasing that fame\n",
    "He stayed the same\n",
    "All of me changed\n",
    "Like midnight\n",
    "I guess sometimes we all get\n",
    "Just what we wanted, just what we wanted\n",
    "And he never thinks of me\n",
    "Except when I'm on TV\n",
    "I guess sometimes we all get\n",
    "Some kind of haunted, some kind of haunted\n",
    "And I never think of him\n",
    "Except on midnights like this (midnights like this)\n",
    "```\n",
    "\n",
    "write a command that only prints the lines:\n",
    "\n",
    "```\n",
    "Pageant queens and big pretenders\n",
    "So I peered through a window\n",
    "A deep portal, time travel\n",
    "```"
   ]
  },
  {
   "cell_type": "markdown",
   "id": "78c93b50",
   "metadata": {},
   "source": [
    "echo \"Rain, he wanted it comfortable\n",
    "I wanted that pain\n",
    "He wanted a bride\n",
    "I was making my own name\n",
    "Chasing that fame\n",
    "He stayed the same\n",
    "All of me changed like midnight\n",
    "My town was a wasteland\n",
    "Full of cages, full of fences\n",
    "Pageant queens and big pretenders\n",
    "But for some, it was paradise\n",
    "My boy was a montage\n",
    "A slow-motion, love potion\n",
    "Jumping off things in the ocean\n",
    "I broke his heart 'cause he was nice\n",
    "He was sunshine, I was midnight rain\n",
    "He wanted it comfortable\n",
    "I wanted that pain\n",
    "He wanted a bride\n",
    "I was making my own name\n",
    "Chasing that fame\n",
    "He stayed the same\n",
    "All of me changed like midnight\n",
    "It came like a postcard\n",
    "Picture perfect, shiny family\n",
    "Holiday, peppermint candy\n",
    "But for him it's every day\n",
    "So I peered through a window\n",
    "A deep portal, time travel\n",
    "All the love we unravel\n",
    "And the life I gave away\n",
    "'Cause he was sunshine\n",
    "I was midnight rain\n",
    "He wanted it comfortable\n",
    "I wanted that pain\n",
    "He wanted a bride\n",
    "I was making my own name\n",
    "Chasing that fame\n",
    "He stayed the same\n",
    "All of me changed\n",
    "Like midnight\n",
    "Rain, he wanted it comfortable\n",
    "I wanted that pain\n",
    "He wanted a bride\n",
    "I was making my own name\n",
    "Chasing that fame\n",
    "He stayed the same\n",
    "All of me changed\n",
    "Like midnight\n",
    "I guess sometimes we all get\n",
    "Just what we wanted, just what we wanted\n",
    "And he never thinks of me\n",
    "Except when I'm on TV\n",
    "I guess sometimes we all get\n",
    "Some kind of haunted, some kind of haunted\n",
    "And I never think of him\n",
    "Except on midnights like this (midnights like this)\" > \"midnight rain.txt\"\n",
    "\n",
    "sed -n -e '10p' -e '28,29p' \"midnight rain.txt\"\n",
    "\n"
   ]
  },
  {
   "cell_type": "markdown",
   "id": "5f6f00df-2b43-4d6a-ad04-d8111027b2e5",
   "metadata": {},
   "source": [
    "Now go back to your home directory and remove the folder \"3684_jan24\""
   ]
  },
  {
   "cell_type": "markdown",
   "id": "2b8df54c-97fe-4b65-96f5-2b9652ad97ce",
   "metadata": {},
   "source": [
    "**cd ~**\n",
    "\n",
    "**rm -r 3684_jan24**"
   ]
  },
  {
   "cell_type": "markdown",
   "id": "7e6a823e",
   "metadata": {},
   "source": []
  }
 ],
 "metadata": {
  "kernelspec": {
   "display_name": "Python 3 (ipykernel)",
   "language": "python",
   "name": "python3"
  },
  "language_info": {
   "codemirror_mode": {
    "name": "ipython",
    "version": 3
   },
   "file_extension": ".py",
   "mimetype": "text/x-python",
   "name": "python",
   "nbconvert_exporter": "python",
   "pygments_lexer": "ipython3",
   "version": "3.10.8"
  }
 },
 "nbformat": 4,
 "nbformat_minor": 5
}
