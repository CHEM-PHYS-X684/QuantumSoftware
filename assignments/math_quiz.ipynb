{
 "cells": [
  {
   "cell_type": "markdown",
   "metadata": {},
   "source": [
    "# Math Quiz \n",
    "Enter an answer for each question in the markdown box"
   ]
  },
  {
   "attachments": {},
   "cell_type": "markdown",
   "metadata": {},
   "source": [
    "---\n",
    "## Question 1:\n",
    "Evaluate derivative with respect to $x$:\n",
    "$$\n",
    "f(x) = x^4e^{\\left(2x+a\\right)^2}\n",
    "$$\n"
   ]
  },
  {
   "attachments": {},
   "cell_type": "markdown",
   "metadata": {},
   "source": [
    "$$\n",
    "f'(x) = 4x^3e^{(2x+a)^2}(1+x(2x+a))\n",
    "$$"
   ]
  },
  {
   "attachments": {},
   "cell_type": "markdown",
   "metadata": {},
   "source": [
    "---\n",
    "## Question 2:\n",
    "Evaluate the following integral:\n",
    "$$\n",
    "\\int_{-1}^{2} 5t^4\\;dt\n",
    "$$\n"
   ]
  },
  {
   "attachments": {},
   "cell_type": "markdown",
   "metadata": {},
   "source": [
    "$33$"
   ]
  },
  {
   "attachments": {},
   "cell_type": "markdown",
   "metadata": {},
   "source": [
    "---\n",
    "## Question 3:\n",
    "If, $\\hat{A} = \\hat{A}^\\dagger$, what kind of operator is $\\hat{A}$?"
   ]
  },
  {
   "attachments": {},
   "cell_type": "markdown",
   "metadata": {},
   "source": [
    "$\\mathrm{Hermitian}$"
   ]
  },
  {
   "attachments": {},
   "cell_type": "markdown",
   "metadata": {},
   "source": [
    "---\n",
    "## Question 4:\n",
    "If, $\\hat{A}\\hat{A}^\\dagger=\\hat{A}^\\dagger\\hat{A}=\\hat{I}$, what kind of operator is $\\hat{A}$?"
   ]
  },
  {
   "attachments": {},
   "cell_type": "markdown",
   "metadata": {},
   "source": [
    "$\\rm{Unitary}$"
   ]
  },
  {
   "attachments": {},
   "cell_type": "markdown",
   "metadata": {},
   "source": [
    "---\n",
    "## Question 5:\n",
    "If, $\\hat{A}\\hat{A}=\\hat{A}$, what kind of operator is $\\hat{A}$?"
   ]
  },
  {
   "attachments": {},
   "cell_type": "markdown",
   "metadata": {},
   "source": [
    "$\\rm Idempotent$"
   ]
  },
  {
   "attachments": {},
   "cell_type": "markdown",
   "metadata": {},
   "source": [
    "---\n",
    "## Question 6:\n",
    "If $\\hat{A}$ is Idempotent and Involutory, what is $\\hat{A}$?"
   ]
  },
  {
   "attachments": {},
   "cell_type": "markdown",
   "metadata": {},
   "source": [
    "$\\rm The\\ Identity$"
   ]
  },
  {
   "attachments": {},
   "cell_type": "markdown",
   "metadata": {},
   "source": [
    "---\n",
    "## Question 7:\n",
    "Given the following relationship, $\\hat{A}\\ket{v_i} = a_i\\ket{v_i}$, define the following quantities: \n",
    "\t\n",
    "- $a_i$ :\n",
    "- $\\ket{v_i}$ :"
   ]
  },
  {
   "attachments": {},
   "cell_type": "markdown",
   "metadata": {},
   "source": [
    "$$\n",
    "\\begin{split}\n",
    "a_i&:\\ \\rm is\\ an\\ eigenvalue\n",
    "\\\\\n",
    "\\ket{v_i}&:\\ \\rm is\\ an\\ eigenvector\n",
    "\\end{split}\n",
    "$$"
   ]
  },
  {
   "attachments": {},
   "cell_type": "markdown",
   "metadata": {},
   "source": [
    "---\n",
    "## Question 8:\n",
    " Given the following :\n",
    "- $\\mathbf{x} = \\begin{pmatrix}a\\\\b\\end{pmatrix}$\n",
    "- $\\mathbf{y} = \\begin{pmatrix}c\\\\d\\end{pmatrix}$\n",
    "- $\\mathbf{X} = \\begin{pmatrix}a & b \\\\ c & d\\end{pmatrix}$\n",
    "- $\\mathbf{Y} = \\begin{pmatrix}c & d \\\\ e & f\\end{pmatrix}$\n",
    "\n",
    "Compute: \n",
    "1. $\\mathbf{Y}\\mathbf{x} = ?$\n",
    "1. $\\mathbf{x}^\\dagger\\mathbf{Y} = ?$\n",
    "1. $\\mathbf{X}^\\dagger\\mathbf{Y} = ?$ \n",
    "1. $Trace(\\hat{X}) = ?$"
   ]
  },
  {
   "attachments": {},
   "cell_type": "markdown",
   "metadata": {},
   "source": [
    "$$\n",
    "\\begin{split}\n",
    "\n",
    "1)\\,&\\quad\n",
    "\\begin{pmatrix} \n",
    "ac+bd \\\\ ae+bf  \n",
    "\\end{pmatrix}\n",
    "\\\\\n",
    "\n",
    "2)\\,&\\quad\n",
    "\\begin{pmatrix}\n",
    "a^*c+b^*e & a^*d+b^*f\n",
    "\\end{pmatrix}\n",
    "\\\\\n",
    "\n",
    "3)\\,&\\quad\n",
    "\\begin{pmatrix}\n",
    "a^*c + c^*e & a^*d + c^*f \\\\\n",
    "b^*c + d^*e & b^*d + d^*f\n",
    "\\end{pmatrix}\n",
    "\\\\\n",
    "\n",
    "4)\\,&\\quad\n",
    "a+d\n",
    "\n",
    "\\end{split}\n",
    "$$"
   ]
  },
  {
   "attachments": {},
   "cell_type": "markdown",
   "metadata": {},
   "source": [
    "---\n",
    "## Question 9:\n",
    "Compute the following commutator: $\\left[\\begin{pmatrix} 1 & 2 \\\\ 3 & 4\\end{pmatrix},\\begin{pmatrix} 5 & 6 \\\\ 7 & 8\\end{pmatrix}\\right]$"
   ]
  },
  {
   "attachments": {},
   "cell_type": "markdown",
   "metadata": {},
   "source": [
    "$$\n",
    "\\begin{pmatrix}\n",
    "-4 & -12 \\\\\n",
    "12 & 4\n",
    "\\end{pmatrix}\n",
    "$$"
   ]
  },
  {
   "cell_type": "markdown",
   "metadata": {},
   "source": []
  }
 ],
 "metadata": {
  "language_info": {
   "name": "python"
  },
  "orig_nbformat": 4
 },
 "nbformat": 4,
 "nbformat_minor": 2
}
