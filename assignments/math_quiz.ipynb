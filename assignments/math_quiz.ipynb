{
 "cells": [
  {
   "cell_type": "markdown",
   "metadata": {},
   "source": [
    "# Math Quiz \n",
    "Enter an answer for each question in the markdown box"
   ]
  },
  {
   "attachments": {},
   "cell_type": "markdown",
   "metadata": {},
   "source": [
    "---\n",
    "## Question 1:\n",
    "Evaluate derivative with respect to $x$:\n",
    "$$\n",
    "f(x) = x^4e^{\\left(2x+a\\right)^2}\n",
    "$$\n"
   ]
  },
  {
   "attachments": {},
   "cell_type": "markdown",
   "metadata": {},
   "source": [
    "$$\n",
    "{df/dx(x)} = 4x^3e^{\\left(2x+a\\right)^2} + x^4e^{\\left(2x+a\\right)^2}2(2x+a)(2) = 4x^3e^{\\left(2x+a\\right)^2} + (8x+4a)x^4e^{\\left(2x+a\\right)^2}\n",
    "$$"
   ]
  },
  {
   "attachments": {},
   "cell_type": "markdown",
   "metadata": {},
   "source": [
    "---\n",
    "## Question 2:\n",
    "Evaluate the following integral:\n",
    "$$\n",
    "\\int_{-1}^{2} 5t^4\\;dt\n",
    "$$\n"
   ]
  },
  {
   "attachments": {},
   "cell_type": "markdown",
   "metadata": {},
   "source": [
    "$$\n",
    "(2^5 - (-1)^5) = 33\n",
    "$$"
   ]
  },
  {
   "attachments": {},
   "cell_type": "markdown",
   "metadata": {},
   "source": [
    "---\n",
    "## Question 3:\n",
    "If, $\\hat{A} = \\hat{A}^\\dagger$, what kind of operator is $\\hat{A}$?"
   ]
  },
  {
   "attachments": {},
   "cell_type": "markdown",
   "metadata": {},
   "source": [
    "Hermitian Operator\n"
   ]
  },
  {
   "attachments": {},
   "cell_type": "markdown",
   "metadata": {},
   "source": [
    "---\n",
    "## Question 4:\n",
    "If, $\\hat{A}\\hat{A}^\\dagger=\\hat{A}^\\dagger\\hat{A}=\\hat{I}$, what kind of operator is $\\hat{A}$?"
   ]
  },
  {
   "attachments": {},
   "cell_type": "markdown",
   "metadata": {},
   "source": [
    "Unitary Operator"
   ]
  },
  {
   "attachments": {},
   "cell_type": "markdown",
   "metadata": {},
   "source": [
    "---\n",
    "## Question 5:\n",
    "If, $\\hat{A}\\hat{A}=\\hat{A}$, what kind of operator is $\\hat{A}$?"
   ]
  },
  {
   "attachments": {},
   "cell_type": "markdown",
   "metadata": {},
   "source": [
    "Idempotent Operator"
   ]
  },
  {
   "attachments": {},
   "cell_type": "markdown",
   "metadata": {},
   "source": [
    "---\n",
    "## Question 6:\n",
    "If $\\hat{A}$ is Idempotent and Involutory, what is $\\hat{A}$?"
   ]
  },
  {
   "attachments": {},
   "cell_type": "markdown",
   "metadata": {},
   "source": [
    "Identity matrix"
   ]
  },
  {
   "attachments": {},
   "cell_type": "markdown",
   "metadata": {},
   "source": [
    "---\n",
    "## Question 7:\n",
    "Given the following relationship, $\\hat{A}\\ket{v_i} = a_i\\ket{v_i}$, define the following quantities: \n",
    "\t\n",
    "- $a_i$ :\n",
    "- $\\ket{v_i}$ :"
   ]
  },
  {
   "attachments": {},
   "cell_type": "markdown",
   "metadata": {},
   "source": [
    "- $a_i:$ eigenvalue of $\\hat{A}$\n",
    "- $\\ket{v_i}:$ eigenvector of $\\hat{A}$"
   ]
  },
  {
   "attachments": {},
   "cell_type": "markdown",
   "metadata": {},
   "source": [
    "---\n",
    "## Question 8:\n",
    " Given the following :\n",
    "- $\\mathbf{x} = \\begin{pmatrix}a\\\\b\\end{pmatrix}$\n",
    "- $\\mathbf{y} = \\begin{pmatrix}c\\\\d\\end{pmatrix}$\n",
    "- $\\mathbf{X} = \\begin{pmatrix}a & b \\\\ c & d\\end{pmatrix}$\n",
    "- $\\mathbf{Y} = \\begin{pmatrix}c & d \\\\ e & f\\end{pmatrix}$\n",
    "\n",
    "Compute: \n",
    "1. $\\mathbf{Y}\\mathbf{x} = ?$\n",
    "1. $\\mathbf{x}^\\dagger\\mathbf{Y} = ?$\n",
    "1. $\\mathbf{X}^\\dagger\\mathbf{Y} = ?$ \n",
    "1. $Trace(\\hat{X}) = ?$"
   ]
  },
  {
   "attachments": {},
   "cell_type": "markdown",
   "metadata": {},
   "source": [
    "\n",
    "1. $\\begin{pmatrix}ac+bd\\\\ae+bf\\end{pmatrix}$\n",
    "2. $\\begin{pmatrix}ac+bd & ae+bf\\end{pmatrix}$ \n",
    "3. $\\begin{pmatrix}a & c \\\\ b & d\\end{pmatrix}\\begin{pmatrix}c & d \\\\ e & f\\end{pmatrix} = \\begin{pmatrix}ac+ce&ad+cf\\\\bc+de&bd+df\\end{pmatrix}$\n",
    "4. $a+d$\n"
   ]
  },
  {
   "attachments": {},
   "cell_type": "markdown",
   "metadata": {},
   "source": [
    "---\n",
    "## Question 9:\n",
    "Compute the following commutator: $\\left[\\begin{pmatrix} 1 & 2 \\\\ 3 & 4\\end{pmatrix},\\begin{pmatrix} 5 & 6 \\\\ 7 & 8\\end{pmatrix}\\right]$"
   ]
  },
  {
   "attachments": {},
   "cell_type": "markdown",
   "metadata": {},
   "source": [
    "$\\left[\\begin{pmatrix} 1 & 2 \\\\ 3 & 4\\end{pmatrix}\\begin{pmatrix} 5 & 6 \\\\ 7 & 8\\end{pmatrix}\\right]-\\left[\\begin{pmatrix} 5 & 6 \\\\ 7 & 8\\end{pmatrix}\\begin{pmatrix} 1 & 2 \\\\ 3 & 4\\end{pmatrix}\\right] = \\left[\\begin{pmatrix} 19-23 & 22-34 \\\\ 43-31 & 50-46\\end{pmatrix}\\right]= \\left[\\begin{pmatrix} -4 & -12 \\\\ 12 & 4\\end{pmatrix}\\right]$"
   ]
  }
 ],
 "metadata": {
  "language_info": {
   "name": "python"
  },
  "orig_nbformat": 4
 },
 "nbformat": 4,
 "nbformat_minor": 2
}
