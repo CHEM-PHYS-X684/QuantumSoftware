{
 "cells": [
  {
   "cell_type": "markdown",
   "metadata": {},
   "source": [
    "# Setup quiz \n",
    "\n",
    "Run the following cell displaying your git info: "
   ]
  },
  {
   "cell_type": "code",
   "execution_count": 1,
   "metadata": {},
   "outputs": [
    {
     "name": "stdout",
     "output_type": "stream",
     "text": [
      "http.sslverify=true\n",
      "http.sslcapath=/home/tskidmore/miniconda3/envs/molssi_best_practices/ssl/cacert.pem\n",
      "http.sslcainfo=/home/tskidmore/miniconda3/envs/molssi_best_practices/ssl/cacert.pem\n",
      "user.name=Tommy Skidmore\n",
      "user.email=skidmore2024@vt.edu\n",
      "init.defaultbranch=main\n",
      "core.editor=code --wait\n",
      "core.repositoryformatversion=0\n",
      "core.filemode=true\n",
      "core.bare=false\n",
      "core.logallrefupdates=true\n",
      "remote.origin.url=git@github.com:TSkidmore24/QuantumSoftware.git\n",
      "remote.origin.fetch=+refs/heads/*:refs/remotes/origin/*\n",
      "branch.main.remote=origin\n",
      "branch.main.merge=refs/heads/main\n"
     ]
    }
   ],
   "source": [
    "!git config --list"
   ]
  },
  {
   "cell_type": "markdown",
   "metadata": {},
   "source": [
    "Let's see which conda version we have installed"
   ]
  },
  {
   "cell_type": "code",
   "execution_count": 2,
   "metadata": {},
   "outputs": [
    {
     "name": "stdout",
     "output_type": "stream",
     "text": [
      "conda 23.11.0\n"
     ]
    }
   ],
   "source": [
    "!conda --version"
   ]
  },
  {
   "cell_type": "markdown",
   "metadata": {},
   "source": [
    "Make sure that you have activated the conda environment you set up for this class, and then execute the following command:"
   ]
  },
  {
   "cell_type": "code",
   "execution_count": 3,
   "metadata": {},
   "outputs": [
    {
     "name": "stdout",
     "output_type": "stream",
     "text": [
      "/home/tskidmore/miniconda3/envs/molssi_best_practices/bin/python\n"
     ]
    }
   ],
   "source": [
    "!which python"
   ]
  },
  {
   "cell_type": "markdown",
   "metadata": {},
   "source": [
    "And which version of Python do you have?"
   ]
  },
  {
   "cell_type": "code",
   "execution_count": 4,
   "metadata": {},
   "outputs": [
    {
     "name": "stdout",
     "output_type": "stream",
     "text": [
      "Python 3.11.7\n"
     ]
    }
   ],
   "source": [
    "!python --version"
   ]
  },
  {
   "cell_type": "markdown",
   "metadata": {},
   "source": [
    "Which cookiecutter?"
   ]
  },
  {
   "cell_type": "code",
   "execution_count": 5,
   "metadata": {},
   "outputs": [
    {
     "name": "stdout",
     "output_type": "stream",
     "text": [
      "/home/tskidmore/miniconda3/envs/molssi_best_practices/bin/cookiecutter\n"
     ]
    }
   ],
   "source": [
    "!which cookiecutter"
   ]
  },
  {
   "cell_type": "code",
   "execution_count": 6,
   "metadata": {},
   "outputs": [
    {
     "name": "stdout",
     "output_type": "stream",
     "text": [
      "Cookiecutter 2.5.0 from /home/tskidmore/miniconda3/envs/molssi_best_practices/lib/python3.11/site-packages (Python 3.11.7 (main, Dec 15 2023, 18:12:31) [GCC 11.2.0])\n"
     ]
    }
   ],
   "source": [
    "!cookiecutter --version"
   ]
  }
 ],
 "metadata": {
  "kernelspec": {
   "display_name": "x684",
   "language": "python",
   "name": "python3"
  },
  "language_info": {
   "codemirror_mode": {
    "name": "ipython",
    "version": 3
   },
   "file_extension": ".py",
   "mimetype": "text/x-python",
   "name": "python",
   "nbconvert_exporter": "python",
   "pygments_lexer": "ipython3",
   "version": "3.11.7"
  }
 },
 "nbformat": 4,
 "nbformat_minor": 2
}
