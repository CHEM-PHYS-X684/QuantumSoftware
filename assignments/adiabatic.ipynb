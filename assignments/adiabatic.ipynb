{
 "cells": [
  {
   "cell_type": "markdown",
   "id": "bed8a215",
   "metadata": {},
   "source": [
    "# Ising Adiabatic State Preparation\n",
    "\n",
    "---\n",
    "\n",
    "## *Review*: Postulate 6\n",
    "\n",
    ">The time evolution of the state vector $\\ket{\\psi(t)}$ is governed by the Schrödinger\n",
    "equation:\n",
    "$$ \t\ti\\hbar\\frac{d}{dt}\\ket{\\psi(t)} = \\hat{H}(t)\\ket{\\psi(t)},$$\n",
    "\n",
    "### Time independent case\n",
    "\n",
    "Imagine the case where $\\hat{H}(t) \\neq f(t)$. This is just a statement that the Hamiltoninan operator doesn't change in time. \n",
    "If that is the case, then we can directly integrate this differential equation, to get the following solution:\n",
    "$$\\begin{align}\n",
    "\\ket{\\psi(t)} =& e^{\\frac{-i}{\\hbar}\\hat{H}\\Delta t}\\ket{\\psi(t_0)}, \\\\\n",
    "=& U(t,t_0)\\ket{\\psi(t_0)}\n",
    "\\end{align}\n",
    "$$\n",
    "where $\\Delta t = t-t_0$. Differentiate this wavefunction to convince yourself that this is a solution to the time dependent Schrödinger equation.  \n",
    "\n",
    "Because of this simple form, we can do fancy things, like first go to $t_1$, then go to $t_2$, e.g., \n",
    "$$\\begin{align}\n",
    "\\ket{\\psi(t_2)} = U(t_2,t_1)U(t_1,t_0)\\ket{\\psi(t_0)}\n",
    "\\end{align}\n",
    "$$\n",
    "\n",
    "### Time dependent case\n",
    "\n",
    "The more general (and complicated) case where $\\hat{H}$ is time-dependent cannot be written down in such a simple form. However, we can develop an arbitrarily accurate approximation to the solution by using the result above. \n",
    "Assume we want to solve for $\\ket{\\psi(t)}$, we can break up the evolution into _infinitely_ many steps:\n",
    "$$\\begin{align}\n",
    "\\ket{\\psi(t)} = \\lim_{N\\rightarrow \\infty} U(t,t_{N-1})\\dots U(t_2,t_1) U(t_1,t_0)\\ket{\\psi(t_0)}\n",
    "\\end{align}$$\n",
    "By dividing the evolution into small enough time steps, we can use the time independent solution!\n",
    "The core idea, is that within a small enough time window, $t_i \\rightarrow t_{i+1}$, the Hamiltonian is changing slowly enough such that it appears constant. This means that whatever the Hamiltonian looks like at a give time, ($\\hat{H}(t_i)$), we can exponentiate it, to obtain a unitary $U(t_{i+1}, t_i)$.\n",
    "\n",
    "In practice, of course, we can never write down a real $\\infty$ of terms. And so we simply stop at some point and accept that there is some approximation being made. \n",
    "$$\\begin{align}\n",
    "\\ket{\\psi(t)} \\approx   U(t,t_{N-1})\\dots U(t_2,t_1) U(t_1,t_0)\\ket{\\psi(t_0)}\n",
    "\\end{align}$$\n",
    "\n",
    "We often refer to this particular approximate form of the time evolution as being `trotterized`\n",
    "\n",
    "---\n"
   ]
  },
  {
   "cell_type": "markdown",
   "id": "ed57dd51",
   "metadata": {},
   "source": [
    "\n",
    "# Adiabatic Principle\n",
    "\n",
    "We can use the above result (the \"trotterized\" form of the TDSE solution) to solve a generally difficult problem, __finding the ground state of a Hamiltonian__. \n",
    "In our Ising case, this amounts to finding the lowest energy spin configuration out of an exponentially large number of candidates. However, if we were to be able to find the ground state, we would simultaneously be solving a wide range of extremely important problems including the travelling salesman problem or finding the max-cut of a graph or network. \n",
    "\n",
    "In this notebook, we will use the `adiabatic principle` to define an interesting (yet simple) quantum algorithm for obtaining arbitrarily accurate approximations to Hamiltonian ground states. \n",
    "\n",
    "We will define the adiabatic principle as follows:\n",
    ">If we start out in the ground state of a Hamiltonian $\\hat{H}_A$, and the _slowly_ move to Hamiltonian $\\hat{H}_B$, then we will end up in the ground state of $\\hat{H}_B$ (assuming we move slow enough and there is a gap).\n",
    "\n",
    "\n",
    "To use the adiabatic principle to obtain the ground state for a target Hamiltonian, $\\hat{H}_B$, (which could be the Ising example we have been working with or some other problem) we will define the following time dependent Hamiltonian:\n",
    "$$\\begin{align}\n",
    "\\hat{H}(t) = (1-f(t)) \\hat{H}_A + f(t) \\hat{H}_B,\n",
    "\\end{align}$$\n",
    "where $\\hat{H}_A$ is our starting Hamiltonian (this should be an easy Hamiltonian for which we know the ground state). Notice that while both $\\hat{H}_A$ and $\\hat{H}_B$ are time-_independent_, the coefficent  $f(t)$ changes in time, so the total Hamiltonian is time-_dependent_.  \n",
    "\n",
    "This means that we can define any function $f(t)$ that starts at 0 and ends up equal to 1 at some final time, $t_f$.\n",
    "- $f(t=0) = 0$\n",
    "- $f(t=T) = 1$\n",
    "\n",
    "The simplest time-dependent function that we might consider is jut a linear interpolation between the two Hamiltonians:\n",
    "\n",
    "- $ f(t) = t/T$\n",
    "where $T$ is the total time of evolution. This means that a larger $T$ results in a _slower_ evolution, \n",
    "and satisfies the condition that $\\hat{H}(0)=\\hat{H}_A$ and $\\hat{H}(T)=\\hat{H}_B$.\n",
    "\n",
    "\n",
    "## Trotterization\n",
    "In addition to requiring that our final time $T$ is large enough to ensure that our process is slow, we also need to make sure that we are solving the resulting time dependent schr\\\"odinger equation accurately enough. Since we are using the trotter approximation (meaning treating the total evolution as a sequence of short time-independent evolutions), we will also need to choose a number of time steps $N$ to be large enough for the adiabatic evolution to be accurate.\n",
    "\n",
    "Each time step is evolved by a time step given by:\n",
    "- $\\Delta t = T/N$\n",
    "\n",
    "We will want both $T$ and $N$ to be large enough for accurate results. \n",
    "\n",
    "\n",
    "$$\n",
    "\\begin{align}\n",
    "\\ket{\\psi(T)} &\\approx U((N+1)\\Delta t, N\\Delta t)\\cdots U(2\\Delta t, \\Delta t)U(\\Delta t, 0)\\ket{\\psi(0)} \\\\\n",
    "\\ket{\\psi(T)} &\\approx \\prod_{k=0}^{N-1} U((k+1)\\Delta t, k\\Delta t)\\ket{\\psi(0)} = \\prod_{k=0}^{N-1}U_k\\ket{\\psi(0)}\\\\\n",
    "\\end{align}\n",
    "$$\n",
    "\n",
    "$$\n",
    "\\begin{align}\n",
    "U_k &= e^{-i\\Delta t \\hat{H}(k\\Delta t)}\n",
    "% U(t+\\Delta t, t) &\\approx e^{-i\\Delta t \\left(1-t/T\\right)\\hat{H}_A} e^{-i\\Delta t \\left(t/T-\\Delta t/2T\\right)\\hat{H}_B /2}\n",
    "\\end{align}\n",
    "$$\n",
    "\n",
    "Since we have an explicit form of our time dependent hamiltonian $\\hat{H}(t)$, we can write this out:\n",
    "$$\n",
    "\\begin{align}\n",
    "\\hat{H}(k\\Delta t) =& (1-\\frac{k\\Delta t}{T})\\hat{H}_A + \\frac{k\\Delta t}{T}\\hat{H}_B\n",
    "\\end{align}\n",
    "$$\n",
    "\n",
    "Convince yourself that when $k=0$, we have the initial hamiltonian, $H_A$, and when $k=N$, we have the final Hamiltonian, $H_B$\n",
    "\n",
    "## One more trotterization\n",
    "$$\n",
    "\\begin{align}\n",
    "U_k &= e^{-i\\Delta t \\hat{H}(k\\Delta t)} \\\\\n",
    "&= e^{-i\\Delta t \\left( (1-\\frac{k\\Delta t}{T})\\hat{H}_A + \\frac{k\\Delta t}{T}\\hat{H}_B\\right)} \\\\\n",
    "&\\approx e^{-i\\Delta t (1-\\frac{k\\Delta t}{T})\\hat{H}_A}  e^{-i\\Delta t \\frac{k\\Delta t}{T}\\hat{H}_B} \n",
    "\\end{align}\n",
    "$$"
   ]
  },
  {
   "cell_type": "markdown",
   "id": "0a6e97b6",
   "metadata": {},
   "source": [
    "\n",
    "Using $T=2$ and $N=4$, (such that $\\Delta t = .5$) from the case above we can define the solution as:\n",
    "$$\n",
    "\\begin{align}\n",
    "\\ket{\\psi(2)} &= e^{\\tfrac{-i\\Delta t}{\\hbar}\\left(.25\\hat{H}_A+.75\\hat{H}_B\\right)}e^{\\tfrac{-i\\Delta t}{\\hbar}\\left(.5\\hat{H}_A+.5\\hat{H}_B\\right)}e^{\\tfrac{-i\\Delta t}{\\hbar}\\left(.75\\hat{H}_A+.25\\hat{H}_B\\right)}e^{\\tfrac{-i\\Delta t}{\\hbar}\\hat{H}_A}\\ket{\\psi(0)}\\\\\n",
    "&= U(2,1.5)U(1.5,1)U(1,.5)U(.5,0)\\ket{\\psi(0)}\n",
    "\\end{align}\n",
    "$$"
   ]
  },
  {
   "attachments": {},
   "cell_type": "markdown",
   "id": "56097599-c857-4577-a5f8-a4e0ab07e603",
   "metadata": {},
   "source": [
    "We can use a quantum computer to carry out these operations. But first we will need to know how to represent these quantities on a quantum computer.\n",
    "\n",
    "\n",
    "# Quantum Representation of Ising  \n",
    "\n",
    "In the previous examples, we have used `classical' bitstrings, by which I mean all of our states are always written as a single product of zeros and ones, i.e., $\\ket{010010}$. So far, we have used the Ising Hamiltonian, \n",
    "$$ \\hat{H} = \\sum_{(i,j)\\in E}J_{ij} s_is_j + \\sum_i \\mu_i s_i,$$\n",
    "to compute the energy of these bitstrings where the spin function takes in a bit and returns either 1 or -1. For example, if $\\ket{\\psi}=\\ket{0101}$, then $s_2\\ket{0101}=0$. \n",
    "\n",
    "We can make this a bit more mathematically useful, and define our quantities in terms of linear algebra, making our spin function and operator, and the state a vector. Each bit is two-dimensional (it can be either zero or one), so we can express it as a 2-dimensional vector:\n",
    "\n",
    "$$\n",
    "\\ket{0} = \\begin{pmatrix}1 \\\\ 0\\end{pmatrix},\n",
    "\\text{ }~ \n",
    "\\ket{1} = \\begin{pmatrix}0 \\\\ 1\\end{pmatrix} \n",
    "$$\n",
    "\n",
    "Similarly, our \"spin-functions\", $s_i$, can also be expressed in terms of a simple, linear algebra quantity, $\\hat{z}$  \n",
    "$$\\begin{align}\n",
    "\\hat{z} = \\begin{pmatrix}1 & 0 \\\\ 0 &-1\\end{pmatrix}\n",
    "\\end{align}\n",
    "$$\n",
    "\n",
    "Consider the following operator, $\\hat{x}$:\n",
    "$$\\begin{align}\n",
    "\\hat{x} = \\begin{pmatrix}0 & 1 \\\\ 1 &0\\end{pmatrix}\n",
    "\\end{align}\n",
    "$$\n",
    "\n",
    "What happens when we apply $\\hat{x}$ to our states?\n",
    "$$\n",
    "\\begin{align}\n",
    "\\hat{x}\\ket{0} =& \\ket{1} \\\\ \n",
    "\\hat{x}\\ket{1} =& \\ket{0} \n",
    "\\end{align}\n",
    "$$\n",
    "\n",
    "Here, $\\hat{z}$ tells us about the spin being spin-up or spin down. And $\\hat{x}$, flips the state between up and down. However, because our bits are quantum states (vectors), they can also point in other directions besides up and down - this is a key difference between quantum an classical computers!\n",
    "\n",
    "Consider the last operator/gate we will need, $\\hat{U}^H$ (the Hadamard gate):\n",
    "$$\n",
    "\\begin{align}\n",
    "\\hat{U}^H =& \\frac{1}{\\sqrt{2}}\\begin{pmatrix}1 & 1 \\\\ 1 &-1\\end{pmatrix} \\\\\n",
    "    =& \\frac{1}{\\sqrt{2}}\\left(\\hat{x}+\\hat{z}\\right)\n",
    "\\end{align}\n",
    "$$\n",
    "\n",
    "Applying this operator to a state does something interesting:\n",
    "$$\n",
    "\\begin{align}\n",
    "\\hat{U}^H\\ket{0} =& \\frac{1}{\\sqrt{2}}\\left(\\hat{x}+\\hat{z}\\right)\\ket{0} \\\\\n",
    "=& \\frac{1}{\\sqrt{2}}\\left(\\ket{1} + \\ket{0}\\right) \\\\  \n",
    "\\hat{U}^H\\ket{1} =& \\frac{1}{\\sqrt{2}}\\left(\\hat{x}+\\hat{z}\\right)\\ket{1} \\\\\n",
    "=& \\frac{1}{\\sqrt{2}}\\left(\\ket{0} - \\ket{1}\\right) \\\\  \n",
    "\\end{align}\n",
    "$$\n",
    "\n",
    "We've now created `superposition` states! Play around with these objects in the following python cell. "
   ]
  },
  {
   "cell_type": "code",
   "execution_count": 27,
   "id": "1fbceb05",
   "metadata": {},
   "outputs": [
    {
     "name": "stdout",
     "output_type": "stream",
     "text": [
      " z operator: \n",
      " [[ 1  0]\n",
      " [ 0 -1]]\n",
      " x operator: \n",
      " [[0 1]\n",
      " [1 0]]\n",
      " Uh operator: \n",
      " [[ 0.70710678  0.70710678]\n",
      " [ 0.70710678 -0.70710678]]\n",
      "\n",
      " z|0>: \n",
      " [[1]\n",
      " [0]]\n",
      "\n",
      " z|1>: \n",
      " [[ 0]\n",
      " [-1]]\n",
      "\n",
      " x|0>: \n",
      " [[0]\n",
      " [1]]\n",
      "\n",
      " x|1>: \n",
      " [[1]\n",
      " [0]]\n",
      "\n",
      " Uh|0>: \n",
      " [[0.70710678]\n",
      " [0.70710678]]\n",
      "\n",
      " Uh|1>: \n",
      " [[ 0.70710678]\n",
      " [-0.70710678]]\n",
      "\n",
      " |0>⊗|1>: \n",
      " [[0]\n",
      " [1]\n",
      " [0]\n",
      " [0]]\n",
      "\n",
      " z⊗z    : \n",
      " [[ 1  0  0  0]\n",
      " [ 0 -1  0  0]\n",
      " [ 0  0 -1  0]\n",
      " [ 0  0  0  1]]\n"
     ]
    }
   ],
   "source": [
    "import numpy as np\n",
    "\n",
    "# define our qubit states\n",
    "s0 = np.array([[1],[0]])\n",
    "s1 = np.array([[0],[1]])\n",
    "\n",
    "# define z     \n",
    "z = np.array([[1,0],[0,-1]])\n",
    "print(\" z operator: \\n\", z)\n",
    "\n",
    "# define x\n",
    "x = np.array([[0,1],[1,0]])\n",
    "print(\" x operator: \\n\", x)\n",
    "\n",
    "# define Uh \n",
    "Uh = np.array([[1,1],[1,-1]])/np.sqrt(2)\n",
    "print(\" Uh operator: \\n\", Uh)\n",
    "\n",
    "print(\"\\n z|0>: \\n\", z@s0)\n",
    "print(\"\\n z|1>: \\n\", z@s1)\n",
    "\n",
    "print(\"\\n x|0>: \\n\", x@s0)\n",
    "print(\"\\n x|1>: \\n\", x@s1)\n",
    "\n",
    "print(\"\\n Uh|0>: \\n\", Uh@s0)\n",
    "print(\"\\n Uh|1>: \\n\", Uh@s1)\n",
    "\n",
    "print(\"\\n |0>⊗|1>: \\n\", np.kron(s0,s1))\n",
    "print(\"\\n z⊗z    : \\n\", np.kron(z,z))"
   ]
  },
  {
   "cell_type": "markdown",
   "id": "6e0c9ae7",
   "metadata": {},
   "source": [
    "# **Question**: \n",
    "In the next cell: explain what $\\hat{U}^H$ does to the states, $\\ket{0}$ and $\\ket{1}$ in terms of $\\hat{x}$.:"
   ]
  },
  {
   "cell_type": "markdown",
   "id": "9ea3ac8d",
   "metadata": {},
   "source": []
  },
  {
   "cell_type": "markdown",
   "id": "cac3f4f8",
   "metadata": {},
   "source": [
    "---\n",
    "\n",
    "## Adiabatic Evolution of Ising Hamiltonian with Quantum Circuit\n",
    "\n",
    "We discussed that the adiabatic principle can be used to obtain the ground state of a difficult problem (e.g., Ising Hamiltonian) by starting with an easy problem (which for which we know the solution) and slowly moving toward the difficult solution. This means that we need to _drive our system forward in time_ with a time-dependent Hamiltonian. \n",
    "This is generally a difficult task, but we can leverage a quantum computer to do this for us!\n",
    "\n",
    "By choosing $\\hat{H}_0 = - \\sum_i \\sigma_i^x$, \n",
    "recall that the ground state of the Ising model can be prepared by the following sequence of time evolutions:\n",
    "\n",
    "$$\n",
    "\\ket{\\psi(T)} \\approx U(4,3)U(3,2)U(2,1)U(1,0)\\ket{\\psi(0)}\n",
    "$$\n",
    "\n",
    "which is, \n",
    "$$\n",
    "\\ket{\\psi(T)} \\approx \n",
    "e^{-i\\left(\\tfrac{1}{4}\\hat{H}_0+\\tfrac{3}{4}\\hat{H}_1\\right)\\Delta t}\n",
    "e^{-i\\left(\\tfrac{1}{2}\\hat{H}_0+\\tfrac{1}{2}\\hat{H}_1\\right)\\Delta t}\n",
    "e^{-i\\left(\\tfrac{3}{4}\\hat{H}_0+\\tfrac{1}{4}\\hat{H}_1\\right)\\Delta t}\n",
    "e^{-i\\hat{H}_0\\Delta t}\n",
    "\\ket{\\psi(0)},\n",
    "$$\n",
    "\n",
    "where $N\\Delta t = T$.\n",
    "\n",
    "And again, we will approximate this a bit more by breaking up each time step into each operator: \n",
    "$$\n",
    "\\ket{\\psi(T)} \\approx \n",
    "e^{-i\\tfrac{1}{4}\\hat{H}_0\\Delta t}e^{-i\\tfrac{3}{4}\\hat{H}_1\\Delta t}\n",
    "e^{-i\\tfrac{1}{2}\\hat{H}_0\\Delta t}e^{-i\\tfrac{3}{2}\\hat{H}_1\\Delta t}\n",
    "e^{-i\\tfrac{3}{4}\\hat{H}_0\\Delta t}e^{-i\\tfrac{1}{4}\\hat{H}_1\\Delta t}\n",
    "e^{-i\\hat{H}_0\\Delta t}           \n",
    "\\ket{\\psi(0)},\n",
    "$$\n",
    "Here the basic idea is to use a quantum computer to do this time evolution for us. We will use the fact that Qiskit defines for us the following gates (or operations):\n",
    "\n",
    "Single qubit gates (applied to a given qubit `n`):\n",
    "- `h(n)`: $\\hat{U}^H$ \n",
    "- `rx(θ,n)`: $e^{-i\\tfrac{\\theta}{2} \\hat{x}}$\n",
    "- `rz(θ,n)`: $e^{-i\\tfrac{\\theta}{2} \\hat{z}}$\n",
    "\n",
    "Two qubit gates (applied to two given qubits, `n` and `m`):\n",
    "- `rzz(θ,n,m)`: $e^{-i\\tfrac{\\theta}{2} \\hat{z}_n\\otimes \\hat{z}_m}$\n",
    "\n",
    "### Trotterization\n",
    "One trick we will use is `Trotterization`. For 2 operators $\\hat{o}_1$ and $\\hat{o}_2$, we can say the following two things:\n",
    "- if $\\hat{o}_1\\hat{o}_2 = \\hat{o}_2\\hat{o}_1$, then $e^{a\\left(\\hat{o}_1 + \\hat{o}_2\\right)} = e^{a\\hat{o}_1}e^{a\\hat{o}_2}$\n",
    "- if $\\hat{o}_1\\hat{o}_2 \\neq \\hat{o}_2\\hat{o}_1$ but $a\\ll 1$, then $e^{a\\left(\\hat{o}_1 + \\hat{o}_2\\right)} \\approx e^{a\\hat{o}_1}e^{a\\hat{o}_2}$\n",
    "\n",
    "Where we say that $\\hat{o}_1$ and $\\hat{o}_2$ `commute` if $\\hat{o}_1\\hat{o}_2 = \\hat{o}_2\\hat{o}_1$\n",
    "\n",
    "## Initialization\n",
    "\n",
    "From our discussion before, we saw that applying a Hadamard gate to the $\\ket{0}$ state created the $\\ket{+}$ state, \n",
    "which happened to be the +1 eigenstate of $\\sigma_x$:\n",
    "- $\\sigma_x\\ket{+} = \\ket{+}$\n",
    "\n",
    "As such, we can initialize our system in the ground state of $\\hat{H}_0$ by simply applying a Hadamard to each qubit. "
   ]
  },
  {
   "cell_type": "markdown",
   "id": "eb3f5ebd",
   "metadata": {},
   "source": [
    "---\n",
    "For this notebook, we'll use Qiskit, which will need to be installed into your environment:\n",
    "\n",
    "```\n",
    "pip install qiskit\n",
    "pip install qiskit-aer\n",
    "pip install pylatexenc\n",
    "```\n",
    "---"
   ]
  },
  {
   "cell_type": "code",
   "execution_count": 28,
   "id": "3938db20-0c75-4545-8c69-b15b7cb2d697",
   "metadata": {},
   "outputs": [
    {
     "data": {
      "image/png": "[encoded data removed]",
      "text/plain": [
       "<Figure size 203.683x200.667 with 1 Axes>"
      ]
     },
     "execution_count": 28,
     "metadata": {},
     "output_type": "execute_result"
    }
   ],
   "source": [
    "import numpy as np\n",
    "import matplotlib.pyplot as plt\n",
    "from qiskit import *\n",
    "from qiskit.visualization import plot_histogram\n",
    "from qiskit import QuantumCircuit\n",
    "\n",
    "circ = QuantumCircuit(2,0)\n",
    "circ.h(0)\n",
    "circ.h(1)\n",
    "circ.draw('mpl')"
   ]
  },
  {
   "cell_type": "code",
   "execution_count": 29,
   "id": "0710148b",
   "metadata": {},
   "outputs": [
    {
     "data": {
      "image/png": "[encoded data removed]",
      "text/plain": [
       "<Figure size 640x480 with 1 Axes>"
      ]
     },
     "execution_count": 29,
     "metadata": {},
     "output_type": "execute_result"
    }
   ],
   "source": [
    "from qiskit_aer.primitives import SamplerV2 as Sampler\n",
    "sampler = Sampler()\n",
    "circ.measure_all()\n",
    "result = sampler.run([circ], shots=1000).result()\n",
    "counts = result[0].data.meas.get_counts() \n",
    "plot_histogram(counts)"
   ]
  },
  {
   "attachments": {},
   "cell_type": "markdown",
   "id": "5840da0f-12ae-4070-b13c-9a1c06805ab2",
   "metadata": {},
   "source": [
    "## First time step\n",
    "\n",
    "How do we implement $e^{-i\\hat{H}_0\\Delta t}$ with gates? Let's make things more concrete first, and consider a simple 2-site Ising problem. \n",
    "- $ \\hat{H}_0 = - \\sigma^x_0 - \\sigma^x_1$\n",
    "- $ \\hat{H}_1 = J\\sigma^z_0\\sigma^z_1 + \\mu\\sigma^z_0 + \\mu\\sigma^z_1$\n",
    "- $J = 1$\n",
    "- $\\mu = .1$\n",
    "\n",
    "Because $\\sigma_0^x$ and $\\sigma_1^x$ act on different qubits, they commute, meaning that we can break this first time step up into 2 sequential steps exactly:\n",
    "$$ \n",
    "e^{i\\left(\\sigma_0^x + \\sigma_1^x\\right)\\Delta t} = e^{i\\sigma_0^x\\Delta t} e^{i\\sigma_1^x\\Delta t} \n",
    "$$\n",
    "\n",
    "Let's choose a small time step, say $\\Delta t = .1$. \n",
    "Remembering the fact that `rx(θ,n)`: $e^{-i\\tfrac{\\theta}{2} \\hat{x}}$,\n",
    "we can use the following quantum circuit to implement this time step:"
   ]
  },
  {
   "cell_type": "code",
   "execution_count": 30,
   "id": "93bf0005-dd3f-451c-b0c3-5bc10cff1b5f",
   "metadata": {},
   "outputs": [
    {
     "data": {
      "image/png": "[encoded data removed]",
      "text/plain": [
       "<Figure size 580.387x284.278 with 1 Axes>"
      ]
     },
     "execution_count": 30,
     "metadata": {},
     "output_type": "execute_result"
    }
   ],
   "source": [
    "circ = QuantumCircuit(2,0)\n",
    "circ.h(0)\n",
    "circ.h(1)\n",
    "circ.rx(-2*.1,1)\n",
    "circ.rx(-2*.1,0)\n",
    "circ.measure_all()\n",
    "circ.draw(output = 'mpl', style=\"iqp\")"
   ]
  },
  {
   "cell_type": "code",
   "execution_count": 31,
   "id": "cfea85d2-6d4a-49db-ae9a-dfa4c486acc3",
   "metadata": {},
   "outputs": [
    {
     "data": {
      "image/png": "[encoded data removed]",
      "text/plain": [
       "<Figure size 640x480 with 1 Axes>"
      ]
     },
     "execution_count": 31,
     "metadata": {},
     "output_type": "execute_result"
    }
   ],
   "source": [
    "nshots = 10000\n",
    "plot_histogram(sampler.run([circ], shots=nshots).result()[0].data.meas.get_counts())"
   ]
  },
  {
   "cell_type": "markdown",
   "id": "bbae748f",
   "metadata": {},
   "source": [
    "# **Question**: \n",
    "Explain why the measured probability stayed the same in the above plot:"
   ]
  },
  {
   "cell_type": "markdown",
   "id": "8e878e08",
   "metadata": {},
   "source": []
  },
  {
   "attachments": {},
   "cell_type": "markdown",
   "id": "f26051bd-8b47-4c7a-bb90-28a68de7ee1a",
   "metadata": {},
   "source": [
    "---\n",
    "\n",
    "## Second time step\n",
    "\n",
    "Now we must implement the following operator: $e^{-i\\left(.75\\hat{H}_0 + .25\\hat{H}_1\\right)\\Delta t}$. \n",
    "\n",
    "Unfortunately, $\\sigma^z\\sigma^x \\neq \\sigma^z\\sigma^x$ and so we can't exactly trotterize this. \n",
    "However, because $\\Delta t \\ll 1$, we can approximate this in a product form, and this will become increasingly more accurate as we take smaller time steps. \n",
    "\n",
    "$$ \\hat{H}_0 = - \\sigma^x_0 - \\sigma^x_1$$\n",
    "$$ \\hat{H}_1 = J\\sigma^z_0\\sigma^z_1 + \\mu\\sigma^z_0 + \\mu\\sigma^z_1$$\n",
    "\n",
    "$$\n",
    "e^{-i\\left(- \\tfrac{3}{4}\\sigma^x_0 - \\tfrac{3}{4}\\sigma^x_1 + \\tfrac{1}{4} J\\sigma^z_0\\sigma^z_1 + \\tfrac{1}{4}\\mu\\sigma^z_0 + \\tfrac{1}{4}\\mu\\sigma^z_1\\right)\\Delta t}\n",
    "\\approx\n",
    "e^{i\\tfrac{3}{4}\\sigma^x_0\\Delta t} \n",
    "e^{i\\tfrac{3}{4}\\sigma^x_1\\Delta t}\n",
    "e^{-i \\tfrac{1}{4} J\\sigma^z_0\\sigma^z_1 \\Delta t}\n",
    "e^{-i \\tfrac{1}{4} \\mu\\sigma^z_0 \\Delta t}\n",
    "e^{-i \\tfrac{1}{4} \\mu\\sigma^z_1 \\Delta t}\n",
    "$$\n",
    "\n",
    "Notice here that we are using a new gate, `RZZ`. \n",
    "This is a 2-qubit gate that rotates about the product of two $\\sigma^z$ operators."
   ]
  },
  {
   "cell_type": "code",
   "execution_count": 32,
   "id": "5a216375-3ff6-4f24-8bd9-b2c780dcdbec",
   "metadata": {},
   "outputs": [
    {
     "data": {
      "image/png": "[encoded data removed]",
      "text/plain": [
       "<Figure size 914.831x284.278 with 1 Axes>"
      ]
     },
     "execution_count": 32,
     "metadata": {},
     "output_type": "execute_result"
    }
   ],
   "source": [
    "circ = QuantumCircuit(2,0)\n",
    "# initialize\n",
    "circ.h(0)\n",
    "circ.h(1)\n",
    "\n",
    "# time step 1\n",
    "circ.rx(-2*.1,1)\n",
    "circ.rx(-2*.1,0)\n",
    "\n",
    "# time step 2\n",
    "circ.rz(2 * .1 * .25 * .1,1)\n",
    "circ.rz(2 * .1 * .25 * .1,0)\n",
    "circ.rzz(2 * 1. * .25 * .1,0,1)\n",
    "circ.rx(-2 * .75 * .1,1)\n",
    "circ.rx(-2 * .75 * .1,0)\n",
    "circ.measure_all()\n",
    "circ.draw(output = 'mpl')"
   ]
  },
  {
   "cell_type": "markdown",
   "id": "4cbd9b92-17c3-4e98-86fd-dc26c1308cbc",
   "metadata": {},
   "source": [
    "From here we can recognize the pattern and start to generalize with a function!\n",
    "\n",
    "\n",
    "## Automate the circuit building\n",
    "\n",
    "Because each step will have the same gates, but different angles, we can simply write a function to create the circuit. "
   ]
  },
  {
   "cell_type": "code",
   "execution_count": 33,
   "id": "3ad5867e",
   "metadata": {},
   "outputs": [],
   "source": [
    "\n",
    "def form_circuit(N, T, ham):\n",
    "    print(\" Write your code here. This should return a quantum circuit\") \n"
   ]
  },
  {
   "cell_type": "markdown",
   "id": "378fd61a-6c34-4f70-b496-d8c673557859",
   "metadata": {},
   "source": [
    "## Demonstrations \n",
    "\n",
    "Try out different numbers of steps and different Hamiltonians. \n",
    "- $\\hat{H}(t) = (1-f(t))\\hat{H}_0 + f(t)\\hat{H}_1$\n",
    "\n",
    "\n",
    "Let's build a random 1D Ising Hamiltonian:"
   ]
  },
  {
   "cell_type": "code",
   "execution_count": 34,
   "id": "b0863d3a",
   "metadata": {},
   "outputs": [
    {
     "data": {
      "image/png": "[encoded data removed]",
      "text/plain": [
       "<Figure size 640x480 with 1 Axes>"
      ]
     },
     "metadata": {},
     "output_type": "display_data"
    },
    {
     "name": "stdout",
     "output_type": "stream",
     "text": [
      "0 1 -0.5392900545734278\n",
      "0 2 0.3694282570558236\n",
      "1 2 -0.37530144644718777\n"
     ]
    }
   ],
   "source": [
    "import graphbuilder\n",
    "import networkx as nx\n",
    "import random\n",
    "import montecarlo\n",
    "\n",
    "G = graphbuilder.build_1d_graph(3)\n",
    "# Now Draw the graph. \n",
    "plt.figure(1)\n",
    "nx.draw(G, with_labels=True, font_weight='bold')\n",
    "plt.show()\n",
    "\n",
    "for (i,j) in G.edges:\n",
    "    G.edges[(i,j)][\"weight\"] = (random.random()*2 - 1)\n",
    "    print(i,j, G.edges[(i,j)][\"weight\"])\n",
    "\n",
    "ham = montecarlo.IsingHamiltonian(G)\n",
    "# let's add a local mu value to the first spin\n",
    "# ham.mu[0] = -1.2 \n",
    "for i in range(ham.N):\n",
    "    ham.mu[i] = random.random()\n"
   ]
  },
  {
   "cell_type": "code",
   "execution_count": 35,
   "id": "4a8f0fb2",
   "metadata": {},
   "outputs": [
    {
     "name": "stdout",
     "output_type": "stream",
     "text": [
      " Append: t=  0.00000000 dt=  0.20000000 beta=  0.00000000 gamma   1.00000000\n",
      " Append: t=  0.20000000 dt=  0.20000000 beta=  0.01000000 gamma   0.99000000\n",
      " Append: t=  0.40000000 dt=  0.20000000 beta=  0.02000000 gamma   0.98000000\n",
      " Append: t=  0.60000000 dt=  0.20000000 beta=  0.03000000 gamma   0.97000000\n",
      " Append: t=  0.80000000 dt=  0.20000000 beta=  0.04000000 gamma   0.96000000\n",
      " Append: t=  1.00000000 dt=  0.20000000 beta=  0.05000000 gamma   0.95000000\n",
      " Append: t=  1.20000000 dt=  0.20000000 beta=  0.06000000 gamma   0.94000000\n",
      " Append: t=  1.40000000 dt=  0.20000000 beta=  0.07000000 gamma   0.93000000\n",
      " Append: t=  1.60000000 dt=  0.20000000 beta=  0.08000000 gamma   0.92000000\n",
      " Append: t=  1.80000000 dt=  0.20000000 beta=  0.09000000 gamma   0.91000000\n",
      " Append: t=  2.00000000 dt=  0.20000000 beta=  0.10000000 gamma   0.90000000\n",
      " Append: t=  2.20000000 dt=  0.20000000 beta=  0.11000000 gamma   0.89000000\n",
      " Append: t=  2.40000000 dt=  0.20000000 beta=  0.12000000 gamma   0.88000000\n",
      " Append: t=  2.60000000 dt=  0.20000000 beta=  0.13000000 gamma   0.87000000\n",
      " Append: t=  2.80000000 dt=  0.20000000 beta=  0.14000000 gamma   0.86000000\n",
      " Append: t=  3.00000000 dt=  0.20000000 beta=  0.15000000 gamma   0.85000000\n",
      " Append: t=  3.20000000 dt=  0.20000000 beta=  0.16000000 gamma   0.84000000\n",
      " Append: t=  3.40000000 dt=  0.20000000 beta=  0.17000000 gamma   0.83000000\n",
      " Append: t=  3.60000000 dt=  0.20000000 beta=  0.18000000 gamma   0.82000000\n",
      " Append: t=  3.80000000 dt=  0.20000000 beta=  0.19000000 gamma   0.81000000\n",
      " Append: t=  4.00000000 dt=  0.20000000 beta=  0.20000000 gamma   0.80000000\n",
      " Append: t=  4.20000000 dt=  0.20000000 beta=  0.21000000 gamma   0.79000000\n",
      " Append: t=  4.40000000 dt=  0.20000000 beta=  0.22000000 gamma   0.78000000\n",
      " Append: t=  4.60000000 dt=  0.20000000 beta=  0.23000000 gamma   0.77000000\n",
      " Append: t=  4.80000000 dt=  0.20000000 beta=  0.24000000 gamma   0.76000000\n",
      " Append: t=  5.00000000 dt=  0.20000000 beta=  0.25000000 gamma   0.75000000\n",
      " Append: t=  5.20000000 dt=  0.20000000 beta=  0.26000000 gamma   0.74000000\n",
      " Append: t=  5.40000000 dt=  0.20000000 beta=  0.27000000 gamma   0.73000000\n",
      " Append: t=  5.60000000 dt=  0.20000000 beta=  0.28000000 gamma   0.72000000\n",
      " Append: t=  5.80000000 dt=  0.20000000 beta=  0.29000000 gamma   0.71000000\n",
      " Append: t=  6.00000000 dt=  0.20000000 beta=  0.30000000 gamma   0.70000000\n",
      " Append: t=  6.20000000 dt=  0.20000000 beta=  0.31000000 gamma   0.69000000\n",
      " Append: t=  6.40000000 dt=  0.20000000 beta=  0.32000000 gamma   0.68000000\n",
      " Append: t=  6.60000000 dt=  0.20000000 beta=  0.33000000 gamma   0.67000000\n",
      " Append: t=  6.80000000 dt=  0.20000000 beta=  0.34000000 gamma   0.66000000\n",
      " Append: t=  7.00000000 dt=  0.20000000 beta=  0.35000000 gamma   0.65000000\n",
      " Append: t=  7.20000000 dt=  0.20000000 beta=  0.36000000 gamma   0.64000000\n",
      " Append: t=  7.40000000 dt=  0.20000000 beta=  0.37000000 gamma   0.63000000\n",
      " Append: t=  7.60000000 dt=  0.20000000 beta=  0.38000000 gamma   0.62000000\n",
      " Append: t=  7.80000000 dt=  0.20000000 beta=  0.39000000 gamma   0.61000000\n",
      " Append: t=  8.00000000 dt=  0.20000000 beta=  0.40000000 gamma   0.60000000\n",
      " Append: t=  8.20000000 dt=  0.20000000 beta=  0.41000000 gamma   0.59000000\n",
      " Append: t=  8.40000000 dt=  0.20000000 beta=  0.42000000 gamma   0.58000000\n",
      " Append: t=  8.60000000 dt=  0.20000000 beta=  0.43000000 gamma   0.57000000\n",
      " Append: t=  8.80000000 dt=  0.20000000 beta=  0.44000000 gamma   0.56000000\n",
      " Append: t=  9.00000000 dt=  0.20000000 beta=  0.45000000 gamma   0.55000000\n",
      " Append: t=  9.20000000 dt=  0.20000000 beta=  0.46000000 gamma   0.54000000\n",
      " Append: t=  9.40000000 dt=  0.20000000 beta=  0.47000000 gamma   0.53000000\n",
      " Append: t=  9.60000000 dt=  0.20000000 beta=  0.48000000 gamma   0.52000000\n",
      " Append: t=  9.80000000 dt=  0.20000000 beta=  0.49000000 gamma   0.51000000\n",
      " Append: t= 10.00000000 dt=  0.20000000 beta=  0.50000000 gamma   0.50000000\n",
      " Append: t= 10.20000000 dt=  0.20000000 beta=  0.51000000 gamma   0.49000000\n",
      " Append: t= 10.40000000 dt=  0.20000000 beta=  0.52000000 gamma   0.48000000\n",
      " Append: t= 10.60000000 dt=  0.20000000 beta=  0.53000000 gamma   0.47000000\n",
      " Append: t= 10.80000000 dt=  0.20000000 beta=  0.54000000 gamma   0.46000000\n",
      " Append: t= 11.00000000 dt=  0.20000000 beta=  0.55000000 gamma   0.45000000\n",
      " Append: t= 11.20000000 dt=  0.20000000 beta=  0.56000000 gamma   0.44000000\n",
      " Append: t= 11.40000000 dt=  0.20000000 beta=  0.57000000 gamma   0.43000000\n",
      " Append: t= 11.60000000 dt=  0.20000000 beta=  0.58000000 gamma   0.42000000\n",
      " Append: t= 11.80000000 dt=  0.20000000 beta=  0.59000000 gamma   0.41000000\n",
      " Append: t= 12.00000000 dt=  0.20000000 beta=  0.60000000 gamma   0.40000000\n",
      " Append: t= 12.20000000 dt=  0.20000000 beta=  0.61000000 gamma   0.39000000\n",
      " Append: t= 12.40000000 dt=  0.20000000 beta=  0.62000000 gamma   0.38000000\n",
      " Append: t= 12.60000000 dt=  0.20000000 beta=  0.63000000 gamma   0.37000000\n",
      " Append: t= 12.80000000 dt=  0.20000000 beta=  0.64000000 gamma   0.36000000\n",
      " Append: t= 13.00000000 dt=  0.20000000 beta=  0.65000000 gamma   0.35000000\n",
      " Append: t= 13.20000000 dt=  0.20000000 beta=  0.66000000 gamma   0.34000000\n",
      " Append: t= 13.40000000 dt=  0.20000000 beta=  0.67000000 gamma   0.33000000\n",
      " Append: t= 13.60000000 dt=  0.20000000 beta=  0.68000000 gamma   0.32000000\n",
      " Append: t= 13.80000000 dt=  0.20000000 beta=  0.69000000 gamma   0.31000000\n",
      " Append: t= 14.00000000 dt=  0.20000000 beta=  0.70000000 gamma   0.30000000\n",
      " Append: t= 14.20000000 dt=  0.20000000 beta=  0.71000000 gamma   0.29000000\n",
      " Append: t= 14.40000000 dt=  0.20000000 beta=  0.72000000 gamma   0.28000000\n",
      " Append: t= 14.60000000 dt=  0.20000000 beta=  0.73000000 gamma   0.27000000\n",
      " Append: t= 14.80000000 dt=  0.20000000 beta=  0.74000000 gamma   0.26000000\n",
      " Append: t= 15.00000000 dt=  0.20000000 beta=  0.75000000 gamma   0.25000000\n",
      " Append: t= 15.20000000 dt=  0.20000000 beta=  0.76000000 gamma   0.24000000\n",
      " Append: t= 15.40000000 dt=  0.20000000 beta=  0.77000000 gamma   0.23000000\n",
      " Append: t= 15.60000000 dt=  0.20000000 beta=  0.78000000 gamma   0.22000000\n",
      " Append: t= 15.80000000 dt=  0.20000000 beta=  0.79000000 gamma   0.21000000\n",
      " Append: t= 16.00000000 dt=  0.20000000 beta=  0.80000000 gamma   0.20000000\n",
      " Append: t= 16.20000000 dt=  0.20000000 beta=  0.81000000 gamma   0.19000000\n",
      " Append: t= 16.40000000 dt=  0.20000000 beta=  0.82000000 gamma   0.18000000\n",
      " Append: t= 16.60000000 dt=  0.20000000 beta=  0.83000000 gamma   0.17000000\n",
      " Append: t= 16.80000000 dt=  0.20000000 beta=  0.84000000 gamma   0.16000000\n",
      " Append: t= 17.00000000 dt=  0.20000000 beta=  0.85000000 gamma   0.15000000\n",
      " Append: t= 17.20000000 dt=  0.20000000 beta=  0.86000000 gamma   0.14000000\n",
      " Append: t= 17.40000000 dt=  0.20000000 beta=  0.87000000 gamma   0.13000000\n",
      " Append: t= 17.60000000 dt=  0.20000000 beta=  0.88000000 gamma   0.12000000\n",
      " Append: t= 17.80000000 dt=  0.20000000 beta=  0.89000000 gamma   0.11000000\n",
      " Append: t= 18.00000000 dt=  0.20000000 beta=  0.90000000 gamma   0.10000000\n",
      " Append: t= 18.20000000 dt=  0.20000000 beta=  0.91000000 gamma   0.09000000\n",
      " Append: t= 18.40000000 dt=  0.20000000 beta=  0.92000000 gamma   0.08000000\n",
      " Append: t= 18.60000000 dt=  0.20000000 beta=  0.93000000 gamma   0.07000000\n",
      " Append: t= 18.80000000 dt=  0.20000000 beta=  0.94000000 gamma   0.06000000\n",
      " Append: t= 19.00000000 dt=  0.20000000 beta=  0.95000000 gamma   0.05000000\n",
      " Append: t= 19.20000000 dt=  0.20000000 beta=  0.96000000 gamma   0.04000000\n",
      " Append: t= 19.40000000 dt=  0.20000000 beta=  0.97000000 gamma   0.03000000\n",
      " Append: t= 19.60000000 dt=  0.20000000 beta=  0.98000000 gamma   0.02000000\n",
      " Append: t= 19.80000000 dt=  0.20000000 beta=  0.99000000 gamma   0.01000000\n"
     ]
    }
   ],
   "source": [
    "from qiskit.transpiler import generate_preset_pass_manager\n",
    "from qiskit.transpiler.preset_passmanagers import generate_preset_pass_manager\n",
    "\n",
    "T = 20 \n",
    "N = 100\n",
    "\n",
    "# This is the function you need to implement\n",
    "circ = form_circuit(N, T, ham)\n",
    "\n",
    "\n",
    "pm = generate_preset_pass_manager(optimization_level=3, basis_gates=[\"rz\",\"rx\",\"cx\"])\n",
    "circ = pm.run(circ)\n",
    "circ.draw(output=\"mpl\")\n",
    "\n",
    "pm = generate_preset_pass_manager(optimization_level=3, basis_gates=[\"rz\",\"rx\", \"cx\"])\n",
    "circ = pm.run(circ)\n",
    "# circ.draw(output=\"mpl\")"
   ]
  },
  {
   "cell_type": "code",
   "execution_count": 36,
   "id": "7d0868d1-651f-424d-84ec-f588e60fc0b0",
   "metadata": {},
   "outputs": [
    {
     "data": {
      "image/png": "[encoded data removed]",
      "text/plain": [
       "<Figure size 640x480 with 1 Axes>"
      ]
     },
     "execution_count": 36,
     "metadata": {},
     "output_type": "execute_result"
    }
   ],
   "source": [
    "nshots = 100000\n",
    "plot_histogram(sampler.run([circ], shots=nshots).result()[0].data.meas.get_counts())\n"
   ]
  },
  {
   "cell_type": "code",
   "execution_count": 37,
   "id": "7f7f9bae",
   "metadata": {},
   "outputs": [
    {
     "data": {
      "text/plain": [
       "'111'"
      ]
     },
     "execution_count": 37,
     "metadata": {},
     "output_type": "execute_result"
    }
   ],
   "source": [
    "samples = sampler.run([circ], shots=nshots).result()[0].data.meas.get_counts()\n",
    "max(samples, key=samples.get)"
   ]
  },
  {
   "cell_type": "markdown",
   "id": "bcaa5c52",
   "metadata": {},
   "source": [
    "# Validation\n",
    "How well does this match the exact result?"
   ]
  },
  {
   "cell_type": "code",
   "execution_count": 38,
   "id": "50c8d173",
   "metadata": {},
   "outputs": [
    {
     "data": {
      "text/plain": [
       "Text(0, 0.5, 'Energy')"
      ]
     },
     "execution_count": 38,
     "metadata": {},
     "output_type": "execute_result"
    },
    {
     "data": {
      "image/png": "[encoded data removed]",
      "text/plain": [
       "<Figure size 640x480 with 1 Axes>"
      ]
     },
     "metadata": {},
     "output_type": "display_data"
    }
   ],
   "source": [
    "import copy as cp\n",
    "configs = []\n",
    "energies = []\n",
    "conf = montecarlo.BitString(ham.N)\n",
    "for i in range(2**ham.N):\n",
    "    conf.set_integer_config(i)\n",
    "    configs.append(str(conf))\n",
    "    energies.append(ham.energy(conf))\n",
    "plt.bar(configs, energies)\n",
    "plt.xlabel('Configuration')\n",
    "plt.ylabel('Energy')\n"
   ]
  },
  {
   "cell_type": "markdown",
   "id": "803499ee",
   "metadata": {},
   "source": [
    "**Note:** Since 0 and 1 have opposite meanings between the classical and quantum examples (0 was spin down classically, while $\\ket{1}$ was the negative eigenvalue of $\\hat{z}$), the bitstrings should be opposite one another. For example, the classical state `0101` corresponds to the `1010` state. However, Qiskit prints the bitstrings from right to left, whereas we print ours from left to write, so that means `1010` corresponds to `1010`, and `101` corresponds to `010`. "
   ]
  },
  {
   "cell_type": "markdown",
   "id": "1f06c8bf",
   "metadata": {},
   "source": [
    "# **Question**: \n",
    "What are the probabilities for measuring the correct bitstring using the following number of time steps (i.e., values of `n_steps`):\n",
    "1.  `n_steps` = 3\n",
    "1.  `n_steps` = 4\n",
    "1.  `n_steps` = 8\n",
    "1.  `n_steps` = 10 "
   ]
  }
 ],
 "metadata": {
  "kernelspec": {
   "display_name": "x684_2025",
   "language": "python",
   "name": "python3"
  },
  "language_info": {
   "codemirror_mode": {
    "name": "ipython",
    "version": 3
   },
   "file_extension": ".py",
   "mimetype": "text/x-python",
   "name": "python",
   "nbconvert_exporter": "python",
   "pygments_lexer": "ipython3",
   "version": "3.11.11"
  }
 },
 "nbformat": 4,
 "nbformat_minor": 5
}
