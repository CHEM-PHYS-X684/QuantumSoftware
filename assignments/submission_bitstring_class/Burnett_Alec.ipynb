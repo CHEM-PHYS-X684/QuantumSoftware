{
 "cells": [
  {
   "cell_type": "markdown",
   "id": "4c56e266-772e-46a7-b6c0-cab8144ee539",
   "metadata": {},
   "source": [
    "# BitString Class \n",
    "\n",
    "Write a Class that implements a bit representation that provides the functionality requested in the following questions."
   ]
  },
  {
   "cell_type": "code",
   "execution_count": 51,
   "id": "bddbcdba-1386-4471-ae58-7f6ef940557d",
   "metadata": {
    "tags": []
   },
   "outputs": [],
   "source": [
    "import numpy as np\n",
    "import math             \n",
    "\n",
    "class BitString:\n",
    "    \"\"\"\n",
    "    Simple class to implement a config of bits\n",
    "    \"\"\"\n",
    "    def __init__(self, N):\n",
    "        self.N = N\n",
    "        self.config = np.zeros(N, dtype=int) \n",
    "        \n",
    "\n",
    "    def __str__(self):\n",
    "        return str(self.config)\n",
    "\n",
    "    def __repr__(self):\n",
    "        return f\"Bitstring((self.config.tolist))\"\n",
    "\n",
    "    def __eq__(self, other):        \n",
    "        return np.array_equal(self.config, other.config)\n",
    "\n",
    "    \n",
    "    def __len__(self):\n",
    "        return len(self.config)\n",
    "\n",
    "\n",
    "    def on(self):\n",
    "        count = 0\n",
    "        for i in self.config:\n",
    "            if i == 1:\n",
    "                count += 1\n",
    "        return count\n",
    "    \n",
    "    def off(self):\n",
    "        count = 0\n",
    "        for i in self.config:\n",
    "            if i == 0:\n",
    "                count += 1\n",
    "        return count\n",
    "    \n",
    "    def flip_site(self,i):\n",
    "        self.config[i] = 1 - self.config[i]\n",
    "        \n",
    "    \n",
    "    def int(self):\n",
    "        dec = 0\n",
    "        power = len(self.config) - 1  \n",
    "        for i in self.config:\n",
    "            dec = dec + i *(2**power) \n",
    "            power = power - 1\n",
    "        return dec\n",
    "\n",
    " \n",
    "\n",
    "    def set_config(self, s:list[int]):\n",
    "        self.config = list(s)\n",
    "        \n",
    "    def set_int_config(self, dec:int):\n",
    "        for i in range(-1,-self.N-1,-1):\n",
    "          curr_bit = dec % 2 \n",
    "          self.config[i]= curr_bit  \n",
    "          dec = dec//2 \n",
    "        return  self.config \n",
    "        \n",
    "    \n",
    "\n",
    "\n",
    "    \n",
    "\n",
    "\n",
    "\n"
   ]
  },
  {
   "cell_type": "markdown",
   "id": "412a2c97-a21f-49ea-a72a-b8c6d2ca490a",
   "metadata": {},
   "source": [
    "---\n",
    "\n",
    "**1. Create an zero `BitString` of length 8 and flip a few bits and print the output.**\n",
    "\n",
    "Methods needed:\n",
    "- `__str__()`\n",
    "- `flip()`\n",
    "- `__len__()`"
   ]
  },
  {
   "cell_type": "code",
   "execution_count": 52,
   "id": "fa614f11-1ec9-4f5f-8452-a62e5c7635db",
   "metadata": {
    "collapsed": true,
    "jupyter": {
     "outputs_hidden": true
    },
    "tags": []
   },
   "outputs": [
    {
     "name": "stdout",
     "output_type": "stream",
     "text": [
      " The following should be 0:\n",
      "[0 0 0 0 0 0 0 0]\n",
      " The following should have 0,2,7 bits flipped:\n",
      "[1 0 1 0 0 0 0 1]\n",
      " Length of bitstring:  8\n"
     ]
    }
   ],
   "source": [
    "my_bs = BitString(8)\n",
    "my_bs.flip_site(2)\n",
    "my_bs.flip_site(2)\n",
    "print(\" The following should be 0:\")\n",
    "print(my_bs)\n",
    "\n",
    "my_bs.flip_site(2)\n",
    "my_bs.flip_site(7)\n",
    "my_bs.flip_site(0)\n",
    "print(\" The following should have 0,2,7 bits flipped:\")\n",
    "print(my_bs)\n",
    "\n",
    "print(\" Length of bitstring: \", len(my_bs))\n",
    "assert(len(my_bs) == 8)"
   ]
  },
  {
   "cell_type": "markdown",
   "id": "794abfaf-a8bb-4d36-80a6-88f88dffb49b",
   "metadata": {},
   "source": [
    "---\n",
    "\n",
    "**2. Add a method that lets you directly set the value of the bitstring by providing a string of 0s and 1s:**\n",
    "\n",
    "Methods needed:\n",
    "- `set_config()`"
   ]
  },
  {
   "cell_type": "code",
   "execution_count": 53,
   "id": "4d896d0a-be94-4e02-b0ff-74a7dfca68a2",
   "metadata": {
    "tags": []
   },
   "outputs": [
    {
     "name": "stdout",
     "output_type": "stream",
     "text": [
      "[0, 1, 1, 0, 0, 1, 0, 0, 1, 0, 1, 0, 0]\n"
     ]
    }
   ],
   "source": [
    "my_bs = BitString(13)\n",
    "my_bs.set_config([0,1,1,0,0,1,0,0,1,0,1,0,0])\n",
    "print(my_bs)"
   ]
  },
  {
   "cell_type": "markdown",
   "id": "b96086df-639b-447d-a438-8fe1a7f42fe1",
   "metadata": {},
   "source": [
    "---\n",
    "\n",
    "**3. Add a method that returns number of `on` bits and one that returns the number of `off` bits.**\n",
    "\n",
    "Methods needed:\n",
    "- `on()`\n",
    "- `off()`"
   ]
  },
  {
   "cell_type": "code",
   "execution_count": 54,
   "id": "dfbf5a9b-54dc-428d-8f1f-e0f9e23a5ed2",
   "metadata": {},
   "outputs": [
    {
     "name": "stdout",
     "output_type": "stream",
     "text": [
      " on:   5\n",
      " off:  8\n"
     ]
    }
   ],
   "source": [
    "print(\" on:  \", my_bs.on())\n",
    "print(\" off: \", my_bs.off())\n",
    "assert(my_bs.on() == 5)\n",
    "assert(my_bs.off() == 8)"
   ]
  },
  {
   "cell_type": "markdown",
   "id": "bca221fd-22ce-48eb-b072-8fc59cb706ac",
   "metadata": {
    "tags": []
   },
   "source": [
    "---\n",
    "\n",
    "**4. Add a method that returns the associated integer (decimal).**\n",
    "\n",
    "Methods needed:\n",
    "- `int()`"
   ]
  },
  {
   "cell_type": "code",
   "execution_count": 55,
   "id": "b7bb3328-5bd3-462c-ad39-dde7516d151c",
   "metadata": {
    "tags": []
   },
   "outputs": [
    {
     "name": "stdout",
     "output_type": "stream",
     "text": [
      "3220\n"
     ]
    }
   ],
   "source": [
    "print(my_bs.int())\n",
    "assert(my_bs.int() == 3220)"
   ]
  },
  {
   "cell_type": "markdown",
   "id": "ecbb0843-eeae-4d14-a7af-7cf49696c6f3",
   "metadata": {
    "tags": []
   },
   "source": [
    "---\n",
    "**5. Add a method that lets you directly set the value of the bitstring by providing a decimal integer.** \n",
    "\n",
    "Also include  an optional keyword `digits` to let the user specify the length of the string.\n",
    "\n",
    "Methods needed:\n",
    "- `set_int_config()`"
   ]
  },
  {
   "cell_type": "code",
   "execution_count": 56,
   "id": "609be1a4-2335-464e-91c7-0ace2779ccbb",
   "metadata": {
    "tags": []
   },
   "outputs": [
    {
     "name": "stdout",
     "output_type": "stream",
     "text": [
      "[0 0 0 0 0 0 0 0 1 1 0 0 1 0 0 1 0 1 0 1]\n"
     ]
    }
   ],
   "source": [
    "my_bs = BitString(20)\n",
    "my_bs.set_int_config(3221)\n",
    "print(my_bs)\n",
    "\n",
    "# Let's make sure this worked:\n",
    "tmp = np.array([0,0,0,0,0,0,0,0,1,1,0,0,1,0,0,1,0,1,0,1])\n",
    "assert((my_bs.config == tmp).all())\n",
    "\n",
    "# We can provide an even stronger test here:\n",
    "for i in range(1000):\n",
    "    my_bs.set_int_config(i) # Converts from integer to binary\n",
    "    assert(my_bs.int() == i) # Converts back from binary to integer and tests"
   ]
  },
  {
   "cell_type": "markdown",
   "id": "1a336bb4-4446-4e42-956d-e49713a6cfd2",
   "metadata": {},
   "source": [
    "---\n",
    "\n",
    "**6. Overload equality operator**\n",
    "\n",
    "Methods needed:\n",
    "- `__eq__()`"
   ]
  },
  {
   "cell_type": "code",
   "execution_count": 57,
   "id": "ff7ce669-58be-4b66-a53b-08cd7e63eafc",
   "metadata": {},
   "outputs": [
    {
     "name": "stdout",
     "output_type": "stream",
     "text": [
      "[0, 1, 1, 0, 0, 1, 0, 1, 1, 0, 1, 0, 0] :  3252\n",
      "[0 1 1 0 0 1 0 1 1 0 1 0 0] :  3252\n"
     ]
    }
   ],
   "source": [
    "my_bs1 = BitString(13)\n",
    "my_bs1.set_config([0,1,1,0,0,1,0,1,1,0,1,0,0])\n",
    "print(my_bs1, \": \", my_bs1.int())\n",
    "\n",
    "my_bs2 = BitString(13)\n",
    "my_bs2.set_int_config(3252)\n",
    "print(my_bs2, \": \", my_bs2.int())\n",
    "\n",
    "\n",
    "assert(my_bs1 == my_bs2)\n",
    "\n",
    "my_bs2.flip_site(5)\n",
    "assert(my_bs1 != my_bs2)"
   ]
  },
  {
   "cell_type": "code",
   "execution_count": null,
   "id": "24e70870",
   "metadata": {},
   "outputs": [],
   "source": []
  }
 ],
 "metadata": {
  "kernelspec": {
   "display_name": "Python 3 (ipykernel)",
   "language": "python",
   "name": "python3"
  },
  "language_info": {
   "codemirror_mode": {
    "name": "ipython",
    "version": 3
   },
   "file_extension": ".py",
   "mimetype": "text/x-python",
   "name": "python",
   "nbconvert_exporter": "python",
   "pygments_lexer": "ipython3",
   "version": "3.11.7"
  }
 },
 "nbformat": 4,
 "nbformat_minor": 5
}
