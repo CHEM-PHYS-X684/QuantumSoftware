{
 "cells": [
  {
   "cell_type": "markdown",
   "metadata": {},
   "source": [
    "# Introduction to Python Classes\n",
    "\n",
    "Fundamental concepts of Object-Oriented Programming (OOP) in Python using classes:\n",
    "- Basic class structure\n",
    "- Attributes and methods\n",
    "- Inheritance\n",
    "- Best practices"
   ]
  },
  {
   "cell_type": "markdown",
   "metadata": {},
   "source": [
    "## What is a Class?\n",
    "\n",
    "A class is a blueprint for creating objects. It combines:\n",
    "- Data (attributes)\n",
    "- Behavior (methods)\n",
    "\n",
    "Let's start with a simple example:"
   ]
  },
  {
   "cell_type": "code",
   "execution_count": 1,
   "metadata": {},
   "outputs": [
    {
     "name": "stdout",
     "output_type": "stream",
     "text": [
      "Misty says woof!\n"
     ]
    }
   ],
   "source": [
    "class Dog:\n",
    "    def __init__(self, name, age):\n",
    "        self.name = name    # attribute\n",
    "        self.age = age      # attribute\n",
    "    \n",
    "    def bark(self):         # method\n",
    "        return f\"{self.name} says woof!\"\n",
    "\n",
    "# Creating an object\n",
    "misty = Dog(\"Misty\", 5)\n",
    "print(misty.bark())"
   ]
  },
  {
   "cell_type": "markdown",
   "metadata": {},
   "source": [
    "### Try it yourself!\n",
    "\n",
    "Create another dog object with different attributes:"
   ]
  },
  {
   "cell_type": "code",
   "execution_count": null,
   "metadata": {},
   "outputs": [],
   "source": [
    "# Your code here\n",
    "# Create a dog named \"Rex\" who is 3 years old"
   ]
  },
  {
   "cell_type": "markdown",
   "metadata": {},
   "source": [
    "## Adding More Methods\n",
    "\n",
    "Let's enhance our Dog class with more behaviors:"
   ]
  },
  {
   "cell_type": "code",
   "execution_count": null,
   "metadata": {},
   "outputs": [],
   "source": [
    "class Dog:\n",
    "    def __init__(self, name, age):\n",
    "        self.name = name\n",
    "        self.age = age\n",
    "        self.tricks = []\n",
    "    \n",
    "    def bark(self):\n",
    "        return f\"{self.name} says woof!\"\n",
    "    \n",
    "    def learn_trick(self, trick):\n",
    "        self.tricks.append(trick)\n",
    "        return f\"{self.name} learned to {trick}!\"\n",
    "    \n",
    "    def show_tricks(self):\n",
    "        if not self.tricks:\n",
    "            return f\"{self.name} doesn't know any tricks yet.\"\n",
    "        return f\"{self.name} knows these tricks: {', '.join(self.tricks)}\"\n",
    "\n",
    "# Let's try our enhanced Dog class\n",
    "max_dog = Dog(\"Max\", 2)\n",
    "print(max_dog.learn_trick(\"sit\"))\n",
    "print(max_dog.learn_trick(\"roll over\"))\n",
    "print(max_dog.learn_trick(\"roll over\"))\n",
    "print(max_dog.show_tricks())"
   ]
  },
  {
   "cell_type": "code",
   "execution_count": null,
   "metadata": {},
   "outputs": [],
   "source": [
    "print(max_dog.learn_trick(\"drive a comercial truck\"))\n",
    "print(max_dog.show_tricks())"
   ]
  },
  {
   "cell_type": "markdown",
   "metadata": {},
   "source": [
    "## Inheritance\n",
    "\n",
    "Inheritance allows us to create new classes based on existing ones. Let's create a hierarchy of animals:"
   ]
  },
  {
   "cell_type": "code",
   "execution_count": null,
   "metadata": {},
   "outputs": [],
   "source": [
    "class Animal:\n",
    "    def __init__(self, name):\n",
    "        self.name = name\n",
    "    \n",
    "    def speak(self):\n",
    "        pass\n",
    "\n",
    "class Cat(Animal):\n",
    "    def speak(self):\n",
    "        return f\"{self.name} says meow!\"\n",
    "\n",
    "class Dog(Animal):\n",
    "    def speak(self):\n",
    "        return f\"{self.name} says woof!\"\n",
    "\n",
    "# Create and test different animals\n",
    "kitty = Cat(\"Whiskers\")\n",
    "buddy = Dog(\"Buddy\")\n",
    "\n",
    "print(kitty.speak())\n",
    "print(buddy.speak())"
   ]
  },
  {
   "cell_type": "markdown",
   "metadata": {},
   "source": [
    "## Best Practices\n",
    "\n",
    "1. Use clear, descriptive names (PascalCase for classes)\n",
    "2. Keep classes focused on a single responsibility\n",
    "3. Document using docstrings\n",
    "4. Follow encapsulation principles\n",
    "5. Use inheritance appropriately\n",
    "\n",
    "Here's an example with proper documentation:"
   ]
  },
  {
   "cell_type": "code",
   "execution_count": null,
   "metadata": {},
   "outputs": [],
   "source": [
    "class Student:\n",
    "    \"\"\"A class representing a student in a school system.\n",
    "    \n",
    "    Attributes:\n",
    "        name (str): The student's full name\n",
    "        grade (int): The student's current grade level\n",
    "        courses (list): List of courses the student is enrolled in\n",
    "    \"\"\"\n",
    "    \n",
    "    def __init__(self, name, grade):\n",
    "        \"\"\"Initialize a new student.\n",
    "        \n",
    "        Args:\n",
    "            name (str): The student's full name\n",
    "            grade (int): The student's current grade level\n",
    "        \"\"\"\n",
    "        self.name = name\n",
    "        self.grade = grade\n",
    "        self.courses = []\n",
    "    \n",
    "    def enroll(self, course):\n",
    "        \"\"\"Enroll the student in a course.\n",
    "        \n",
    "        Args:\n",
    "            course (str): The name of the course to enroll in\n",
    "            \n",
    "        Returns:\n",
    "            str: Confirmation message\n",
    "        \"\"\"\n",
    "        self.courses.append(course)\n",
    "        return f\"{self.name} enrolled in {course}\"\n",
    "\n",
    "# Test the well-documented class\n",
    "student = Student(\"Alice Smith\", 10)\n",
    "print(student.enroll(\"QuantumSoftware1\"))\n",
    "\n",
    "# You can access the documentation\n",
    "help(Student)"
   ]
  }
 ],
 "metadata": {
  "kernelspec": {
   "display_name": "x684_2025",
   "language": "python",
   "name": "python3"
  },
  "language_info": {
   "codemirror_mode": {
    "name": "ipython",
    "version": 3
   },
   "file_extension": ".py",
   "mimetype": "text/x-python",
   "name": "python",
   "nbconvert_exporter": "python",
   "pygments_lexer": "ipython3",
   "version": "3.11.11"
  }
 },
 "nbformat": 4,
 "nbformat_minor": 4
}
